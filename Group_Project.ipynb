{
  "nbformat": 4,
  "nbformat_minor": 0,
  "metadata": {
    "colab": {
      "name": "Group-Project.ipynb",
      "version": "0.3.2",
      "provenance": [],
      "include_colab_link": true
    },
    "language_info": {
      "codemirror_mode": {
        "name": "ipython",
        "version": 2
      },
      "file_extension": ".py",
      "mimetype": "text/x-python",
      "name": "python",
      "nbconvert_exporter": "python",
      "pygments_lexer": "ipython2",
      "version": "2.7.15"
    },
    "kernelspec": {
      "display_name": "Python 2",
      "language": "python",
      "name": "python2"
    }
  },
  "cells": [
    {
      "cell_type": "markdown",
      "metadata": {
        "id": "view-in-github",
        "colab_type": "text"
      },
      "source": [
        "<a href=\"https://colab.research.google.com/github/pragyansharma24/Gun-Violence-in-United-States/blob/master/Group_Project.ipynb\" target=\"_parent\"><img src=\"https://colab.research.google.com/assets/colab-badge.svg\" alt=\"Open In Colab\"/></a>"
      ]
    },
    {
      "cell_type": "markdown",
      "metadata": {
        "colab_type": "text",
        "id": "X5TJFZS3NvoP"
      },
      "source": [
        "# Data Exploration - Guv Violence in USA"
      ]
    },
    {
      "cell_type": "code",
      "metadata": {
        "colab_type": "code",
        "id": "_47XgdtOPg0m",
        "colab": {}
      },
      "source": [
        "import pandas as pd\n",
        "import numpy as np"
      ],
      "execution_count": 0,
      "outputs": []
    },
    {
      "cell_type": "markdown",
      "metadata": {
        "colab_type": "text",
        "id": "JfaXGyAKyBph"
      },
      "source": [
        "## City Crime \n",
        "\n",
        "#### Introduction:\n",
        "\n",
        "#### Key variables:\n",
        "-- \n"
      ]
    },
    {
      "cell_type": "markdown",
      "metadata": {
        "id": "5int0_JX86Rp",
        "colab_type": "text"
      },
      "source": [
        "#### The dataset needs some preparation before we start exploring and visualizing the dataset further. In order to do so:\n",
        "- Column names will be replaced with shorter names \n",
        "- 'NAs' will be removed\n",
        "- Merging with latitude and longitude"
      ]
    },
    {
      "cell_type": "code",
      "metadata": {
        "colab_type": "code",
        "id": "Td0zRLyCOqzv",
        "scrolled": true,
        "colab": {}
      },
      "source": [
        "a = 'https://github.com/pragyansharma24/Gun-Violence-in-United-States/blob/master/datasets/Gun-Violence-in-United-States/developed.csv'"
      ],
      "execution_count": 0,
      "outputs": []
    },
    {
      "cell_type": "code",
      "metadata": {
        "id": "Y9JBOFOa-k0Y",
        "colab_type": "code",
        "outputId": "1723bf50-45e9-4602-f7e2-95445944622e",
        "colab": {
          "base_uri": "https://localhost:8080/",
          "height": 303
        }
      },
      "source": [
        "df = pd.read_csv(a)"
      ],
      "execution_count": 0,
      "outputs": [
        {
          "output_type": "error",
          "ename": "HTTPError",
          "evalue": "ignored",
          "traceback": [
            "\u001b[0;31m\u001b[0m",
            "\u001b[0;31mHTTPError\u001b[0mTraceback (most recent call last)",
            "\u001b[0;32m<ipython-input-12-88021af95f8d>\u001b[0m in \u001b[0;36m<module>\u001b[0;34m()\u001b[0m\n\u001b[0;32m----> 1\u001b[0;31m \u001b[0mdf\u001b[0m \u001b[0;34m=\u001b[0m \u001b[0mpd\u001b[0m\u001b[0;34m.\u001b[0m\u001b[0mread_csv\u001b[0m\u001b[0;34m(\u001b[0m\u001b[0ma\u001b[0m\u001b[0;34m)\u001b[0m\u001b[0;34m\u001b[0m\u001b[0m\n\u001b[0m",
            "\u001b[0;32m/usr/local/lib/python2.7/dist-packages/pandas/io/parsers.pyc\u001b[0m in \u001b[0;36mparser_f\u001b[0;34m(filepath_or_buffer, sep, delimiter, header, names, index_col, usecols, squeeze, prefix, mangle_dupe_cols, dtype, engine, converters, true_values, false_values, skipinitialspace, skiprows, skipfooter, nrows, na_values, keep_default_na, na_filter, verbose, skip_blank_lines, parse_dates, infer_datetime_format, keep_date_col, date_parser, dayfirst, iterator, chunksize, compression, thousands, decimal, lineterminator, quotechar, quoting, doublequote, escapechar, comment, encoding, dialect, tupleize_cols, error_bad_lines, warn_bad_lines, delim_whitespace, low_memory, memory_map, float_precision)\u001b[0m\n\u001b[1;32m    700\u001b[0m                     skip_blank_lines=skip_blank_lines)\n\u001b[1;32m    701\u001b[0m \u001b[0;34m\u001b[0m\u001b[0m\n\u001b[0;32m--> 702\u001b[0;31m         \u001b[0;32mreturn\u001b[0m \u001b[0m_read\u001b[0m\u001b[0;34m(\u001b[0m\u001b[0mfilepath_or_buffer\u001b[0m\u001b[0;34m,\u001b[0m \u001b[0mkwds\u001b[0m\u001b[0;34m)\u001b[0m\u001b[0;34m\u001b[0m\u001b[0m\n\u001b[0m\u001b[1;32m    703\u001b[0m \u001b[0;34m\u001b[0m\u001b[0m\n\u001b[1;32m    704\u001b[0m     \u001b[0mparser_f\u001b[0m\u001b[0;34m.\u001b[0m\u001b[0m__name__\u001b[0m \u001b[0;34m=\u001b[0m \u001b[0mname\u001b[0m\u001b[0;34m\u001b[0m\u001b[0m\n",
            "\u001b[0;32m/usr/local/lib/python2.7/dist-packages/pandas/io/parsers.pyc\u001b[0m in \u001b[0;36m_read\u001b[0;34m(filepath_or_buffer, kwds)\u001b[0m\n\u001b[1;32m    411\u001b[0m     \u001b[0mcompression\u001b[0m \u001b[0;34m=\u001b[0m \u001b[0m_infer_compression\u001b[0m\u001b[0;34m(\u001b[0m\u001b[0mfilepath_or_buffer\u001b[0m\u001b[0;34m,\u001b[0m \u001b[0mcompression\u001b[0m\u001b[0;34m)\u001b[0m\u001b[0;34m\u001b[0m\u001b[0m\n\u001b[1;32m    412\u001b[0m     filepath_or_buffer, _, compression, should_close = get_filepath_or_buffer(\n\u001b[0;32m--> 413\u001b[0;31m         filepath_or_buffer, encoding, compression)\n\u001b[0m\u001b[1;32m    414\u001b[0m     \u001b[0mkwds\u001b[0m\u001b[0;34m[\u001b[0m\u001b[0;34m'compression'\u001b[0m\u001b[0;34m]\u001b[0m \u001b[0;34m=\u001b[0m \u001b[0mcompression\u001b[0m\u001b[0;34m\u001b[0m\u001b[0m\n\u001b[1;32m    415\u001b[0m \u001b[0;34m\u001b[0m\u001b[0m\n",
            "\u001b[0;32m/usr/local/lib/python2.7/dist-packages/pandas/io/common.pyc\u001b[0m in \u001b[0;36mget_filepath_or_buffer\u001b[0;34m(filepath_or_buffer, encoding, compression, mode)\u001b[0m\n\u001b[1;32m    200\u001b[0m \u001b[0;34m\u001b[0m\u001b[0m\n\u001b[1;32m    201\u001b[0m     \u001b[0;32mif\u001b[0m \u001b[0m_is_url\u001b[0m\u001b[0;34m(\u001b[0m\u001b[0mfilepath_or_buffer\u001b[0m\u001b[0;34m)\u001b[0m\u001b[0;34m:\u001b[0m\u001b[0;34m\u001b[0m\u001b[0m\n\u001b[0;32m--> 202\u001b[0;31m         \u001b[0mreq\u001b[0m \u001b[0;34m=\u001b[0m \u001b[0m_urlopen\u001b[0m\u001b[0;34m(\u001b[0m\u001b[0mfilepath_or_buffer\u001b[0m\u001b[0;34m)\u001b[0m\u001b[0;34m\u001b[0m\u001b[0m\n\u001b[0m\u001b[1;32m    203\u001b[0m         \u001b[0mcontent_encoding\u001b[0m \u001b[0;34m=\u001b[0m \u001b[0mreq\u001b[0m\u001b[0;34m.\u001b[0m\u001b[0mheaders\u001b[0m\u001b[0;34m.\u001b[0m\u001b[0mget\u001b[0m\u001b[0;34m(\u001b[0m\u001b[0;34m'Content-Encoding'\u001b[0m\u001b[0;34m,\u001b[0m \u001b[0mNone\u001b[0m\u001b[0;34m)\u001b[0m\u001b[0;34m\u001b[0m\u001b[0m\n\u001b[1;32m    204\u001b[0m         \u001b[0;32mif\u001b[0m \u001b[0mcontent_encoding\u001b[0m \u001b[0;34m==\u001b[0m \u001b[0;34m'gzip'\u001b[0m\u001b[0;34m:\u001b[0m\u001b[0;34m\u001b[0m\u001b[0m\n",
            "\u001b[0;32m/usr/lib/python2.7/urllib2.pyc\u001b[0m in \u001b[0;36murlopen\u001b[0;34m(url, data, timeout, cafile, capath, cadefault, context)\u001b[0m\n\u001b[1;32m    152\u001b[0m     \u001b[0;32melse\u001b[0m\u001b[0;34m:\u001b[0m\u001b[0;34m\u001b[0m\u001b[0m\n\u001b[1;32m    153\u001b[0m         \u001b[0mopener\u001b[0m \u001b[0;34m=\u001b[0m \u001b[0m_opener\u001b[0m\u001b[0;34m\u001b[0m\u001b[0m\n\u001b[0;32m--> 154\u001b[0;31m     \u001b[0;32mreturn\u001b[0m \u001b[0mopener\u001b[0m\u001b[0;34m.\u001b[0m\u001b[0mopen\u001b[0m\u001b[0;34m(\u001b[0m\u001b[0murl\u001b[0m\u001b[0;34m,\u001b[0m \u001b[0mdata\u001b[0m\u001b[0;34m,\u001b[0m \u001b[0mtimeout\u001b[0m\u001b[0;34m)\u001b[0m\u001b[0;34m\u001b[0m\u001b[0m\n\u001b[0m\u001b[1;32m    155\u001b[0m \u001b[0;34m\u001b[0m\u001b[0m\n\u001b[1;32m    156\u001b[0m \u001b[0;32mdef\u001b[0m \u001b[0minstall_opener\u001b[0m\u001b[0;34m(\u001b[0m\u001b[0mopener\u001b[0m\u001b[0;34m)\u001b[0m\u001b[0;34m:\u001b[0m\u001b[0;34m\u001b[0m\u001b[0m\n",
            "\u001b[0;32m/usr/lib/python2.7/urllib2.pyc\u001b[0m in \u001b[0;36mopen\u001b[0;34m(self, fullurl, data, timeout)\u001b[0m\n\u001b[1;32m    433\u001b[0m         \u001b[0;32mfor\u001b[0m \u001b[0mprocessor\u001b[0m \u001b[0;32min\u001b[0m \u001b[0mself\u001b[0m\u001b[0;34m.\u001b[0m\u001b[0mprocess_response\u001b[0m\u001b[0;34m.\u001b[0m\u001b[0mget\u001b[0m\u001b[0;34m(\u001b[0m\u001b[0mprotocol\u001b[0m\u001b[0;34m,\u001b[0m \u001b[0;34m[\u001b[0m\u001b[0;34m]\u001b[0m\u001b[0;34m)\u001b[0m\u001b[0;34m:\u001b[0m\u001b[0;34m\u001b[0m\u001b[0m\n\u001b[1;32m    434\u001b[0m             \u001b[0mmeth\u001b[0m \u001b[0;34m=\u001b[0m \u001b[0mgetattr\u001b[0m\u001b[0;34m(\u001b[0m\u001b[0mprocessor\u001b[0m\u001b[0;34m,\u001b[0m \u001b[0mmeth_name\u001b[0m\u001b[0;34m)\u001b[0m\u001b[0;34m\u001b[0m\u001b[0m\n\u001b[0;32m--> 435\u001b[0;31m             \u001b[0mresponse\u001b[0m \u001b[0;34m=\u001b[0m \u001b[0mmeth\u001b[0m\u001b[0;34m(\u001b[0m\u001b[0mreq\u001b[0m\u001b[0;34m,\u001b[0m \u001b[0mresponse\u001b[0m\u001b[0;34m)\u001b[0m\u001b[0;34m\u001b[0m\u001b[0m\n\u001b[0m\u001b[1;32m    436\u001b[0m \u001b[0;34m\u001b[0m\u001b[0m\n\u001b[1;32m    437\u001b[0m         \u001b[0;32mreturn\u001b[0m \u001b[0mresponse\u001b[0m\u001b[0;34m\u001b[0m\u001b[0m\n",
            "\u001b[0;32m/usr/lib/python2.7/urllib2.pyc\u001b[0m in \u001b[0;36mhttp_response\u001b[0;34m(self, request, response)\u001b[0m\n\u001b[1;32m    546\u001b[0m         \u001b[0;32mif\u001b[0m \u001b[0;32mnot\u001b[0m \u001b[0;34m(\u001b[0m\u001b[0;36m200\u001b[0m \u001b[0;34m<=\u001b[0m \u001b[0mcode\u001b[0m \u001b[0;34m<\u001b[0m \u001b[0;36m300\u001b[0m\u001b[0;34m)\u001b[0m\u001b[0;34m:\u001b[0m\u001b[0;34m\u001b[0m\u001b[0m\n\u001b[1;32m    547\u001b[0m             response = self.parent.error(\n\u001b[0;32m--> 548\u001b[0;31m                 'http', request, response, code, msg, hdrs)\n\u001b[0m\u001b[1;32m    549\u001b[0m \u001b[0;34m\u001b[0m\u001b[0m\n\u001b[1;32m    550\u001b[0m         \u001b[0;32mreturn\u001b[0m \u001b[0mresponse\u001b[0m\u001b[0;34m\u001b[0m\u001b[0m\n",
            "\u001b[0;32m/usr/lib/python2.7/urllib2.pyc\u001b[0m in \u001b[0;36merror\u001b[0;34m(self, proto, *args)\u001b[0m\n\u001b[1;32m    471\u001b[0m         \u001b[0;32mif\u001b[0m \u001b[0mhttp_err\u001b[0m\u001b[0;34m:\u001b[0m\u001b[0;34m\u001b[0m\u001b[0m\n\u001b[1;32m    472\u001b[0m             \u001b[0margs\u001b[0m \u001b[0;34m=\u001b[0m \u001b[0;34m(\u001b[0m\u001b[0mdict\u001b[0m\u001b[0;34m,\u001b[0m \u001b[0;34m'default'\u001b[0m\u001b[0;34m,\u001b[0m \u001b[0;34m'http_error_default'\u001b[0m\u001b[0;34m)\u001b[0m \u001b[0;34m+\u001b[0m \u001b[0morig_args\u001b[0m\u001b[0;34m\u001b[0m\u001b[0m\n\u001b[0;32m--> 473\u001b[0;31m             \u001b[0;32mreturn\u001b[0m \u001b[0mself\u001b[0m\u001b[0;34m.\u001b[0m\u001b[0m_call_chain\u001b[0m\u001b[0;34m(\u001b[0m\u001b[0;34m*\u001b[0m\u001b[0margs\u001b[0m\u001b[0;34m)\u001b[0m\u001b[0;34m\u001b[0m\u001b[0m\n\u001b[0m\u001b[1;32m    474\u001b[0m \u001b[0;34m\u001b[0m\u001b[0m\n\u001b[1;32m    475\u001b[0m \u001b[0;31m# XXX probably also want an abstract factory that knows when it makes\u001b[0m\u001b[0;34m\u001b[0m\u001b[0;34m\u001b[0m\u001b[0m\n",
            "\u001b[0;32m/usr/lib/python2.7/urllib2.pyc\u001b[0m in \u001b[0;36m_call_chain\u001b[0;34m(self, chain, kind, meth_name, *args)\u001b[0m\n\u001b[1;32m    405\u001b[0m             \u001b[0mfunc\u001b[0m \u001b[0;34m=\u001b[0m \u001b[0mgetattr\u001b[0m\u001b[0;34m(\u001b[0m\u001b[0mhandler\u001b[0m\u001b[0;34m,\u001b[0m \u001b[0mmeth_name\u001b[0m\u001b[0;34m)\u001b[0m\u001b[0;34m\u001b[0m\u001b[0m\n\u001b[1;32m    406\u001b[0m \u001b[0;34m\u001b[0m\u001b[0m\n\u001b[0;32m--> 407\u001b[0;31m             \u001b[0mresult\u001b[0m \u001b[0;34m=\u001b[0m \u001b[0mfunc\u001b[0m\u001b[0;34m(\u001b[0m\u001b[0;34m*\u001b[0m\u001b[0margs\u001b[0m\u001b[0;34m)\u001b[0m\u001b[0;34m\u001b[0m\u001b[0m\n\u001b[0m\u001b[1;32m    408\u001b[0m             \u001b[0;32mif\u001b[0m \u001b[0mresult\u001b[0m \u001b[0;32mis\u001b[0m \u001b[0;32mnot\u001b[0m \u001b[0mNone\u001b[0m\u001b[0;34m:\u001b[0m\u001b[0;34m\u001b[0m\u001b[0m\n\u001b[1;32m    409\u001b[0m                 \u001b[0;32mreturn\u001b[0m \u001b[0mresult\u001b[0m\u001b[0;34m\u001b[0m\u001b[0m\n",
            "\u001b[0;32m/usr/lib/python2.7/urllib2.pyc\u001b[0m in \u001b[0;36mhttp_error_default\u001b[0;34m(self, req, fp, code, msg, hdrs)\u001b[0m\n\u001b[1;32m    554\u001b[0m \u001b[0;32mclass\u001b[0m \u001b[0mHTTPDefaultErrorHandler\u001b[0m\u001b[0;34m(\u001b[0m\u001b[0mBaseHandler\u001b[0m\u001b[0;34m)\u001b[0m\u001b[0;34m:\u001b[0m\u001b[0;34m\u001b[0m\u001b[0m\n\u001b[1;32m    555\u001b[0m     \u001b[0;32mdef\u001b[0m \u001b[0mhttp_error_default\u001b[0m\u001b[0;34m(\u001b[0m\u001b[0mself\u001b[0m\u001b[0;34m,\u001b[0m \u001b[0mreq\u001b[0m\u001b[0;34m,\u001b[0m \u001b[0mfp\u001b[0m\u001b[0;34m,\u001b[0m \u001b[0mcode\u001b[0m\u001b[0;34m,\u001b[0m \u001b[0mmsg\u001b[0m\u001b[0;34m,\u001b[0m \u001b[0mhdrs\u001b[0m\u001b[0;34m)\u001b[0m\u001b[0;34m:\u001b[0m\u001b[0;34m\u001b[0m\u001b[0m\n\u001b[0;32m--> 556\u001b[0;31m         \u001b[0;32mraise\u001b[0m \u001b[0mHTTPError\u001b[0m\u001b[0;34m(\u001b[0m\u001b[0mreq\u001b[0m\u001b[0;34m.\u001b[0m\u001b[0mget_full_url\u001b[0m\u001b[0;34m(\u001b[0m\u001b[0;34m)\u001b[0m\u001b[0;34m,\u001b[0m \u001b[0mcode\u001b[0m\u001b[0;34m,\u001b[0m \u001b[0mmsg\u001b[0m\u001b[0;34m,\u001b[0m \u001b[0mhdrs\u001b[0m\u001b[0;34m,\u001b[0m \u001b[0mfp\u001b[0m\u001b[0;34m)\u001b[0m\u001b[0;34m\u001b[0m\u001b[0m\n\u001b[0m\u001b[1;32m    557\u001b[0m \u001b[0;34m\u001b[0m\u001b[0m\n\u001b[1;32m    558\u001b[0m \u001b[0;32mclass\u001b[0m \u001b[0mHTTPRedirectHandler\u001b[0m\u001b[0;34m(\u001b[0m\u001b[0mBaseHandler\u001b[0m\u001b[0;34m)\u001b[0m\u001b[0;34m:\u001b[0m\u001b[0;34m\u001b[0m\u001b[0m\n",
            "\u001b[0;31mHTTPError\u001b[0m: HTTP Error 404: Not Found"
          ]
        }
      ]
    },
    {
      "cell_type": "code",
      "metadata": {
        "id": "YJ75paRt-B4L",
        "colab_type": "code",
        "colab": {}
      },
      "source": [
        ""
      ],
      "execution_count": 0,
      "outputs": []
    },
    {
      "cell_type": "code",
      "metadata": {
        "scrolled": true,
        "id": "AqdmfLx286Rv",
        "colab_type": "code",
        "outputId": "8ff73a28-81ec-403c-93dc-5e7b125c81b3",
        "colab": {}
      },
      "source": [
        "# Renaming columns\n",
        "mass_shoot.rename(columns={'Incident Date':'Date','City Or County':'City', '# Killed':'num_Killed', '# Injured':'num_Injured'}, inplace=True)\n",
        "mass_shoot.head()"
      ],
      "execution_count": 0,
      "outputs": [
        {
          "output_type": "execute_result",
          "data": {
            "text/html": [
              "<div>\n",
              "<style scoped>\n",
              "    .dataframe tbody tr th:only-of-type {\n",
              "        vertical-align: middle;\n",
              "    }\n",
              "\n",
              "    .dataframe tbody tr th {\n",
              "        vertical-align: top;\n",
              "    }\n",
              "\n",
              "    .dataframe thead th {\n",
              "        text-align: right;\n",
              "    }\n",
              "</style>\n",
              "<table border=\"1\" class=\"dataframe\">\n",
              "  <thead>\n",
              "    <tr style=\"text-align: right;\">\n",
              "      <th></th>\n",
              "      <th>Date</th>\n",
              "      <th>State</th>\n",
              "      <th>City</th>\n",
              "      <th>Address</th>\n",
              "      <th>num_Killed</th>\n",
              "      <th>num_Injured</th>\n",
              "      <th>Operations</th>\n",
              "    </tr>\n",
              "  </thead>\n",
              "  <tbody>\n",
              "    <tr>\n",
              "      <th>0</th>\n",
              "      <td>December 31, 2013</td>\n",
              "      <td>New York</td>\n",
              "      <td>Brooklyn</td>\n",
              "      <td>60 Glenmore Ave</td>\n",
              "      <td>0</td>\n",
              "      <td>6</td>\n",
              "      <td>NaN</td>\n",
              "    </tr>\n",
              "    <tr>\n",
              "      <th>1</th>\n",
              "      <td>December 28, 2013</td>\n",
              "      <td>Alabama</td>\n",
              "      <td>Montgomery</td>\n",
              "      <td>954 Highland Ave</td>\n",
              "      <td>3</td>\n",
              "      <td>5</td>\n",
              "      <td>NaN</td>\n",
              "    </tr>\n",
              "    <tr>\n",
              "      <th>2</th>\n",
              "      <td>December 26, 2013</td>\n",
              "      <td>Louisiana</td>\n",
              "      <td>Slidell</td>\n",
              "      <td>2144 First St</td>\n",
              "      <td>2</td>\n",
              "      <td>6</td>\n",
              "      <td>NaN</td>\n",
              "    </tr>\n",
              "    <tr>\n",
              "      <th>3</th>\n",
              "      <td>December 26, 2013</td>\n",
              "      <td>Louisiana</td>\n",
              "      <td>Lockport</td>\n",
              "      <td>313 Tenth St</td>\n",
              "      <td>3</td>\n",
              "      <td>3</td>\n",
              "      <td>NaN</td>\n",
              "    </tr>\n",
              "    <tr>\n",
              "      <th>4</th>\n",
              "      <td>December 25, 2013</td>\n",
              "      <td>New Jersey</td>\n",
              "      <td>Irvington</td>\n",
              "      <td>Nye Avenue and 21st Street</td>\n",
              "      <td>3</td>\n",
              "      <td>2</td>\n",
              "      <td>NaN</td>\n",
              "    </tr>\n",
              "  </tbody>\n",
              "</table>\n",
              "</div>"
            ],
            "text/plain": [
              "                Date       State        City                     Address  \\\n",
              "0  December 31, 2013    New York    Brooklyn             60 Glenmore Ave   \n",
              "1  December 28, 2013     Alabama  Montgomery            954 Highland Ave   \n",
              "2  December 26, 2013   Louisiana     Slidell               2144 First St   \n",
              "3  December 26, 2013   Louisiana    Lockport                313 Tenth St   \n",
              "4  December 25, 2013  New Jersey   Irvington  Nye Avenue and 21st Street   \n",
              "\n",
              "   num_Killed  num_Injured  Operations  \n",
              "0           0            6         NaN  \n",
              "1           3            5         NaN  \n",
              "2           2            6         NaN  \n",
              "3           3            3         NaN  \n",
              "4           3            2         NaN  "
            ]
          },
          "metadata": {
            "tags": []
          },
          "execution_count": 283
        }
      ]
    },
    {
      "cell_type": "code",
      "metadata": {
        "id": "wjacwkV586Rz",
        "colab_type": "code",
        "outputId": "df781267-61d5-4615-8a07-9ec0e6d64205",
        "colab": {}
      },
      "source": [
        "len(mass_shoot)"
      ],
      "execution_count": 0,
      "outputs": [
        {
          "output_type": "execute_result",
          "data": {
            "text/plain": [
              "2056"
            ]
          },
          "metadata": {
            "tags": []
          },
          "execution_count": 284
        }
      ]
    },
    {
      "cell_type": "code",
      "metadata": {
        "id": "ENOC1zaK86R3",
        "colab_type": "code",
        "outputId": "d89a6405-73fe-47db-8090-bd1aa099911e",
        "colab": {}
      },
      "source": [
        "# Reading in data for latitudes and longitudes for all the cities in US\n",
        "cities = pd.read_csv(\"uscitiesv1.5.csv\")\n",
        "cities_sub = cities[['city','state_id', 'state_name','lat', 'lng']]\n",
        "cities_sub.head()"
      ],
      "execution_count": 0,
      "outputs": [
        {
          "output_type": "execute_result",
          "data": {
            "text/html": [
              "<div>\n",
              "<style scoped>\n",
              "    .dataframe tbody tr th:only-of-type {\n",
              "        vertical-align: middle;\n",
              "    }\n",
              "\n",
              "    .dataframe tbody tr th {\n",
              "        vertical-align: top;\n",
              "    }\n",
              "\n",
              "    .dataframe thead th {\n",
              "        text-align: right;\n",
              "    }\n",
              "</style>\n",
              "<table border=\"1\" class=\"dataframe\">\n",
              "  <thead>\n",
              "    <tr style=\"text-align: right;\">\n",
              "      <th></th>\n",
              "      <th>city</th>\n",
              "      <th>state_id</th>\n",
              "      <th>state_name</th>\n",
              "      <th>lat</th>\n",
              "      <th>lng</th>\n",
              "    </tr>\n",
              "  </thead>\n",
              "  <tbody>\n",
              "    <tr>\n",
              "      <th>0</th>\n",
              "      <td>Prairie Ridge</td>\n",
              "      <td>WA</td>\n",
              "      <td>Washington</td>\n",
              "      <td>47.1443</td>\n",
              "      <td>-122.1408</td>\n",
              "    </tr>\n",
              "    <tr>\n",
              "      <th>1</th>\n",
              "      <td>Edison</td>\n",
              "      <td>WA</td>\n",
              "      <td>Washington</td>\n",
              "      <td>48.5602</td>\n",
              "      <td>-122.4311</td>\n",
              "    </tr>\n",
              "    <tr>\n",
              "      <th>2</th>\n",
              "      <td>Packwood</td>\n",
              "      <td>WA</td>\n",
              "      <td>Washington</td>\n",
              "      <td>46.6085</td>\n",
              "      <td>-121.6702</td>\n",
              "    </tr>\n",
              "    <tr>\n",
              "      <th>3</th>\n",
              "      <td>Wautauga Beach</td>\n",
              "      <td>WA</td>\n",
              "      <td>Washington</td>\n",
              "      <td>47.5862</td>\n",
              "      <td>-122.5482</td>\n",
              "    </tr>\n",
              "    <tr>\n",
              "      <th>4</th>\n",
              "      <td>Harper</td>\n",
              "      <td>WA</td>\n",
              "      <td>Washington</td>\n",
              "      <td>47.5207</td>\n",
              "      <td>-122.5196</td>\n",
              "    </tr>\n",
              "  </tbody>\n",
              "</table>\n",
              "</div>"
            ],
            "text/plain": [
              "             city state_id  state_name      lat       lng\n",
              "0   Prairie Ridge       WA  Washington  47.1443 -122.1408\n",
              "1          Edison       WA  Washington  48.5602 -122.4311\n",
              "2        Packwood       WA  Washington  46.6085 -121.6702\n",
              "3  Wautauga Beach       WA  Washington  47.5862 -122.5482\n",
              "4          Harper       WA  Washington  47.5207 -122.5196"
            ]
          },
          "metadata": {
            "tags": []
          },
          "execution_count": 298
        }
      ]
    },
    {
      "cell_type": "code",
      "metadata": {
        "id": "FilbPrfV86R6",
        "colab_type": "code",
        "outputId": "d191937a-0322-4204-907d-935e965bead8",
        "colab": {}
      },
      "source": [
        "# Merging data for mass shootings and location data for cities\n",
        "city_data = mass_shoot.merge(cities_sub,how='left', left_on=['City', 'State'], right_on=['city', 'state_name'])\n",
        "city_data.head()"
      ],
      "execution_count": 0,
      "outputs": [
        {
          "output_type": "execute_result",
          "data": {
            "text/html": [
              "<div>\n",
              "<style scoped>\n",
              "    .dataframe tbody tr th:only-of-type {\n",
              "        vertical-align: middle;\n",
              "    }\n",
              "\n",
              "    .dataframe tbody tr th {\n",
              "        vertical-align: top;\n",
              "    }\n",
              "\n",
              "    .dataframe thead th {\n",
              "        text-align: right;\n",
              "    }\n",
              "</style>\n",
              "<table border=\"1\" class=\"dataframe\">\n",
              "  <thead>\n",
              "    <tr style=\"text-align: right;\">\n",
              "      <th></th>\n",
              "      <th>Date</th>\n",
              "      <th>State</th>\n",
              "      <th>City</th>\n",
              "      <th>Address</th>\n",
              "      <th>num_Killed</th>\n",
              "      <th>num_Injured</th>\n",
              "      <th>Operations</th>\n",
              "      <th>city</th>\n",
              "      <th>state_id</th>\n",
              "      <th>state_name</th>\n",
              "      <th>lat</th>\n",
              "      <th>lng</th>\n",
              "    </tr>\n",
              "  </thead>\n",
              "  <tbody>\n",
              "    <tr>\n",
              "      <th>0</th>\n",
              "      <td>December 31, 2013</td>\n",
              "      <td>New York</td>\n",
              "      <td>Brooklyn</td>\n",
              "      <td>60 Glenmore Ave</td>\n",
              "      <td>0</td>\n",
              "      <td>6</td>\n",
              "      <td>NaN</td>\n",
              "      <td>Brooklyn</td>\n",
              "      <td>NY</td>\n",
              "      <td>New York</td>\n",
              "      <td>40.6501</td>\n",
              "      <td>-73.9496</td>\n",
              "    </tr>\n",
              "    <tr>\n",
              "      <th>1</th>\n",
              "      <td>December 28, 2013</td>\n",
              "      <td>Alabama</td>\n",
              "      <td>Montgomery</td>\n",
              "      <td>954 Highland Ave</td>\n",
              "      <td>3</td>\n",
              "      <td>5</td>\n",
              "      <td>NaN</td>\n",
              "      <td>Montgomery</td>\n",
              "      <td>AL</td>\n",
              "      <td>Alabama</td>\n",
              "      <td>32.3470</td>\n",
              "      <td>-86.2663</td>\n",
              "    </tr>\n",
              "    <tr>\n",
              "      <th>2</th>\n",
              "      <td>December 26, 2013</td>\n",
              "      <td>Louisiana</td>\n",
              "      <td>Slidell</td>\n",
              "      <td>2144 First St</td>\n",
              "      <td>2</td>\n",
              "      <td>6</td>\n",
              "      <td>NaN</td>\n",
              "      <td>Slidell</td>\n",
              "      <td>LA</td>\n",
              "      <td>Louisiana</td>\n",
              "      <td>30.2882</td>\n",
              "      <td>-89.7826</td>\n",
              "    </tr>\n",
              "    <tr>\n",
              "      <th>3</th>\n",
              "      <td>December 26, 2013</td>\n",
              "      <td>Louisiana</td>\n",
              "      <td>Lockport</td>\n",
              "      <td>313 Tenth St</td>\n",
              "      <td>3</td>\n",
              "      <td>3</td>\n",
              "      <td>NaN</td>\n",
              "      <td>Lockport</td>\n",
              "      <td>LA</td>\n",
              "      <td>Louisiana</td>\n",
              "      <td>29.6418</td>\n",
              "      <td>-90.5376</td>\n",
              "    </tr>\n",
              "    <tr>\n",
              "      <th>4</th>\n",
              "      <td>December 25, 2013</td>\n",
              "      <td>New Jersey</td>\n",
              "      <td>Irvington</td>\n",
              "      <td>Nye Avenue and 21st Street</td>\n",
              "      <td>3</td>\n",
              "      <td>2</td>\n",
              "      <td>NaN</td>\n",
              "      <td>NaN</td>\n",
              "      <td>NaN</td>\n",
              "      <td>NaN</td>\n",
              "      <td>NaN</td>\n",
              "      <td>NaN</td>\n",
              "    </tr>\n",
              "  </tbody>\n",
              "</table>\n",
              "</div>"
            ],
            "text/plain": [
              "                Date       State        City                     Address  \\\n",
              "0  December 31, 2013    New York    Brooklyn             60 Glenmore Ave   \n",
              "1  December 28, 2013     Alabama  Montgomery            954 Highland Ave   \n",
              "2  December 26, 2013   Louisiana     Slidell               2144 First St   \n",
              "3  December 26, 2013   Louisiana    Lockport                313 Tenth St   \n",
              "4  December 25, 2013  New Jersey   Irvington  Nye Avenue and 21st Street   \n",
              "\n",
              "   num_Killed  num_Injured  Operations        city state_id state_name  \\\n",
              "0           0            6         NaN    Brooklyn       NY   New York   \n",
              "1           3            5         NaN  Montgomery       AL    Alabama   \n",
              "2           2            6         NaN     Slidell       LA  Louisiana   \n",
              "3           3            3         NaN    Lockport       LA  Louisiana   \n",
              "4           3            2         NaN         NaN      NaN        NaN   \n",
              "\n",
              "       lat      lng  \n",
              "0  40.6501 -73.9496  \n",
              "1  32.3470 -86.2663  \n",
              "2  30.2882 -89.7826  \n",
              "3  29.6418 -90.5376  \n",
              "4      NaN      NaN  "
            ]
          },
          "metadata": {
            "tags": []
          },
          "execution_count": 299
        }
      ]
    },
    {
      "cell_type": "code",
      "metadata": {
        "id": "zUTQzldL86R9",
        "colab_type": "code",
        "colab": {}
      },
      "source": [
        "city_data.drop(columns=['Operations', 'city', 'state_name','state_id'], inplace=True)"
      ],
      "execution_count": 0,
      "outputs": []
    },
    {
      "cell_type": "code",
      "metadata": {
        "id": "KWdKuSc886R_",
        "colab_type": "code",
        "outputId": "76cdf4d6-9e72-4377-d75f-e0192f8c6b3c",
        "colab": {}
      },
      "source": [
        "len(city_data)"
      ],
      "execution_count": 0,
      "outputs": [
        {
          "output_type": "execute_result",
          "data": {
            "text/plain": [
              "2056"
            ]
          },
          "metadata": {
            "tags": []
          },
          "execution_count": 301
        }
      ]
    },
    {
      "cell_type": "code",
      "metadata": {
        "id": "rWlZgzhu86SD",
        "colab_type": "code",
        "outputId": "eb519352-c5e7-4f6b-a188-e12b01ff460b",
        "colab": {}
      },
      "source": [
        "# Checking for NAs\n",
        "city_data.isna().sum()"
      ],
      "execution_count": 0,
      "outputs": [
        {
          "output_type": "execute_result",
          "data": {
            "text/plain": [
              "Date             0\n",
              "State            0\n",
              "City             0\n",
              "Address          8\n",
              "num_Killed       0\n",
              "num_Injured      0\n",
              "lat            134\n",
              "lng            134\n",
              "dtype: int64"
            ]
          },
          "metadata": {
            "tags": []
          },
          "execution_count": 302
        }
      ]
    },
    {
      "cell_type": "code",
      "metadata": {
        "id": "cHYdUy5_86SG",
        "colab_type": "code",
        "outputId": "3177e721-0aae-4afe-8edc-a1964b0685e5",
        "colab": {}
      },
      "source": [
        "city_data = city_data.dropna()\n",
        "city_data.head()"
      ],
      "execution_count": 0,
      "outputs": [
        {
          "output_type": "execute_result",
          "data": {
            "text/html": [
              "<div>\n",
              "<style scoped>\n",
              "    .dataframe tbody tr th:only-of-type {\n",
              "        vertical-align: middle;\n",
              "    }\n",
              "\n",
              "    .dataframe tbody tr th {\n",
              "        vertical-align: top;\n",
              "    }\n",
              "\n",
              "    .dataframe thead th {\n",
              "        text-align: right;\n",
              "    }\n",
              "</style>\n",
              "<table border=\"1\" class=\"dataframe\">\n",
              "  <thead>\n",
              "    <tr style=\"text-align: right;\">\n",
              "      <th></th>\n",
              "      <th>Date</th>\n",
              "      <th>State</th>\n",
              "      <th>City</th>\n",
              "      <th>Address</th>\n",
              "      <th>num_Killed</th>\n",
              "      <th>num_Injured</th>\n",
              "      <th>lat</th>\n",
              "      <th>lng</th>\n",
              "    </tr>\n",
              "  </thead>\n",
              "  <tbody>\n",
              "    <tr>\n",
              "      <th>0</th>\n",
              "      <td>December 31, 2013</td>\n",
              "      <td>New York</td>\n",
              "      <td>Brooklyn</td>\n",
              "      <td>60 Glenmore Ave</td>\n",
              "      <td>0</td>\n",
              "      <td>6</td>\n",
              "      <td>40.6501</td>\n",
              "      <td>-73.9496</td>\n",
              "    </tr>\n",
              "    <tr>\n",
              "      <th>1</th>\n",
              "      <td>December 28, 2013</td>\n",
              "      <td>Alabama</td>\n",
              "      <td>Montgomery</td>\n",
              "      <td>954 Highland Ave</td>\n",
              "      <td>3</td>\n",
              "      <td>5</td>\n",
              "      <td>32.3470</td>\n",
              "      <td>-86.2663</td>\n",
              "    </tr>\n",
              "    <tr>\n",
              "      <th>2</th>\n",
              "      <td>December 26, 2013</td>\n",
              "      <td>Louisiana</td>\n",
              "      <td>Slidell</td>\n",
              "      <td>2144 First St</td>\n",
              "      <td>2</td>\n",
              "      <td>6</td>\n",
              "      <td>30.2882</td>\n",
              "      <td>-89.7826</td>\n",
              "    </tr>\n",
              "    <tr>\n",
              "      <th>3</th>\n",
              "      <td>December 26, 2013</td>\n",
              "      <td>Louisiana</td>\n",
              "      <td>Lockport</td>\n",
              "      <td>313 Tenth St</td>\n",
              "      <td>3</td>\n",
              "      <td>3</td>\n",
              "      <td>29.6418</td>\n",
              "      <td>-90.5376</td>\n",
              "    </tr>\n",
              "    <tr>\n",
              "      <th>5</th>\n",
              "      <td>December 25, 2013</td>\n",
              "      <td>New York</td>\n",
              "      <td>Medford</td>\n",
              "      <td>33A Cedarhurst Ave</td>\n",
              "      <td>1</td>\n",
              "      <td>3</td>\n",
              "      <td>40.8220</td>\n",
              "      <td>-72.9859</td>\n",
              "    </tr>\n",
              "  </tbody>\n",
              "</table>\n",
              "</div>"
            ],
            "text/plain": [
              "                Date      State        City             Address  num_Killed  \\\n",
              "0  December 31, 2013   New York    Brooklyn     60 Glenmore Ave           0   \n",
              "1  December 28, 2013    Alabama  Montgomery    954 Highland Ave           3   \n",
              "2  December 26, 2013  Louisiana     Slidell       2144 First St           2   \n",
              "3  December 26, 2013  Louisiana    Lockport        313 Tenth St           3   \n",
              "5  December 25, 2013   New York     Medford  33A Cedarhurst Ave           1   \n",
              "\n",
              "   num_Injured      lat      lng  \n",
              "0            6  40.6501 -73.9496  \n",
              "1            5  32.3470 -86.2663  \n",
              "2            6  30.2882 -89.7826  \n",
              "3            3  29.6418 -90.5376  \n",
              "5            3  40.8220 -72.9859  "
            ]
          },
          "metadata": {
            "tags": []
          },
          "execution_count": 307
        }
      ]
    },
    {
      "cell_type": "markdown",
      "metadata": {
        "id": "R-DkKdKX86SJ",
        "colab_type": "text"
      },
      "source": [
        "### Appplication"
      ]
    },
    {
      "cell_type": "markdown",
      "metadata": {
        "id": "1Nzx-ZF-86SK",
        "colab_type": "text"
      },
      "source": [
        "## World Crime\n",
        "\n",
        "#### The dataset needs some preparation before we start exploring and visualizing the dataset further. In order to do so:\n",
        "- Column names will be replaced with shorter names \n",
        "- 'NA' will be removed \n"
      ]
    },
    {
      "cell_type": "code",
      "metadata": {
        "id": "cyLqazye86SK",
        "colab_type": "code",
        "outputId": "2723ac44-1307-4b0a-9aa5-e60aeff13224",
        "colab": {}
      },
      "source": [
        "# Reading in data for world crimes\n",
        "world_crime = pd.read_csv(\"world_crime.csv\")\n",
        "world_crime.head()"
      ],
      "execution_count": 0,
      "outputs": [
        {
          "output_type": "execute_result",
          "data": {
            "text/html": [
              "<div>\n",
              "<style scoped>\n",
              "    .dataframe tbody tr th:only-of-type {\n",
              "        vertical-align: middle;\n",
              "    }\n",
              "\n",
              "    .dataframe tbody tr th {\n",
              "        vertical-align: top;\n",
              "    }\n",
              "\n",
              "    .dataframe thead th {\n",
              "        text-align: right;\n",
              "    }\n",
              "</style>\n",
              "<table border=\"1\" class=\"dataframe\">\n",
              "  <thead>\n",
              "    <tr style=\"text-align: right;\">\n",
              "      <th></th>\n",
              "      <th>Country/Territory</th>\n",
              "      <th>ISO code</th>\n",
              "      <th>Source</th>\n",
              "      <th>% of homicides by firearm</th>\n",
              "      <th>Number of homicides by firearm</th>\n",
              "      <th>Homicide by firearm rate per 100,000 pop</th>\n",
              "      <th>Rank by rate of ownership</th>\n",
              "      <th>Average firearms per 100 people</th>\n",
              "      <th>Average total all civilian firearms</th>\n",
              "    </tr>\n",
              "  </thead>\n",
              "  <tbody>\n",
              "    <tr>\n",
              "      <th>0</th>\n",
              "      <td>Albania</td>\n",
              "      <td>AL</td>\n",
              "      <td>CTS</td>\n",
              "      <td>65.9</td>\n",
              "      <td>56.0</td>\n",
              "      <td>1.76</td>\n",
              "      <td>70.0</td>\n",
              "      <td>8.6</td>\n",
              "      <td>270000.0</td>\n",
              "    </tr>\n",
              "    <tr>\n",
              "      <th>1</th>\n",
              "      <td>Algeria</td>\n",
              "      <td>DZ</td>\n",
              "      <td>CTS</td>\n",
              "      <td>4.8</td>\n",
              "      <td>20.0</td>\n",
              "      <td>0.06</td>\n",
              "      <td>78.0</td>\n",
              "      <td>7.6</td>\n",
              "      <td>1900000.0</td>\n",
              "    </tr>\n",
              "    <tr>\n",
              "      <th>2</th>\n",
              "      <td>Angola</td>\n",
              "      <td>AO</td>\n",
              "      <td>NaN</td>\n",
              "      <td>NaN</td>\n",
              "      <td>NaN</td>\n",
              "      <td>NaN</td>\n",
              "      <td>34.0</td>\n",
              "      <td>17.3</td>\n",
              "      <td>2800000.0</td>\n",
              "    </tr>\n",
              "    <tr>\n",
              "      <th>3</th>\n",
              "      <td>Anguilla</td>\n",
              "      <td>AI</td>\n",
              "      <td>WHO-MDB</td>\n",
              "      <td>24.0</td>\n",
              "      <td>1.0</td>\n",
              "      <td>7.14</td>\n",
              "      <td>NaN</td>\n",
              "      <td>NaN</td>\n",
              "      <td>NaN</td>\n",
              "    </tr>\n",
              "    <tr>\n",
              "      <th>4</th>\n",
              "      <td>Argentina</td>\n",
              "      <td>AR</td>\n",
              "      <td>Ministry of Justice</td>\n",
              "      <td>52.0</td>\n",
              "      <td>1198.0</td>\n",
              "      <td>3.02</td>\n",
              "      <td>62.0</td>\n",
              "      <td>10.2</td>\n",
              "      <td>3950000.0</td>\n",
              "    </tr>\n",
              "  </tbody>\n",
              "</table>\n",
              "</div>"
            ],
            "text/plain": [
              "  Country/Territory ISO code               Source  % of homicides by firearm  \\\n",
              "0           Albania       AL                  CTS                       65.9   \n",
              "1           Algeria       DZ                  CTS                        4.8   \n",
              "2            Angola       AO                  NaN                        NaN   \n",
              "3          Anguilla       AI              WHO-MDB                       24.0   \n",
              "4         Argentina       AR  Ministry of Justice                       52.0   \n",
              "\n",
              "   Number of homicides by firearm  Homicide by firearm rate per 100,000 pop  \\\n",
              "0                            56.0                                      1.76   \n",
              "1                            20.0                                      0.06   \n",
              "2                             NaN                                       NaN   \n",
              "3                             1.0                                      7.14   \n",
              "4                          1198.0                                      3.02   \n",
              "\n",
              "   Rank by rate of ownership  Average firearms per 100 people  \\\n",
              "0                       70.0                              8.6   \n",
              "1                       78.0                              7.6   \n",
              "2                       34.0                             17.3   \n",
              "3                        NaN                              NaN   \n",
              "4                       62.0                             10.2   \n",
              "\n",
              "   Average total all civilian firearms  \n",
              "0                             270000.0  \n",
              "1                            1900000.0  \n",
              "2                            2800000.0  \n",
              "3                                  NaN  \n",
              "4                            3950000.0  "
            ]
          },
          "metadata": {
            "tags": []
          },
          "execution_count": 200
        }
      ]
    },
    {
      "cell_type": "code",
      "metadata": {
        "id": "-ZZ1OKjI86SQ",
        "colab_type": "code",
        "colab": {}
      },
      "source": [
        "# Creating a new list of column names\n",
        "cols = ['Country', 'Country_code', 'Source', '%_homi_gun', 'num_homi_gun', 'homi_gun_per100k', 'rank-rate_owner',\\\n",
        "        'avg_gun_per100', 'avg_tot_all_guns']"
      ],
      "execution_count": 0,
      "outputs": []
    },
    {
      "cell_type": "code",
      "metadata": {
        "id": "r3rTHx1h86ST",
        "colab_type": "code",
        "colab": {}
      },
      "source": [
        "# Replacing the existing column names with new names saved in the list 'cols'\n",
        "world_crime.columns = cols"
      ],
      "execution_count": 0,
      "outputs": []
    },
    {
      "cell_type": "code",
      "metadata": {
        "id": "6D3QkHtz86SW",
        "colab_type": "code",
        "outputId": "f630e5c3-0efa-4ee7-e49f-82d17d582444",
        "colab": {}
      },
      "source": [
        "world_crime.head()"
      ],
      "execution_count": 0,
      "outputs": [
        {
          "output_type": "execute_result",
          "data": {
            "text/html": [
              "<div>\n",
              "<style scoped>\n",
              "    .dataframe tbody tr th:only-of-type {\n",
              "        vertical-align: middle;\n",
              "    }\n",
              "\n",
              "    .dataframe tbody tr th {\n",
              "        vertical-align: top;\n",
              "    }\n",
              "\n",
              "    .dataframe thead th {\n",
              "        text-align: right;\n",
              "    }\n",
              "</style>\n",
              "<table border=\"1\" class=\"dataframe\">\n",
              "  <thead>\n",
              "    <tr style=\"text-align: right;\">\n",
              "      <th></th>\n",
              "      <th>Country</th>\n",
              "      <th>Country_code</th>\n",
              "      <th>Source</th>\n",
              "      <th>%_homi_gun</th>\n",
              "      <th>num_homi_gun</th>\n",
              "      <th>homi_gun_per100k</th>\n",
              "      <th>rank-rate_owner</th>\n",
              "      <th>avg_gun_per100</th>\n",
              "      <th>avg_tot_all_guns</th>\n",
              "    </tr>\n",
              "  </thead>\n",
              "  <tbody>\n",
              "    <tr>\n",
              "      <th>0</th>\n",
              "      <td>Albania</td>\n",
              "      <td>AL</td>\n",
              "      <td>CTS</td>\n",
              "      <td>65.9</td>\n",
              "      <td>56.0</td>\n",
              "      <td>1.76</td>\n",
              "      <td>70.0</td>\n",
              "      <td>8.6</td>\n",
              "      <td>270000.0</td>\n",
              "    </tr>\n",
              "    <tr>\n",
              "      <th>1</th>\n",
              "      <td>Algeria</td>\n",
              "      <td>DZ</td>\n",
              "      <td>CTS</td>\n",
              "      <td>4.8</td>\n",
              "      <td>20.0</td>\n",
              "      <td>0.06</td>\n",
              "      <td>78.0</td>\n",
              "      <td>7.6</td>\n",
              "      <td>1900000.0</td>\n",
              "    </tr>\n",
              "    <tr>\n",
              "      <th>2</th>\n",
              "      <td>Angola</td>\n",
              "      <td>AO</td>\n",
              "      <td>NaN</td>\n",
              "      <td>NaN</td>\n",
              "      <td>NaN</td>\n",
              "      <td>NaN</td>\n",
              "      <td>34.0</td>\n",
              "      <td>17.3</td>\n",
              "      <td>2800000.0</td>\n",
              "    </tr>\n",
              "    <tr>\n",
              "      <th>3</th>\n",
              "      <td>Anguilla</td>\n",
              "      <td>AI</td>\n",
              "      <td>WHO-MDB</td>\n",
              "      <td>24.0</td>\n",
              "      <td>1.0</td>\n",
              "      <td>7.14</td>\n",
              "      <td>NaN</td>\n",
              "      <td>NaN</td>\n",
              "      <td>NaN</td>\n",
              "    </tr>\n",
              "    <tr>\n",
              "      <th>4</th>\n",
              "      <td>Argentina</td>\n",
              "      <td>AR</td>\n",
              "      <td>Ministry of Justice</td>\n",
              "      <td>52.0</td>\n",
              "      <td>1198.0</td>\n",
              "      <td>3.02</td>\n",
              "      <td>62.0</td>\n",
              "      <td>10.2</td>\n",
              "      <td>3950000.0</td>\n",
              "    </tr>\n",
              "  </tbody>\n",
              "</table>\n",
              "</div>"
            ],
            "text/plain": [
              "     Country Country_code               Source  %_homi_gun  num_homi_gun  \\\n",
              "0    Albania           AL                  CTS        65.9          56.0   \n",
              "1    Algeria           DZ                  CTS         4.8          20.0   \n",
              "2     Angola           AO                  NaN         NaN           NaN   \n",
              "3   Anguilla           AI              WHO-MDB        24.0           1.0   \n",
              "4  Argentina           AR  Ministry of Justice        52.0        1198.0   \n",
              "\n",
              "   homi_gun_per100k  rank-rate_owner  avg_gun_per100  avg_tot_all_guns  \n",
              "0              1.76             70.0             8.6          270000.0  \n",
              "1              0.06             78.0             7.6         1900000.0  \n",
              "2               NaN             34.0            17.3         2800000.0  \n",
              "3              7.14              NaN             NaN               NaN  \n",
              "4              3.02             62.0            10.2         3950000.0  "
            ]
          },
          "metadata": {
            "tags": []
          },
          "execution_count": 203
        }
      ]
    },
    {
      "cell_type": "code",
      "metadata": {
        "id": "6NuBWbgD86SZ",
        "colab_type": "code",
        "outputId": "6c59eaee-7d07-4566-880f-9cc93cc1cf97",
        "colab": {}
      },
      "source": [
        "len(world_crime)"
      ],
      "execution_count": 0,
      "outputs": [
        {
          "output_type": "execute_result",
          "data": {
            "text/plain": [
              "185"
            ]
          },
          "metadata": {
            "tags": []
          },
          "execution_count": 204
        }
      ]
    },
    {
      "cell_type": "code",
      "metadata": {
        "id": "1l3DfUYQ86Sd",
        "colab_type": "code",
        "outputId": "8151ba38-e63b-4f4e-903a-2a5e26004088",
        "colab": {}
      },
      "source": [
        "# Checking columns with 'NA' values\n",
        "world_crime.isna().sum()"
      ],
      "execution_count": 0,
      "outputs": [
        {
          "output_type": "execute_result",
          "data": {
            "text/plain": [
              "Country              0\n",
              "Country_code         1\n",
              "Source              69\n",
              "%_homi_gun          69\n",
              "num_homi_gun        69\n",
              "homi_gun_per100k    69\n",
              "rank-rate_owner      9\n",
              "avg_gun_per100       9\n",
              "avg_tot_all_guns     9\n",
              "dtype: int64"
            ]
          },
          "metadata": {
            "tags": []
          },
          "execution_count": 205
        }
      ]
    },
    {
      "cell_type": "code",
      "metadata": {
        "id": "Z75R9nBm86Si",
        "colab_type": "code",
        "colab": {}
      },
      "source": [
        "# Removing all the 'NA' values\n",
        "world_crime = world_crime.dropna()"
      ],
      "execution_count": 0,
      "outputs": []
    },
    {
      "cell_type": "code",
      "metadata": {
        "id": "2vRa78A686Sl",
        "colab_type": "code",
        "outputId": "2152660a-4779-4125-c859-e6cd9a249147",
        "colab": {}
      },
      "source": [
        "len(world_crime)"
      ],
      "execution_count": 0,
      "outputs": [
        {
          "output_type": "execute_result",
          "data": {
            "text/plain": [
              "107"
            ]
          },
          "metadata": {
            "tags": []
          },
          "execution_count": 309
        }
      ]
    },
    {
      "cell_type": "code",
      "metadata": {
        "id": "p04zhPGp86So",
        "colab_type": "code",
        "outputId": "502b5a1d-6c7a-4966-99e7-735dddf19b15",
        "colab": {}
      },
      "source": [
        "# Reading in data for growth rates for all 'Developed' countries\n",
        "country_index = pd.read_csv(\"developed.csv\")\n",
        "country_index.head()"
      ],
      "execution_count": 0,
      "outputs": [
        {
          "output_type": "execute_result",
          "data": {
            "text/html": [
              "<div>\n",
              "<style scoped>\n",
              "    .dataframe tbody tr th:only-of-type {\n",
              "        vertical-align: middle;\n",
              "    }\n",
              "\n",
              "    .dataframe tbody tr th {\n",
              "        vertical-align: top;\n",
              "    }\n",
              "\n",
              "    .dataframe thead th {\n",
              "        text-align: right;\n",
              "    }\n",
              "</style>\n",
              "<table border=\"1\" class=\"dataframe\">\n",
              "  <thead>\n",
              "    <tr style=\"text-align: right;\">\n",
              "      <th></th>\n",
              "      <th>cca2</th>\n",
              "      <th>name</th>\n",
              "      <th>area</th>\n",
              "      <th>pop2019</th>\n",
              "      <th>GrowthRate</th>\n",
              "    </tr>\n",
              "  </thead>\n",
              "  <tbody>\n",
              "    <tr>\n",
              "      <th>0</th>\n",
              "      <td>US</td>\n",
              "      <td>United States</td>\n",
              "      <td>9372610</td>\n",
              "      <td>329093.110</td>\n",
              "      <td>1.007119</td>\n",
              "    </tr>\n",
              "    <tr>\n",
              "      <th>1</th>\n",
              "      <td>JP</td>\n",
              "      <td>Japan</td>\n",
              "      <td>377930</td>\n",
              "      <td>126854.745</td>\n",
              "      <td>0.997401</td>\n",
              "    </tr>\n",
              "    <tr>\n",
              "      <th>2</th>\n",
              "      <td>TR</td>\n",
              "      <td>Turkey</td>\n",
              "      <td>783562</td>\n",
              "      <td>82961.805</td>\n",
              "      <td>1.012756</td>\n",
              "    </tr>\n",
              "    <tr>\n",
              "      <th>3</th>\n",
              "      <td>DE</td>\n",
              "      <td>Germany</td>\n",
              "      <td>357114</td>\n",
              "      <td>82438.639</td>\n",
              "      <td>1.001764</td>\n",
              "    </tr>\n",
              "    <tr>\n",
              "      <th>4</th>\n",
              "      <td>GB</td>\n",
              "      <td>United Kingdom</td>\n",
              "      <td>242900</td>\n",
              "      <td>66959.016</td>\n",
              "      <td>1.005791</td>\n",
              "    </tr>\n",
              "  </tbody>\n",
              "</table>\n",
              "</div>"
            ],
            "text/plain": [
              "  cca2            name     area     pop2019  GrowthRate\n",
              "0   US   United States  9372610  329093.110    1.007119\n",
              "1   JP           Japan   377930  126854.745    0.997401\n",
              "2   TR          Turkey   783562   82961.805    1.012756\n",
              "3   DE         Germany   357114   82438.639    1.001764\n",
              "4   GB  United Kingdom   242900   66959.016    1.005791"
            ]
          },
          "metadata": {
            "tags": []
          },
          "execution_count": 310
        }
      ]
    },
    {
      "cell_type": "code",
      "metadata": {
        "scrolled": true,
        "id": "a9NOocD_86Sr",
        "colab_type": "code",
        "outputId": "ccfa45ce-774a-4679-bf29-58a1c91cd2ea",
        "colab": {}
      },
      "source": [
        "# Checking for NAs\n",
        "country_index.isna().sum()"
      ],
      "execution_count": 0,
      "outputs": [
        {
          "output_type": "execute_result",
          "data": {
            "text/plain": [
              "cca2          0\n",
              "name          0\n",
              "area          0\n",
              "pop2019       0\n",
              "GrowthRate    0\n",
              "dtype: int64"
            ]
          },
          "metadata": {
            "tags": []
          },
          "execution_count": 311
        }
      ]
    },
    {
      "cell_type": "code",
      "metadata": {
        "id": "fJFiY6kj86Su",
        "colab_type": "code",
        "outputId": "6ddb11f2-0440-48ac-d5ec-a399b56590f7",
        "colab": {}
      },
      "source": [
        "# Merging world crimes and growth rates dataset\n",
        "world_data = world_crime.merge(country_index, how=\"inner\", left_on=\"Country\", right_on=\"name\")\n",
        "world_data.head()"
      ],
      "execution_count": 0,
      "outputs": [
        {
          "output_type": "execute_result",
          "data": {
            "text/html": [
              "<div>\n",
              "<style scoped>\n",
              "    .dataframe tbody tr th:only-of-type {\n",
              "        vertical-align: middle;\n",
              "    }\n",
              "\n",
              "    .dataframe tbody tr th {\n",
              "        vertical-align: top;\n",
              "    }\n",
              "\n",
              "    .dataframe thead th {\n",
              "        text-align: right;\n",
              "    }\n",
              "</style>\n",
              "<table border=\"1\" class=\"dataframe\">\n",
              "  <thead>\n",
              "    <tr style=\"text-align: right;\">\n",
              "      <th></th>\n",
              "      <th>Country</th>\n",
              "      <th>Country_code</th>\n",
              "      <th>Source</th>\n",
              "      <th>%_homi_gun</th>\n",
              "      <th>num_homi_gun</th>\n",
              "      <th>homi_gun_per100k</th>\n",
              "      <th>rank-rate_owner</th>\n",
              "      <th>avg_gun_per100</th>\n",
              "      <th>avg_tot_all_guns</th>\n",
              "      <th>cca2</th>\n",
              "      <th>name</th>\n",
              "      <th>area</th>\n",
              "      <th>pop2019</th>\n",
              "      <th>GrowthRate</th>\n",
              "    </tr>\n",
              "  </thead>\n",
              "  <tbody>\n",
              "    <tr>\n",
              "      <th>0</th>\n",
              "      <td>Australia</td>\n",
              "      <td>AU</td>\n",
              "      <td>NSO</td>\n",
              "      <td>11.5</td>\n",
              "      <td>30.0</td>\n",
              "      <td>0.14</td>\n",
              "      <td>42.0</td>\n",
              "      <td>15.0</td>\n",
              "      <td>3050000.0</td>\n",
              "      <td>AU</td>\n",
              "      <td>Australia</td>\n",
              "      <td>7692024</td>\n",
              "      <td>25088.636</td>\n",
              "      <td>1.012772</td>\n",
              "    </tr>\n",
              "    <tr>\n",
              "      <th>1</th>\n",
              "      <td>Austria</td>\n",
              "      <td>AT</td>\n",
              "      <td>CTS</td>\n",
              "      <td>29.5</td>\n",
              "      <td>18.0</td>\n",
              "      <td>0.22</td>\n",
              "      <td>14.0</td>\n",
              "      <td>30.4</td>\n",
              "      <td>2500000.0</td>\n",
              "      <td>AT</td>\n",
              "      <td>Austria</td>\n",
              "      <td>83871</td>\n",
              "      <td>8766.201</td>\n",
              "      <td>1.001643</td>\n",
              "    </tr>\n",
              "    <tr>\n",
              "      <th>2</th>\n",
              "      <td>Belgium</td>\n",
              "      <td>BE</td>\n",
              "      <td>WHO-MDB</td>\n",
              "      <td>39.5</td>\n",
              "      <td>70.0</td>\n",
              "      <td>0.68</td>\n",
              "      <td>34.0</td>\n",
              "      <td>17.2</td>\n",
              "      <td>1800000.0</td>\n",
              "      <td>BE</td>\n",
              "      <td>Belgium</td>\n",
              "      <td>30528</td>\n",
              "      <td>11562.784</td>\n",
              "      <td>1.005589</td>\n",
              "    </tr>\n",
              "    <tr>\n",
              "      <th>3</th>\n",
              "      <td>Canada</td>\n",
              "      <td>CA</td>\n",
              "      <td>CTS</td>\n",
              "      <td>32.0</td>\n",
              "      <td>173.0</td>\n",
              "      <td>0.51</td>\n",
              "      <td>13.0</td>\n",
              "      <td>30.8</td>\n",
              "      <td>9950000.0</td>\n",
              "      <td>CA</td>\n",
              "      <td>Canada</td>\n",
              "      <td>9984670</td>\n",
              "      <td>37279.811</td>\n",
              "      <td>1.008823</td>\n",
              "    </tr>\n",
              "    <tr>\n",
              "      <th>4</th>\n",
              "      <td>Cyprus</td>\n",
              "      <td>CY</td>\n",
              "      <td>CTS</td>\n",
              "      <td>26.3</td>\n",
              "      <td>5.0</td>\n",
              "      <td>0.46</td>\n",
              "      <td>6.0</td>\n",
              "      <td>36.4</td>\n",
              "      <td>275000.0</td>\n",
              "      <td>CY</td>\n",
              "      <td>Cyprus</td>\n",
              "      <td>9251</td>\n",
              "      <td>1198.427</td>\n",
              "      <td>1.007856</td>\n",
              "    </tr>\n",
              "  </tbody>\n",
              "</table>\n",
              "</div>"
            ],
            "text/plain": [
              "     Country Country_code   Source  %_homi_gun  num_homi_gun  \\\n",
              "0  Australia           AU      NSO        11.5          30.0   \n",
              "1    Austria           AT      CTS        29.5          18.0   \n",
              "2    Belgium           BE  WHO-MDB        39.5          70.0   \n",
              "3     Canada           CA      CTS        32.0         173.0   \n",
              "4     Cyprus           CY      CTS        26.3           5.0   \n",
              "\n",
              "   homi_gun_per100k  rank-rate_owner  avg_gun_per100  avg_tot_all_guns cca2  \\\n",
              "0              0.14             42.0            15.0         3050000.0   AU   \n",
              "1              0.22             14.0            30.4         2500000.0   AT   \n",
              "2              0.68             34.0            17.2         1800000.0   BE   \n",
              "3              0.51             13.0            30.8         9950000.0   CA   \n",
              "4              0.46              6.0            36.4          275000.0   CY   \n",
              "\n",
              "        name     area    pop2019  GrowthRate  \n",
              "0  Australia  7692024  25088.636    1.012772  \n",
              "1    Austria    83871   8766.201    1.001643  \n",
              "2    Belgium    30528  11562.784    1.005589  \n",
              "3     Canada  9984670  37279.811    1.008823  \n",
              "4     Cyprus     9251   1198.427    1.007856  "
            ]
          },
          "metadata": {
            "tags": []
          },
          "execution_count": 312
        }
      ]
    },
    {
      "cell_type": "markdown",
      "metadata": {
        "id": "wMVVO7Fj86Sx",
        "colab_type": "text"
      },
      "source": [
        "### Application"
      ]
    },
    {
      "cell_type": "markdown",
      "metadata": {
        "id": "DytXX6Pd86Sy",
        "colab_type": "text"
      },
      "source": [
        "### Graph1: Homicides by firearm per 1 million people"
      ]
    },
    {
      "cell_type": "code",
      "metadata": {
        "id": "bag1MTEG86Sy",
        "colab_type": "code",
        "colab": {}
      },
      "source": [
        "# Creating a new metric for homicides by firearm per 1 million people\n",
        "world_data['homi_gun_per1M'] = world_data['homi_gun_per100k'] / 10"
      ],
      "execution_count": 0,
      "outputs": []
    },
    {
      "cell_type": "code",
      "metadata": {
        "id": "NbPl6zEq86S0",
        "colab_type": "code",
        "outputId": "ac036c58-a4e6-482e-ca00-c82d696fa6dd",
        "colab": {}
      },
      "source": [
        "world_data.head()"
      ],
      "execution_count": 0,
      "outputs": [
        {
          "output_type": "execute_result",
          "data": {
            "text/html": [
              "<div>\n",
              "<style scoped>\n",
              "    .dataframe tbody tr th:only-of-type {\n",
              "        vertical-align: middle;\n",
              "    }\n",
              "\n",
              "    .dataframe tbody tr th {\n",
              "        vertical-align: top;\n",
              "    }\n",
              "\n",
              "    .dataframe thead th {\n",
              "        text-align: right;\n",
              "    }\n",
              "</style>\n",
              "<table border=\"1\" class=\"dataframe\">\n",
              "  <thead>\n",
              "    <tr style=\"text-align: right;\">\n",
              "      <th></th>\n",
              "      <th>Country</th>\n",
              "      <th>Country_code</th>\n",
              "      <th>Source</th>\n",
              "      <th>%_homi_gun</th>\n",
              "      <th>num_homi_gun</th>\n",
              "      <th>homi_gun_per100k</th>\n",
              "      <th>rank-rate_owner</th>\n",
              "      <th>avg_gun_per100</th>\n",
              "      <th>avg_tot_all_guns</th>\n",
              "      <th>cca2</th>\n",
              "      <th>name</th>\n",
              "      <th>area</th>\n",
              "      <th>pop2019</th>\n",
              "      <th>GrowthRate</th>\n",
              "      <th>homi_gun_per1M</th>\n",
              "    </tr>\n",
              "  </thead>\n",
              "  <tbody>\n",
              "    <tr>\n",
              "      <th>0</th>\n",
              "      <td>Australia</td>\n",
              "      <td>AU</td>\n",
              "      <td>NSO</td>\n",
              "      <td>11.5</td>\n",
              "      <td>30.0</td>\n",
              "      <td>0.14</td>\n",
              "      <td>42.0</td>\n",
              "      <td>15.0</td>\n",
              "      <td>3050000.0</td>\n",
              "      <td>AU</td>\n",
              "      <td>Australia</td>\n",
              "      <td>7692024</td>\n",
              "      <td>25088.636</td>\n",
              "      <td>1.012772</td>\n",
              "      <td>0.014</td>\n",
              "    </tr>\n",
              "    <tr>\n",
              "      <th>1</th>\n",
              "      <td>Austria</td>\n",
              "      <td>AT</td>\n",
              "      <td>CTS</td>\n",
              "      <td>29.5</td>\n",
              "      <td>18.0</td>\n",
              "      <td>0.22</td>\n",
              "      <td>14.0</td>\n",
              "      <td>30.4</td>\n",
              "      <td>2500000.0</td>\n",
              "      <td>AT</td>\n",
              "      <td>Austria</td>\n",
              "      <td>83871</td>\n",
              "      <td>8766.201</td>\n",
              "      <td>1.001643</td>\n",
              "      <td>0.022</td>\n",
              "    </tr>\n",
              "    <tr>\n",
              "      <th>2</th>\n",
              "      <td>Belgium</td>\n",
              "      <td>BE</td>\n",
              "      <td>WHO-MDB</td>\n",
              "      <td>39.5</td>\n",
              "      <td>70.0</td>\n",
              "      <td>0.68</td>\n",
              "      <td>34.0</td>\n",
              "      <td>17.2</td>\n",
              "      <td>1800000.0</td>\n",
              "      <td>BE</td>\n",
              "      <td>Belgium</td>\n",
              "      <td>30528</td>\n",
              "      <td>11562.784</td>\n",
              "      <td>1.005589</td>\n",
              "      <td>0.068</td>\n",
              "    </tr>\n",
              "    <tr>\n",
              "      <th>3</th>\n",
              "      <td>Canada</td>\n",
              "      <td>CA</td>\n",
              "      <td>CTS</td>\n",
              "      <td>32.0</td>\n",
              "      <td>173.0</td>\n",
              "      <td>0.51</td>\n",
              "      <td>13.0</td>\n",
              "      <td>30.8</td>\n",
              "      <td>9950000.0</td>\n",
              "      <td>CA</td>\n",
              "      <td>Canada</td>\n",
              "      <td>9984670</td>\n",
              "      <td>37279.811</td>\n",
              "      <td>1.008823</td>\n",
              "      <td>0.051</td>\n",
              "    </tr>\n",
              "    <tr>\n",
              "      <th>4</th>\n",
              "      <td>Cyprus</td>\n",
              "      <td>CY</td>\n",
              "      <td>CTS</td>\n",
              "      <td>26.3</td>\n",
              "      <td>5.0</td>\n",
              "      <td>0.46</td>\n",
              "      <td>6.0</td>\n",
              "      <td>36.4</td>\n",
              "      <td>275000.0</td>\n",
              "      <td>CY</td>\n",
              "      <td>Cyprus</td>\n",
              "      <td>9251</td>\n",
              "      <td>1198.427</td>\n",
              "      <td>1.007856</td>\n",
              "      <td>0.046</td>\n",
              "    </tr>\n",
              "  </tbody>\n",
              "</table>\n",
              "</div>"
            ],
            "text/plain": [
              "     Country Country_code   Source  %_homi_gun  num_homi_gun  \\\n",
              "0  Australia           AU      NSO        11.5          30.0   \n",
              "1    Austria           AT      CTS        29.5          18.0   \n",
              "2    Belgium           BE  WHO-MDB        39.5          70.0   \n",
              "3     Canada           CA      CTS        32.0         173.0   \n",
              "4     Cyprus           CY      CTS        26.3           5.0   \n",
              "\n",
              "   homi_gun_per100k  rank-rate_owner  avg_gun_per100  avg_tot_all_guns cca2  \\\n",
              "0              0.14             42.0            15.0         3050000.0   AU   \n",
              "1              0.22             14.0            30.4         2500000.0   AT   \n",
              "2              0.68             34.0            17.2         1800000.0   BE   \n",
              "3              0.51             13.0            30.8         9950000.0   CA   \n",
              "4              0.46              6.0            36.4          275000.0   CY   \n",
              "\n",
              "        name     area    pop2019  GrowthRate  homi_gun_per1M  \n",
              "0  Australia  7692024  25088.636    1.012772           0.014  \n",
              "1    Austria    83871   8766.201    1.001643           0.022  \n",
              "2    Belgium    30528  11562.784    1.005589           0.068  \n",
              "3     Canada  9984670  37279.811    1.008823           0.051  \n",
              "4     Cyprus     9251   1198.427    1.007856           0.046  "
            ]
          },
          "metadata": {
            "tags": []
          },
          "execution_count": 214
        }
      ]
    },
    {
      "cell_type": "code",
      "metadata": {
        "colab_type": "code",
        "id": "giCMw37GN_HW",
        "colab": {}
      },
      "source": [
        "import matplotlib.pyplot as plt"
      ],
      "execution_count": 0,
      "outputs": []
    },
    {
      "cell_type": "code",
      "metadata": {
        "colab_type": "code",
        "id": "a7R9IgUwloqz",
        "outputId": "1381f52c-2bf4-4ebd-a4f5-7cfa80444c92",
        "colab": {
          "base_uri": "https://localhost:8080/",
          "height": 290
        }
      },
      "source": [
        "plt.plot(world_data['Country'].values, world_data['homi_gun_per1M'].values)    \n",
        "plt.show()"
      ],
      "execution_count": 0,
      "outputs": [
        {
          "output_type": "display_data",
          "data": {
            "image/png": "[encoded data removed]",
            "text/plain": [
              "<Figure size 432x288 with 1 Axes>"
            ]
          },
          "metadata": {
            "tags": [],
            "needs_background": "light"
          }
        }
      ]
    },
    {
      "cell_type": "code",
      "metadata": {
        "id": "m3liTylZ86S8",
        "colab_type": "code",
        "colab": {}
      },
      "source": [
        ""
      ],
      "execution_count": 0,
      "outputs": []
    }
  ]
}