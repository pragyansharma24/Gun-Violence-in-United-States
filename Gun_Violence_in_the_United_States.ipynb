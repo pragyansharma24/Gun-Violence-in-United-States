{
  "nbformat": 4,
  "nbformat_minor": 0,
  "metadata": {
    "colab": {
      "name": "Gun Violence in the United States.ipynb",
      "version": "0.3.2",
      "provenance": [],
      "collapsed_sections": [],
      "include_colab_link": true
    },
    "language_info": {
      "codemirror_mode": {
        "name": "ipython",
        "version": 3
      },
      "file_extension": ".py",
      "mimetype": "text/x-python",
      "name": "python",
      "nbconvert_exporter": "python",
      "pygments_lexer": "ipython3",
      "version": "3.7.0"
    },
    "kernelspec": {
      "display_name": "Python 3",
      "language": "python",
      "name": "python3"
    }
  },
  "cells": [
    {
      "cell_type": "markdown",
      "metadata": {
        "id": "view-in-github",
        "colab_type": "text"
      },
      "source": [
        "<a href=\"https://colab.research.google.com/github/pragyansharma24/Gun-Violence-in-United-States/blob/master/Gun_Violence_in_the_United_States.ipynb\" target=\"_parent\"><img src=\"https://colab.research.google.com/assets/colab-badge.svg\" alt=\"Open In Colab\"/></a>"
      ]
    },
    {
      "cell_type": "markdown",
      "metadata": {
        "colab_type": "text",
        "id": "X5TJFZS3NvoP"
      },
      "source": [
        "# Analysis of Gun Violence in the United States\n",
        "#### Authored By: Pragyan Sharma, Prerana Patil, Shriya Rao, Sonal Agrawal"
      ]
    },
    {
      "cell_type": "markdown",
      "metadata": {
        "id": "o713I3ly_sZI",
        "colab_type": "text"
      },
      "source": [
        "---"
      ]
    },
    {
      "cell_type": "markdown",
      "metadata": {
        "colab_type": "text",
        "id": "kMjKLapBpPeg"
      },
      "source": [
        "Over the years, there has been a continuous increase in the number of incidents related to gun violence in the United States. In addition to killing hundreds of Americans, it has forced them to live in a continuous fear of the next shooting. Therefore, in order to understand the magnitude of everyday gun violence, we have analyzed available data to understand:\n",
        "<ul>\n",
        "  <li>Crime Statistics across United States</li>\n",
        "  <li>Crime Statistics across the World</li>\n",
        "  <li>Presence of gun laws and death rates across United States  </li>\n",
        "</ul>"
      ]
    },
    {
      "cell_type": "markdown",
      "metadata": {
        "id": "5GyonQl4_sZJ",
        "colab_type": "text"
      },
      "source": [
        "## Crime Statistics across United States "
      ]
    },
    {
      "cell_type": "markdown",
      "metadata": {
        "colab_type": "text",
        "id": "JfaXGyAKyBph"
      },
      "source": [
        "According to an article in New York Times, \"*More people died from firearm injuries in the United States in 2017 than in any other year since at least 1968, according to new data from the Centers for Disease Control and Prevention*.\" (Ref: https://www.nytimes.com/2018/12/18/us/gun-deaths.html).\n",
        "\n",
        "In fact, 2017 witnessed the highest number of mass shootings alone, killing and injuring hundreds of innocent lives. To understand the seriousness of the situation, we plan to visualize each of the mass shooting incidents on the map of the United States.   "
      ]
    },
    {
      "cell_type": "markdown",
      "metadata": {
        "id": "jf-QvAbMKY_b",
        "colab_type": "text"
      },
      "source": [
        "### Datasets and Sources\n",
        "\n",
        "**1.  Mass Shootings Data from Gun Violence Archive**: The dataset consists of gun violence incidents collected from Jan 01, 2013 to May 18, 2019. Each row of the dataset represents an incident in the United States with details regarding the incident location and number of people killed and injured. Source: https://www.gunviolencearchive.org/\n",
        "\n",
        "**2. City Locations Data from Opensoft**: The dataset consists of US cities and their geographical locations. Each row represents a city and its geographical coordinates and details like population, timezone, etc. Source: https://public.opendatasoft.com/explore/dataset/1000-largest-us-cities-by-population-with-geographic-coordinates/table/?sort=-rank\n",
        "\n",
        "**Variables of Interest:**\n",
        "    <ul>\n",
        "      <li><i>Incident Date</i>: The date of the mass shooting incident</li>\n",
        "      <li><i>State</i>: State where the mass shooting incident took place</li>\n",
        "      <li><i>City</i>: City where the mass shooting incident took place</li>\n",
        "      <li><i>Address</i>: Address where the mass shooting incident took place</li>\n",
        "      <li><i>num_Killed</i>: Number of people killed in the mass shooting incident</li>\n",
        "      <li><i>num_Injured</i>: Number of people injured in the mass shooting incident</li>\n",
        "      <li><i>Latitude</i>: Latitude of the given city</li>\n",
        "      <li><i>Longitude</i>: Longitude of the given city</li>\n",
        "    </ul>\n",
        "    \n",
        "**Limitations**\n",
        "* City Locations Dataset has geolocations only for 1000 largest US cities based on population, so we lose the mass shootings information about some of the smaller cities\n"
      ]
    },
    {
      "cell_type": "code",
      "metadata": {
        "colab_type": "code",
        "id": "_47XgdtOPg0m",
        "colab": {}
      },
      "source": [
        "import pandas as pd\n",
        "import numpy as np"
      ],
      "execution_count": 0,
      "outputs": []
    },
    {
      "cell_type": "code",
      "metadata": {
        "id": "XXZLwcC0lc3V",
        "colab_type": "code",
        "colab": {}
      },
      "source": [
        "from IPython.core.interactiveshell import InteractiveShell\n",
        "InteractiveShell.ast_node_interactivity = \"all\""
      ],
      "execution_count": 0,
      "outputs": []
    },
    {
      "cell_type": "markdown",
      "metadata": {
        "colab_type": "text",
        "id": "y0zau_DmJMQ1"
      },
      "source": [
        "### Data Cleaning\n",
        "The dataset needs some preparation before we start exploring and visualizing the dataset further. Steps to be follwed are:\n",
        "<ul>\n",
        "  <li>Renaming columns for efficient data handling</li>\n",
        "  <li> Creating new features e.g. month and year from date </li>\n",
        "  <li>Adding latitude and longitude (geolocation) for each of the given locations for maps</li>\n",
        "  <li>Handling Null values</li>\n",
        "</ul>"
      ]
    },
    {
      "cell_type": "markdown",
      "metadata": {
        "id": "PtPDGniR_sZU",
        "colab_type": "text"
      },
      "source": [
        "Step1: Reading and merging data for mass shootings from 2013 to 2019"
      ]
    },
    {
      "cell_type": "code",
      "metadata": {
        "id": "k0oOxbH8_sZU",
        "colab_type": "code",
        "colab": {}
      },
      "source": [
        "dataset_url = \"https://raw.githubusercontent.com/pragyansharma24/Gun-Violence-in-United-States/master/datasets/\""
      ],
      "execution_count": 0,
      "outputs": []
    },
    {
      "cell_type": "code",
      "metadata": {
        "colab_type": "code",
        "id": "Td0zRLyCOqzv",
        "outputId": "a1fbf5dc-6d5b-4c9e-c978-215b8cbb2067",
        "scrolled": true,
        "colab": {
          "base_uri": "https://localhost:8080/",
          "height": 195
        }
      },
      "source": [
        "y2013 = pd.read_csv(dataset_url+\"Mass%20Shootings%20year%20wise/Mass_Shootings_2013.csv\")\n",
        "y2014 = pd.read_csv(dataset_url+\"Mass%20Shootings%20year%20wise/Mass_Shootings_2014.csv\")\n",
        "y2015 = pd.read_csv(dataset_url+\"Mass%20Shootings%20year%20wise/Mass_Shootings_2015.csv\")\n",
        "y2016 = pd.read_csv(dataset_url+\"Mass%20Shootings%20year%20wise/Mass_Shootings_2016.csv\")\n",
        "y2017 = pd.read_csv(dataset_url+\"Mass%20Shootings%20year%20wise/Mass_Shootings_2017.csv\")\n",
        "y2018 = pd.read_csv(dataset_url+\"Mass%20Shootings%20year%20wise/Mass_Shootings_2018.csv\")\n",
        "y2019 = pd.read_csv(dataset_url+\"Mass%20Shootings%20year%20wise/Mass_Shootings_2019.csv\")\n",
        "# combining data for all the years \n",
        "mass_shoot = pd.concat([y2013, y2014, y2015, y2016, y2017, y2018, y2019])\n",
        "mass_shoot.head()"
      ],
      "execution_count": 0,
      "outputs": [
        {
          "output_type": "execute_result",
          "data": {
            "text/html": [
              "<div>\n",
              "<style scoped>\n",
              "    .dataframe tbody tr th:only-of-type {\n",
              "        vertical-align: middle;\n",
              "    }\n",
              "\n",
              "    .dataframe tbody tr th {\n",
              "        vertical-align: top;\n",
              "    }\n",
              "\n",
              "    .dataframe thead th {\n",
              "        text-align: right;\n",
              "    }\n",
              "</style>\n",
              "<table border=\"1\" class=\"dataframe\">\n",
              "  <thead>\n",
              "    <tr style=\"text-align: right;\">\n",
              "      <th></th>\n",
              "      <th>Incident Date</th>\n",
              "      <th>State</th>\n",
              "      <th>City Or County</th>\n",
              "      <th>Address</th>\n",
              "      <th># Killed</th>\n",
              "      <th># Injured</th>\n",
              "      <th>Operations</th>\n",
              "    </tr>\n",
              "  </thead>\n",
              "  <tbody>\n",
              "    <tr>\n",
              "      <th>0</th>\n",
              "      <td>December 31, 2013</td>\n",
              "      <td>New York</td>\n",
              "      <td>Brooklyn</td>\n",
              "      <td>60 Glenmore Ave</td>\n",
              "      <td>0.0</td>\n",
              "      <td>6.0</td>\n",
              "      <td>NaN</td>\n",
              "    </tr>\n",
              "    <tr>\n",
              "      <th>1</th>\n",
              "      <td>December 28, 2013</td>\n",
              "      <td>Alabama</td>\n",
              "      <td>Montgomery</td>\n",
              "      <td>954 Highland Ave</td>\n",
              "      <td>3.0</td>\n",
              "      <td>5.0</td>\n",
              "      <td>NaN</td>\n",
              "    </tr>\n",
              "    <tr>\n",
              "      <th>2</th>\n",
              "      <td>December 26, 2013</td>\n",
              "      <td>Louisiana</td>\n",
              "      <td>Slidell</td>\n",
              "      <td>2144 First St</td>\n",
              "      <td>2.0</td>\n",
              "      <td>6.0</td>\n",
              "      <td>NaN</td>\n",
              "    </tr>\n",
              "    <tr>\n",
              "      <th>3</th>\n",
              "      <td>December 26, 2013</td>\n",
              "      <td>Louisiana</td>\n",
              "      <td>Lockport</td>\n",
              "      <td>313 Tenth St</td>\n",
              "      <td>3.0</td>\n",
              "      <td>3.0</td>\n",
              "      <td>NaN</td>\n",
              "    </tr>\n",
              "    <tr>\n",
              "      <th>4</th>\n",
              "      <td>December 25, 2013</td>\n",
              "      <td>New Jersey</td>\n",
              "      <td>Irvington</td>\n",
              "      <td>Nye Avenue and 21st Street</td>\n",
              "      <td>3.0</td>\n",
              "      <td>2.0</td>\n",
              "      <td>NaN</td>\n",
              "    </tr>\n",
              "  </tbody>\n",
              "</table>\n",
              "</div>"
            ],
            "text/plain": [
              "       Incident Date       State  ... # Injured Operations\n",
              "0  December 31, 2013    New York  ...       6.0        NaN\n",
              "1  December 28, 2013     Alabama  ...       5.0        NaN\n",
              "2  December 26, 2013   Louisiana  ...       6.0        NaN\n",
              "3  December 26, 2013   Louisiana  ...       3.0        NaN\n",
              "4  December 25, 2013  New Jersey  ...       2.0        NaN\n",
              "\n",
              "[5 rows x 7 columns]"
            ]
          },
          "metadata": {
            "tags": []
          },
          "execution_count": 28
        }
      ]
    },
    {
      "cell_type": "markdown",
      "metadata": {
        "id": "hdA2D9aA_sZb",
        "colab_type": "text"
      },
      "source": [
        "Step 2: Renaming columns for efficient data handling"
      ]
    },
    {
      "cell_type": "code",
      "metadata": {
        "colab_type": "code",
        "id": "rxJeMwSPJMQ6",
        "scrolled": true,
        "colab": {}
      },
      "source": [
        "mass_shoot.rename(columns={'Incident Date':'Date','City Or County':'City', '# Killed':'num_Killed', '# Injured':'num_Injured'}, inplace=True)"
      ],
      "execution_count": 0,
      "outputs": []
    },
    {
      "cell_type": "markdown",
      "metadata": {
        "id": "qo4rhb-E_sZf",
        "colab_type": "text"
      },
      "source": [
        "Step 3: Extracting Month and Year from the incident Date column"
      ]
    },
    {
      "cell_type": "code",
      "metadata": {
        "colab_type": "code",
        "id": "2-EKExs9SODe",
        "colab": {}
      },
      "source": [
        "from datetime import datetime as dt\n",
        "mass_shoot['Date'] = pd.to_datetime(mass_shoot['Date'])\n",
        "mass_shoot['Month'] = mass_shoot['Date'].dt.month\n",
        "mass_shoot['Year'] = mass_shoot['Date'].dt.year"
      ],
      "execution_count": 0,
      "outputs": []
    },
    {
      "cell_type": "markdown",
      "metadata": {
        "id": "cBgb4JYW_sZj",
        "colab_type": "text"
      },
      "source": [
        "Step 4: Reading data for Latitudes and Longitudes for cities in the United States"
      ]
    },
    {
      "cell_type": "code",
      "metadata": {
        "colab_type": "code",
        "id": "0AURVzy8JMRA",
        "outputId": "527f8c2e-31a6-4cb2-9785-449dcf6a796e",
        "colab": {
          "base_uri": "https://localhost:8080/",
          "height": 195
        }
      },
      "source": [
        "cities_location = pd.read_csv(dataset_url+ \"uscitiesv1.5.csv\")\n",
        "# Selecting relevant columns for further analysis\n",
        "cities_location_sub = cities_location[['city','state_id', 'state_name','lat', 'lng']]\n",
        "cities_location_sub.head()"
      ],
      "execution_count": 0,
      "outputs": [
        {
          "output_type": "execute_result",
          "data": {
            "text/html": [
              "<div>\n",
              "<style scoped>\n",
              "    .dataframe tbody tr th:only-of-type {\n",
              "        vertical-align: middle;\n",
              "    }\n",
              "\n",
              "    .dataframe tbody tr th {\n",
              "        vertical-align: top;\n",
              "    }\n",
              "\n",
              "    .dataframe thead th {\n",
              "        text-align: right;\n",
              "    }\n",
              "</style>\n",
              "<table border=\"1\" class=\"dataframe\">\n",
              "  <thead>\n",
              "    <tr style=\"text-align: right;\">\n",
              "      <th></th>\n",
              "      <th>city</th>\n",
              "      <th>state_id</th>\n",
              "      <th>state_name</th>\n",
              "      <th>lat</th>\n",
              "      <th>lng</th>\n",
              "    </tr>\n",
              "  </thead>\n",
              "  <tbody>\n",
              "    <tr>\n",
              "      <th>0</th>\n",
              "      <td>Prairie Ridge</td>\n",
              "      <td>WA</td>\n",
              "      <td>Washington</td>\n",
              "      <td>47.1443</td>\n",
              "      <td>-122.1408</td>\n",
              "    </tr>\n",
              "    <tr>\n",
              "      <th>1</th>\n",
              "      <td>Edison</td>\n",
              "      <td>WA</td>\n",
              "      <td>Washington</td>\n",
              "      <td>48.5602</td>\n",
              "      <td>-122.4311</td>\n",
              "    </tr>\n",
              "    <tr>\n",
              "      <th>2</th>\n",
              "      <td>Packwood</td>\n",
              "      <td>WA</td>\n",
              "      <td>Washington</td>\n",
              "      <td>46.6085</td>\n",
              "      <td>-121.6702</td>\n",
              "    </tr>\n",
              "    <tr>\n",
              "      <th>3</th>\n",
              "      <td>Wautauga Beach</td>\n",
              "      <td>WA</td>\n",
              "      <td>Washington</td>\n",
              "      <td>47.5862</td>\n",
              "      <td>-122.5482</td>\n",
              "    </tr>\n",
              "    <tr>\n",
              "      <th>4</th>\n",
              "      <td>Harper</td>\n",
              "      <td>WA</td>\n",
              "      <td>Washington</td>\n",
              "      <td>47.5207</td>\n",
              "      <td>-122.5196</td>\n",
              "    </tr>\n",
              "  </tbody>\n",
              "</table>\n",
              "</div>"
            ],
            "text/plain": [
              "             city state_id  state_name      lat       lng\n",
              "0   Prairie Ridge       WA  Washington  47.1443 -122.1408\n",
              "1          Edison       WA  Washington  48.5602 -122.4311\n",
              "2        Packwood       WA  Washington  46.6085 -121.6702\n",
              "3  Wautauga Beach       WA  Washington  47.5862 -122.5482\n",
              "4          Harper       WA  Washington  47.5207 -122.5196"
            ]
          },
          "metadata": {
            "tags": []
          },
          "execution_count": 31
        }
      ]
    },
    {
      "cell_type": "markdown",
      "metadata": {
        "id": "YtlAE_2X_sZt",
        "colab_type": "text"
      },
      "source": [
        "Step 5: Merging mass shootings data with city locations to use with maps. Left join has been used to ensure we have all the data from mass_shoot."
      ]
    },
    {
      "cell_type": "code",
      "metadata": {
        "colab_type": "code",
        "id": "TYFV6BMkJMRD",
        "colab": {}
      },
      "source": [
        "# Merging datasets\n",
        "mass_shooting_data = mass_shoot.merge(cities_location_sub,how='left', left_on=['City', 'State'], right_on=['city', 'state_name'])\n",
        "# Dropping extra columns which we won't be using further\n",
        "mass_shooting_data.drop(columns=['Operations', 'city', 'state_name','state_id'], inplace=True)"
      ],
      "execution_count": 0,
      "outputs": []
    },
    {
      "cell_type": "markdown",
      "metadata": {
        "id": "6_m6dnt2_sZz",
        "colab_type": "text"
      },
      "source": [
        "Step 6: Removing all the NA values"
      ]
    },
    {
      "cell_type": "code",
      "metadata": {
        "colab_type": "code",
        "id": "VOwaorUIJMRO",
        "outputId": "9978c1ec-d36e-4591-bbd0-7c928b44aaf0",
        "colab": {
          "base_uri": "https://localhost:8080/",
          "height": 34
        }
      },
      "source": [
        "#Removing NA\n",
        "mass_shooting_data = mass_shooting_data.dropna()\n",
        "# Checking number of rows in the combined dataframe\n",
        "len(mass_shooting_data)"
      ],
      "execution_count": 0,
      "outputs": [
        {
          "output_type": "execute_result",
          "data": {
            "text/plain": [
              "1915"
            ]
          },
          "metadata": {
            "tags": []
          },
          "execution_count": 33
        }
      ]
    },
    {
      "cell_type": "markdown",
      "metadata": {
        "id": "q_hcwzO0_sZ5",
        "colab_type": "text"
      },
      "source": [
        "### Final Dataset"
      ]
    },
    {
      "cell_type": "code",
      "metadata": {
        "scrolled": true,
        "id": "L9Wl6ZPc_sZ7",
        "colab_type": "code",
        "outputId": "88286caa-ef81-4ccf-8a0f-71d66695d72b",
        "colab": {
          "base_uri": "https://localhost:8080/",
          "height": 195
        }
      },
      "source": [
        "mass_shooting_data.head()"
      ],
      "execution_count": 0,
      "outputs": [
        {
          "output_type": "execute_result",
          "data": {
            "text/html": [
              "<div>\n",
              "<style scoped>\n",
              "    .dataframe tbody tr th:only-of-type {\n",
              "        vertical-align: middle;\n",
              "    }\n",
              "\n",
              "    .dataframe tbody tr th {\n",
              "        vertical-align: top;\n",
              "    }\n",
              "\n",
              "    .dataframe thead th {\n",
              "        text-align: right;\n",
              "    }\n",
              "</style>\n",
              "<table border=\"1\" class=\"dataframe\">\n",
              "  <thead>\n",
              "    <tr style=\"text-align: right;\">\n",
              "      <th></th>\n",
              "      <th>Date</th>\n",
              "      <th>State</th>\n",
              "      <th>City</th>\n",
              "      <th>Address</th>\n",
              "      <th>num_Killed</th>\n",
              "      <th>num_Injured</th>\n",
              "      <th>Month</th>\n",
              "      <th>Year</th>\n",
              "      <th>lat</th>\n",
              "      <th>lng</th>\n",
              "    </tr>\n",
              "  </thead>\n",
              "  <tbody>\n",
              "    <tr>\n",
              "      <th>0</th>\n",
              "      <td>2013-12-31</td>\n",
              "      <td>New York</td>\n",
              "      <td>Brooklyn</td>\n",
              "      <td>60 Glenmore Ave</td>\n",
              "      <td>0.0</td>\n",
              "      <td>6.0</td>\n",
              "      <td>12.0</td>\n",
              "      <td>2013.0</td>\n",
              "      <td>40.6501</td>\n",
              "      <td>-73.9496</td>\n",
              "    </tr>\n",
              "    <tr>\n",
              "      <th>1</th>\n",
              "      <td>2013-12-28</td>\n",
              "      <td>Alabama</td>\n",
              "      <td>Montgomery</td>\n",
              "      <td>954 Highland Ave</td>\n",
              "      <td>3.0</td>\n",
              "      <td>5.0</td>\n",
              "      <td>12.0</td>\n",
              "      <td>2013.0</td>\n",
              "      <td>32.3470</td>\n",
              "      <td>-86.2663</td>\n",
              "    </tr>\n",
              "    <tr>\n",
              "      <th>2</th>\n",
              "      <td>2013-12-26</td>\n",
              "      <td>Louisiana</td>\n",
              "      <td>Slidell</td>\n",
              "      <td>2144 First St</td>\n",
              "      <td>2.0</td>\n",
              "      <td>6.0</td>\n",
              "      <td>12.0</td>\n",
              "      <td>2013.0</td>\n",
              "      <td>30.2882</td>\n",
              "      <td>-89.7826</td>\n",
              "    </tr>\n",
              "    <tr>\n",
              "      <th>3</th>\n",
              "      <td>2013-12-26</td>\n",
              "      <td>Louisiana</td>\n",
              "      <td>Lockport</td>\n",
              "      <td>313 Tenth St</td>\n",
              "      <td>3.0</td>\n",
              "      <td>3.0</td>\n",
              "      <td>12.0</td>\n",
              "      <td>2013.0</td>\n",
              "      <td>29.6418</td>\n",
              "      <td>-90.5376</td>\n",
              "    </tr>\n",
              "    <tr>\n",
              "      <th>5</th>\n",
              "      <td>2013-12-25</td>\n",
              "      <td>New York</td>\n",
              "      <td>Medford</td>\n",
              "      <td>33A Cedarhurst Ave</td>\n",
              "      <td>1.0</td>\n",
              "      <td>3.0</td>\n",
              "      <td>12.0</td>\n",
              "      <td>2013.0</td>\n",
              "      <td>40.8220</td>\n",
              "      <td>-72.9859</td>\n",
              "    </tr>\n",
              "  </tbody>\n",
              "</table>\n",
              "</div>"
            ],
            "text/plain": [
              "        Date      State        City  ...    Year      lat      lng\n",
              "0 2013-12-31   New York    Brooklyn  ...  2013.0  40.6501 -73.9496\n",
              "1 2013-12-28    Alabama  Montgomery  ...  2013.0  32.3470 -86.2663\n",
              "2 2013-12-26  Louisiana     Slidell  ...  2013.0  30.2882 -89.7826\n",
              "3 2013-12-26  Louisiana    Lockport  ...  2013.0  29.6418 -90.5376\n",
              "5 2013-12-25   New York     Medford  ...  2013.0  40.8220 -72.9859\n",
              "\n",
              "[5 rows x 10 columns]"
            ]
          },
          "metadata": {
            "tags": []
          },
          "execution_count": 34
        }
      ]
    },
    {
      "cell_type": "markdown",
      "metadata": {
        "id": "0zmM5TVT_saB",
        "colab_type": "text"
      },
      "source": [
        "### Exploration"
      ]
    },
    {
      "cell_type": "markdown",
      "metadata": {
        "id": "MWiuIEZ1_saD",
        "colab_type": "text"
      },
      "source": [
        "Number of lives lost in mass shootings by year"
      ]
    },
    {
      "cell_type": "code",
      "metadata": {
        "id": "XlJLNUww_saE",
        "colab_type": "code",
        "outputId": "37871a48-8992-4644-edad-6d7f6f90aed7",
        "colab": {
          "base_uri": "https://localhost:8080/",
          "height": 254
        }
      },
      "source": [
        "mass_shooting_data.groupby('Year')['num_Killed'].sum()\\\n",
        ".reset_index().sort_values(by= 'num_Killed', ascending = False) "
      ],
      "execution_count": 0,
      "outputs": [
        {
          "output_type": "execute_result",
          "data": {
            "text/html": [
              "<div>\n",
              "<style scoped>\n",
              "    .dataframe tbody tr th:only-of-type {\n",
              "        vertical-align: middle;\n",
              "    }\n",
              "\n",
              "    .dataframe tbody tr th {\n",
              "        vertical-align: top;\n",
              "    }\n",
              "\n",
              "    .dataframe thead th {\n",
              "        text-align: right;\n",
              "    }\n",
              "</style>\n",
              "<table border=\"1\" class=\"dataframe\">\n",
              "  <thead>\n",
              "    <tr style=\"text-align: right;\">\n",
              "      <th></th>\n",
              "      <th>Year</th>\n",
              "      <th>num_Killed</th>\n",
              "    </tr>\n",
              "  </thead>\n",
              "  <tbody>\n",
              "    <tr>\n",
              "      <th>3</th>\n",
              "      <td>2016.0</td>\n",
              "      <td>411.0</td>\n",
              "    </tr>\n",
              "    <tr>\n",
              "      <th>4</th>\n",
              "      <td>2017.0</td>\n",
              "      <td>392.0</td>\n",
              "    </tr>\n",
              "    <tr>\n",
              "      <th>2</th>\n",
              "      <td>2015.0</td>\n",
              "      <td>332.0</td>\n",
              "    </tr>\n",
              "    <tr>\n",
              "      <th>5</th>\n",
              "      <td>2018.0</td>\n",
              "      <td>328.0</td>\n",
              "    </tr>\n",
              "    <tr>\n",
              "      <th>0</th>\n",
              "      <td>2013.0</td>\n",
              "      <td>249.0</td>\n",
              "    </tr>\n",
              "    <tr>\n",
              "      <th>1</th>\n",
              "      <td>2014.0</td>\n",
              "      <td>242.0</td>\n",
              "    </tr>\n",
              "    <tr>\n",
              "      <th>6</th>\n",
              "      <td>2019.0</td>\n",
              "      <td>130.0</td>\n",
              "    </tr>\n",
              "  </tbody>\n",
              "</table>\n",
              "</div>"
            ],
            "text/plain": [
              "     Year  num_Killed\n",
              "3  2016.0       411.0\n",
              "4  2017.0       392.0\n",
              "2  2015.0       332.0\n",
              "5  2018.0       328.0\n",
              "0  2013.0       249.0\n",
              "1  2014.0       242.0\n",
              "6  2019.0       130.0"
            ]
          },
          "metadata": {
            "tags": []
          },
          "execution_count": 35
        }
      ]
    },
    {
      "cell_type": "markdown",
      "metadata": {
        "id": "KKwnnBlF_saJ",
        "colab_type": "text"
      },
      "source": [
        "Cities that lost most number of lives in mass shootings"
      ]
    },
    {
      "cell_type": "code",
      "metadata": {
        "id": "UpeyRbkz_saL",
        "colab_type": "code",
        "outputId": "9dd3d682-9eec-4b99-dd62-2954a84f8f66",
        "colab": {
          "base_uri": "https://localhost:8080/",
          "height": 195
        }
      },
      "source": [
        "mass_shooting_data.groupby('City')['num_Killed','num_Injured'].sum()\\\n",
        ".reset_index().sort_values(by= 'num_Killed', ascending = False)[:5]                      "
      ],
      "execution_count": 0,
      "outputs": [
        {
          "output_type": "execute_result",
          "data": {
            "text/html": [
              "<div>\n",
              "<style scoped>\n",
              "    .dataframe tbody tr th:only-of-type {\n",
              "        vertical-align: middle;\n",
              "    }\n",
              "\n",
              "    .dataframe tbody tr th {\n",
              "        vertical-align: top;\n",
              "    }\n",
              "\n",
              "    .dataframe thead th {\n",
              "        text-align: right;\n",
              "    }\n",
              "</style>\n",
              "<table border=\"1\" class=\"dataframe\">\n",
              "  <thead>\n",
              "    <tr style=\"text-align: right;\">\n",
              "      <th></th>\n",
              "      <th>City</th>\n",
              "      <th>num_Killed</th>\n",
              "      <th>num_Injured</th>\n",
              "    </tr>\n",
              "  </thead>\n",
              "  <tbody>\n",
              "    <tr>\n",
              "      <th>106</th>\n",
              "      <td>Chicago</td>\n",
              "      <td>82.0</td>\n",
              "      <td>573.0</td>\n",
              "    </tr>\n",
              "    <tr>\n",
              "      <th>285</th>\n",
              "      <td>Las Vegas</td>\n",
              "      <td>72.0</td>\n",
              "      <td>488.0</td>\n",
              "    </tr>\n",
              "    <tr>\n",
              "      <th>389</th>\n",
              "      <td>Orlando</td>\n",
              "      <td>68.0</td>\n",
              "      <td>102.0</td>\n",
              "    </tr>\n",
              "    <tr>\n",
              "      <th>243</th>\n",
              "      <td>Houston</td>\n",
              "      <td>47.0</td>\n",
              "      <td>102.0</td>\n",
              "    </tr>\n",
              "    <tr>\n",
              "      <th>466</th>\n",
              "      <td>Saint Louis</td>\n",
              "      <td>37.0</td>\n",
              "      <td>148.0</td>\n",
              "    </tr>\n",
              "  </tbody>\n",
              "</table>\n",
              "</div>"
            ],
            "text/plain": [
              "            City  num_Killed  num_Injured\n",
              "106      Chicago        82.0        573.0\n",
              "285    Las Vegas        72.0        488.0\n",
              "389      Orlando        68.0        102.0\n",
              "243      Houston        47.0        102.0\n",
              "466  Saint Louis        37.0        148.0"
            ]
          },
          "metadata": {
            "tags": []
          },
          "execution_count": 36
        }
      ]
    },
    {
      "cell_type": "code",
      "metadata": {
        "id": "aUn7evJV_saR",
        "colab_type": "code",
        "outputId": "deb3ed25-84c1-47a8-b2d3-43061155fd5d",
        "colab": {
          "base_uri": "https://localhost:8080/",
          "height": 1438
        }
      },
      "source": [
        "mass_shooting_data.groupby('State')['num_Killed','num_Injured'].agg(['sum','count','mean','max'])"
      ],
      "execution_count": 0,
      "outputs": [
        {
          "output_type": "execute_result",
          "data": {
            "text/html": [
              "<div>\n",
              "<style scoped>\n",
              "    .dataframe tbody tr th:only-of-type {\n",
              "        vertical-align: middle;\n",
              "    }\n",
              "\n",
              "    .dataframe tbody tr th {\n",
              "        vertical-align: top;\n",
              "    }\n",
              "\n",
              "    .dataframe thead tr th {\n",
              "        text-align: left;\n",
              "    }\n",
              "\n",
              "    .dataframe thead tr:last-of-type th {\n",
              "        text-align: right;\n",
              "    }\n",
              "</style>\n",
              "<table border=\"1\" class=\"dataframe\">\n",
              "  <thead>\n",
              "    <tr>\n",
              "      <th></th>\n",
              "      <th colspan=\"4\" halign=\"left\">num_Killed</th>\n",
              "      <th colspan=\"4\" halign=\"left\">num_Injured</th>\n",
              "    </tr>\n",
              "    <tr>\n",
              "      <th></th>\n",
              "      <th>sum</th>\n",
              "      <th>count</th>\n",
              "      <th>mean</th>\n",
              "      <th>max</th>\n",
              "      <th>sum</th>\n",
              "      <th>count</th>\n",
              "      <th>mean</th>\n",
              "      <th>max</th>\n",
              "    </tr>\n",
              "    <tr>\n",
              "      <th>State</th>\n",
              "      <th></th>\n",
              "      <th></th>\n",
              "      <th></th>\n",
              "      <th></th>\n",
              "      <th></th>\n",
              "      <th></th>\n",
              "      <th></th>\n",
              "      <th></th>\n",
              "    </tr>\n",
              "  </thead>\n",
              "  <tbody>\n",
              "    <tr>\n",
              "      <th>Alabama</th>\n",
              "      <td>46.0</td>\n",
              "      <td>46</td>\n",
              "      <td>1.000000</td>\n",
              "      <td>5.0</td>\n",
              "      <td>183.0</td>\n",
              "      <td>46</td>\n",
              "      <td>3.978261</td>\n",
              "      <td>12.0</td>\n",
              "    </tr>\n",
              "    <tr>\n",
              "      <th>Alaska</th>\n",
              "      <td>0.0</td>\n",
              "      <td>1</td>\n",
              "      <td>0.000000</td>\n",
              "      <td>0.0</td>\n",
              "      <td>6.0</td>\n",
              "      <td>1</td>\n",
              "      <td>6.000000</td>\n",
              "      <td>6.0</td>\n",
              "    </tr>\n",
              "    <tr>\n",
              "      <th>Arizona</th>\n",
              "      <td>47.0</td>\n",
              "      <td>27</td>\n",
              "      <td>1.740741</td>\n",
              "      <td>5.0</td>\n",
              "      <td>89.0</td>\n",
              "      <td>27</td>\n",
              "      <td>3.296296</td>\n",
              "      <td>7.0</td>\n",
              "    </tr>\n",
              "    <tr>\n",
              "      <th>Arkansas</th>\n",
              "      <td>20.0</td>\n",
              "      <td>18</td>\n",
              "      <td>1.111111</td>\n",
              "      <td>4.0</td>\n",
              "      <td>91.0</td>\n",
              "      <td>18</td>\n",
              "      <td>5.055556</td>\n",
              "      <td>25.0</td>\n",
              "    </tr>\n",
              "    <tr>\n",
              "      <th>California</th>\n",
              "      <td>236.0</td>\n",
              "      <td>223</td>\n",
              "      <td>1.058296</td>\n",
              "      <td>16.0</td>\n",
              "      <td>900.0</td>\n",
              "      <td>223</td>\n",
              "      <td>4.035874</td>\n",
              "      <td>19.0</td>\n",
              "    </tr>\n",
              "    <tr>\n",
              "      <th>Colorado</th>\n",
              "      <td>23.0</td>\n",
              "      <td>21</td>\n",
              "      <td>1.095238</td>\n",
              "      <td>3.0</td>\n",
              "      <td>76.0</td>\n",
              "      <td>21</td>\n",
              "      <td>3.619048</td>\n",
              "      <td>9.0</td>\n",
              "    </tr>\n",
              "    <tr>\n",
              "      <th>Connecticut</th>\n",
              "      <td>5.0</td>\n",
              "      <td>14</td>\n",
              "      <td>0.357143</td>\n",
              "      <td>2.0</td>\n",
              "      <td>72.0</td>\n",
              "      <td>14</td>\n",
              "      <td>5.142857</td>\n",
              "      <td>13.0</td>\n",
              "    </tr>\n",
              "    <tr>\n",
              "      <th>Delaware</th>\n",
              "      <td>9.0</td>\n",
              "      <td>10</td>\n",
              "      <td>0.900000</td>\n",
              "      <td>5.0</td>\n",
              "      <td>38.0</td>\n",
              "      <td>10</td>\n",
              "      <td>3.800000</td>\n",
              "      <td>6.0</td>\n",
              "    </tr>\n",
              "    <tr>\n",
              "      <th>District of Columbia</th>\n",
              "      <td>8.0</td>\n",
              "      <td>30</td>\n",
              "      <td>0.266667</td>\n",
              "      <td>2.0</td>\n",
              "      <td>136.0</td>\n",
              "      <td>30</td>\n",
              "      <td>4.533333</td>\n",
              "      <td>13.0</td>\n",
              "    </tr>\n",
              "    <tr>\n",
              "      <th>Florida</th>\n",
              "      <td>200.0</td>\n",
              "      <td>129</td>\n",
              "      <td>1.550388</td>\n",
              "      <td>50.0</td>\n",
              "      <td>558.0</td>\n",
              "      <td>129</td>\n",
              "      <td>4.325581</td>\n",
              "      <td>53.0</td>\n",
              "    </tr>\n",
              "    <tr>\n",
              "      <th>Georgia</th>\n",
              "      <td>84.0</td>\n",
              "      <td>76</td>\n",
              "      <td>1.105263</td>\n",
              "      <td>6.0</td>\n",
              "      <td>286.0</td>\n",
              "      <td>76</td>\n",
              "      <td>3.763158</td>\n",
              "      <td>10.0</td>\n",
              "    </tr>\n",
              "    <tr>\n",
              "      <th>Illinois</th>\n",
              "      <td>119.0</td>\n",
              "      <td>176</td>\n",
              "      <td>0.676136</td>\n",
              "      <td>6.0</td>\n",
              "      <td>741.0</td>\n",
              "      <td>176</td>\n",
              "      <td>4.210227</td>\n",
              "      <td>12.0</td>\n",
              "    </tr>\n",
              "    <tr>\n",
              "      <th>Indiana</th>\n",
              "      <td>48.0</td>\n",
              "      <td>52</td>\n",
              "      <td>0.923077</td>\n",
              "      <td>5.0</td>\n",
              "      <td>193.0</td>\n",
              "      <td>52</td>\n",
              "      <td>3.711538</td>\n",
              "      <td>9.0</td>\n",
              "    </tr>\n",
              "    <tr>\n",
              "      <th>Iowa</th>\n",
              "      <td>4.0</td>\n",
              "      <td>5</td>\n",
              "      <td>0.800000</td>\n",
              "      <td>2.0</td>\n",
              "      <td>18.0</td>\n",
              "      <td>5</td>\n",
              "      <td>3.600000</td>\n",
              "      <td>5.0</td>\n",
              "    </tr>\n",
              "    <tr>\n",
              "      <th>Kansas</th>\n",
              "      <td>30.0</td>\n",
              "      <td>17</td>\n",
              "      <td>1.764706</td>\n",
              "      <td>5.0</td>\n",
              "      <td>65.0</td>\n",
              "      <td>17</td>\n",
              "      <td>3.823529</td>\n",
              "      <td>14.0</td>\n",
              "    </tr>\n",
              "    <tr>\n",
              "      <th>Kentucky</th>\n",
              "      <td>30.0</td>\n",
              "      <td>26</td>\n",
              "      <td>1.153846</td>\n",
              "      <td>5.0</td>\n",
              "      <td>102.0</td>\n",
              "      <td>26</td>\n",
              "      <td>3.923077</td>\n",
              "      <td>14.0</td>\n",
              "    </tr>\n",
              "    <tr>\n",
              "      <th>Louisiana</th>\n",
              "      <td>74.0</td>\n",
              "      <td>80</td>\n",
              "      <td>0.925000</td>\n",
              "      <td>5.0</td>\n",
              "      <td>356.0</td>\n",
              "      <td>80</td>\n",
              "      <td>4.450000</td>\n",
              "      <td>19.0</td>\n",
              "    </tr>\n",
              "    <tr>\n",
              "      <th>Maine</th>\n",
              "      <td>9.0</td>\n",
              "      <td>2</td>\n",
              "      <td>4.500000</td>\n",
              "      <td>5.0</td>\n",
              "      <td>1.0</td>\n",
              "      <td>2</td>\n",
              "      <td>0.500000</td>\n",
              "      <td>1.0</td>\n",
              "    </tr>\n",
              "    <tr>\n",
              "      <th>Maryland</th>\n",
              "      <td>52.0</td>\n",
              "      <td>52</td>\n",
              "      <td>1.000000</td>\n",
              "      <td>5.0</td>\n",
              "      <td>198.0</td>\n",
              "      <td>52</td>\n",
              "      <td>3.807692</td>\n",
              "      <td>8.0</td>\n",
              "    </tr>\n",
              "    <tr>\n",
              "      <th>Massachusetts</th>\n",
              "      <td>6.0</td>\n",
              "      <td>15</td>\n",
              "      <td>0.400000</td>\n",
              "      <td>1.0</td>\n",
              "      <td>65.0</td>\n",
              "      <td>15</td>\n",
              "      <td>4.333333</td>\n",
              "      <td>7.0</td>\n",
              "    </tr>\n",
              "    <tr>\n",
              "      <th>Michigan</th>\n",
              "      <td>54.0</td>\n",
              "      <td>60</td>\n",
              "      <td>0.900000</td>\n",
              "      <td>6.0</td>\n",
              "      <td>242.0</td>\n",
              "      <td>60</td>\n",
              "      <td>4.033333</td>\n",
              "      <td>11.0</td>\n",
              "    </tr>\n",
              "    <tr>\n",
              "      <th>Minnesota</th>\n",
              "      <td>11.0</td>\n",
              "      <td>16</td>\n",
              "      <td>0.687500</td>\n",
              "      <td>4.0</td>\n",
              "      <td>70.0</td>\n",
              "      <td>16</td>\n",
              "      <td>4.375000</td>\n",
              "      <td>8.0</td>\n",
              "    </tr>\n",
              "    <tr>\n",
              "      <th>Mississippi</th>\n",
              "      <td>49.0</td>\n",
              "      <td>32</td>\n",
              "      <td>1.531250</td>\n",
              "      <td>8.0</td>\n",
              "      <td>107.0</td>\n",
              "      <td>32</td>\n",
              "      <td>3.343750</td>\n",
              "      <td>7.0</td>\n",
              "    </tr>\n",
              "    <tr>\n",
              "      <th>Missouri</th>\n",
              "      <td>64.0</td>\n",
              "      <td>65</td>\n",
              "      <td>0.984615</td>\n",
              "      <td>4.0</td>\n",
              "      <td>239.0</td>\n",
              "      <td>65</td>\n",
              "      <td>3.676923</td>\n",
              "      <td>8.0</td>\n",
              "    </tr>\n",
              "    <tr>\n",
              "      <th>Montana</th>\n",
              "      <td>9.0</td>\n",
              "      <td>3</td>\n",
              "      <td>3.000000</td>\n",
              "      <td>5.0</td>\n",
              "      <td>5.0</td>\n",
              "      <td>3</td>\n",
              "      <td>1.666667</td>\n",
              "      <td>3.0</td>\n",
              "    </tr>\n",
              "    <tr>\n",
              "      <th>Nebraska</th>\n",
              "      <td>6.0</td>\n",
              "      <td>7</td>\n",
              "      <td>0.857143</td>\n",
              "      <td>3.0</td>\n",
              "      <td>32.0</td>\n",
              "      <td>7</td>\n",
              "      <td>4.571429</td>\n",
              "      <td>6.0</td>\n",
              "    </tr>\n",
              "    <tr>\n",
              "      <th>Nevada</th>\n",
              "      <td>72.0</td>\n",
              "      <td>17</td>\n",
              "      <td>4.235294</td>\n",
              "      <td>59.0</td>\n",
              "      <td>497.0</td>\n",
              "      <td>17</td>\n",
              "      <td>29.235294</td>\n",
              "      <td>441.0</td>\n",
              "    </tr>\n",
              "    <tr>\n",
              "      <th>New Jersey</th>\n",
              "      <td>34.0</td>\n",
              "      <td>54</td>\n",
              "      <td>0.629630</td>\n",
              "      <td>4.0</td>\n",
              "      <td>216.0</td>\n",
              "      <td>54</td>\n",
              "      <td>4.000000</td>\n",
              "      <td>19.0</td>\n",
              "    </tr>\n",
              "    <tr>\n",
              "      <th>New Mexico</th>\n",
              "      <td>32.0</td>\n",
              "      <td>13</td>\n",
              "      <td>2.461538</td>\n",
              "      <td>5.0</td>\n",
              "      <td>30.0</td>\n",
              "      <td>13</td>\n",
              "      <td>2.307692</td>\n",
              "      <td>6.0</td>\n",
              "    </tr>\n",
              "    <tr>\n",
              "      <th>New York</th>\n",
              "      <td>46.0</td>\n",
              "      <td>79</td>\n",
              "      <td>0.582278</td>\n",
              "      <td>5.0</td>\n",
              "      <td>332.0</td>\n",
              "      <td>79</td>\n",
              "      <td>4.202532</td>\n",
              "      <td>9.0</td>\n",
              "    </tr>\n",
              "    <tr>\n",
              "      <th>North Carolina</th>\n",
              "      <td>46.0</td>\n",
              "      <td>53</td>\n",
              "      <td>0.867925</td>\n",
              "      <td>4.0</td>\n",
              "      <td>203.0</td>\n",
              "      <td>53</td>\n",
              "      <td>3.830189</td>\n",
              "      <td>8.0</td>\n",
              "    </tr>\n",
              "    <tr>\n",
              "      <th>Ohio</th>\n",
              "      <td>74.0</td>\n",
              "      <td>66</td>\n",
              "      <td>1.121212</td>\n",
              "      <td>8.0</td>\n",
              "      <td>263.0</td>\n",
              "      <td>66</td>\n",
              "      <td>3.984848</td>\n",
              "      <td>15.0</td>\n",
              "    </tr>\n",
              "    <tr>\n",
              "      <th>Oklahoma</th>\n",
              "      <td>22.0</td>\n",
              "      <td>21</td>\n",
              "      <td>1.047619</td>\n",
              "      <td>4.0</td>\n",
              "      <td>74.0</td>\n",
              "      <td>21</td>\n",
              "      <td>3.523810</td>\n",
              "      <td>6.0</td>\n",
              "    </tr>\n",
              "    <tr>\n",
              "      <th>Oregon</th>\n",
              "      <td>15.0</td>\n",
              "      <td>6</td>\n",
              "      <td>2.500000</td>\n",
              "      <td>10.0</td>\n",
              "      <td>26.0</td>\n",
              "      <td>6</td>\n",
              "      <td>4.333333</td>\n",
              "      <td>9.0</td>\n",
              "    </tr>\n",
              "    <tr>\n",
              "      <th>Pennsylvania</th>\n",
              "      <td>76.0</td>\n",
              "      <td>79</td>\n",
              "      <td>0.962025</td>\n",
              "      <td>11.0</td>\n",
              "      <td>310.0</td>\n",
              "      <td>79</td>\n",
              "      <td>3.924051</td>\n",
              "      <td>11.0</td>\n",
              "    </tr>\n",
              "    <tr>\n",
              "      <th>Rhode Island</th>\n",
              "      <td>1.0</td>\n",
              "      <td>4</td>\n",
              "      <td>0.250000</td>\n",
              "      <td>1.0</td>\n",
              "      <td>16.0</td>\n",
              "      <td>4</td>\n",
              "      <td>4.000000</td>\n",
              "      <td>5.0</td>\n",
              "    </tr>\n",
              "    <tr>\n",
              "      <th>South Carolina</th>\n",
              "      <td>50.0</td>\n",
              "      <td>39</td>\n",
              "      <td>1.282051</td>\n",
              "      <td>9.0</td>\n",
              "      <td>145.0</td>\n",
              "      <td>39</td>\n",
              "      <td>3.717949</td>\n",
              "      <td>8.0</td>\n",
              "    </tr>\n",
              "    <tr>\n",
              "      <th>South Dakota</th>\n",
              "      <td>10.0</td>\n",
              "      <td>2</td>\n",
              "      <td>5.000000</td>\n",
              "      <td>6.0</td>\n",
              "      <td>1.0</td>\n",
              "      <td>2</td>\n",
              "      <td>0.500000</td>\n",
              "      <td>1.0</td>\n",
              "    </tr>\n",
              "    <tr>\n",
              "      <th>Tennessee</th>\n",
              "      <td>54.0</td>\n",
              "      <td>77</td>\n",
              "      <td>0.701299</td>\n",
              "      <td>6.0</td>\n",
              "      <td>313.0</td>\n",
              "      <td>77</td>\n",
              "      <td>4.064935</td>\n",
              "      <td>10.0</td>\n",
              "    </tr>\n",
              "    <tr>\n",
              "      <th>Texas</th>\n",
              "      <td>198.0</td>\n",
              "      <td>115</td>\n",
              "      <td>1.721739</td>\n",
              "      <td>10.0</td>\n",
              "      <td>411.0</td>\n",
              "      <td>115</td>\n",
              "      <td>3.573913</td>\n",
              "      <td>18.0</td>\n",
              "    </tr>\n",
              "    <tr>\n",
              "      <th>Utah</th>\n",
              "      <td>9.0</td>\n",
              "      <td>3</td>\n",
              "      <td>3.000000</td>\n",
              "      <td>5.0</td>\n",
              "      <td>7.0</td>\n",
              "      <td>3</td>\n",
              "      <td>2.333333</td>\n",
              "      <td>6.0</td>\n",
              "    </tr>\n",
              "    <tr>\n",
              "      <th>Virginia</th>\n",
              "      <td>40.0</td>\n",
              "      <td>46</td>\n",
              "      <td>0.869565</td>\n",
              "      <td>6.0</td>\n",
              "      <td>188.0</td>\n",
              "      <td>46</td>\n",
              "      <td>4.086957</td>\n",
              "      <td>10.0</td>\n",
              "    </tr>\n",
              "    <tr>\n",
              "      <th>Washington</th>\n",
              "      <td>42.0</td>\n",
              "      <td>21</td>\n",
              "      <td>2.000000</td>\n",
              "      <td>5.0</td>\n",
              "      <td>58.0</td>\n",
              "      <td>21</td>\n",
              "      <td>2.761905</td>\n",
              "      <td>6.0</td>\n",
              "    </tr>\n",
              "    <tr>\n",
              "      <th>West Virginia</th>\n",
              "      <td>5.0</td>\n",
              "      <td>3</td>\n",
              "      <td>1.666667</td>\n",
              "      <td>4.0</td>\n",
              "      <td>9.0</td>\n",
              "      <td>3</td>\n",
              "      <td>3.000000</td>\n",
              "      <td>6.0</td>\n",
              "    </tr>\n",
              "    <tr>\n",
              "      <th>Wisconsin</th>\n",
              "      <td>15.0</td>\n",
              "      <td>14</td>\n",
              "      <td>1.071429</td>\n",
              "      <td>5.0</td>\n",
              "      <td>47.0</td>\n",
              "      <td>14</td>\n",
              "      <td>3.357143</td>\n",
              "      <td>5.0</td>\n",
              "    </tr>\n",
              "  </tbody>\n",
              "</table>\n",
              "</div>"
            ],
            "text/plain": [
              "                     num_Killed                  ... num_Injured                  \n",
              "                            sum count      mean  ...       count       mean    max\n",
              "State                                            ...                              \n",
              "Alabama                    46.0    46  1.000000  ...          46   3.978261   12.0\n",
              "Alaska                      0.0     1  0.000000  ...           1   6.000000    6.0\n",
              "Arizona                    47.0    27  1.740741  ...          27   3.296296    7.0\n",
              "Arkansas                   20.0    18  1.111111  ...          18   5.055556   25.0\n",
              "California                236.0   223  1.058296  ...         223   4.035874   19.0\n",
              "Colorado                   23.0    21  1.095238  ...          21   3.619048    9.0\n",
              "Connecticut                 5.0    14  0.357143  ...          14   5.142857   13.0\n",
              "Delaware                    9.0    10  0.900000  ...          10   3.800000    6.0\n",
              "District of Columbia        8.0    30  0.266667  ...          30   4.533333   13.0\n",
              "Florida                   200.0   129  1.550388  ...         129   4.325581   53.0\n",
              "Georgia                    84.0    76  1.105263  ...          76   3.763158   10.0\n",
              "Illinois                  119.0   176  0.676136  ...         176   4.210227   12.0\n",
              "Indiana                    48.0    52  0.923077  ...          52   3.711538    9.0\n",
              "Iowa                        4.0     5  0.800000  ...           5   3.600000    5.0\n",
              "Kansas                     30.0    17  1.764706  ...          17   3.823529   14.0\n",
              "Kentucky                   30.0    26  1.153846  ...          26   3.923077   14.0\n",
              "Louisiana                  74.0    80  0.925000  ...          80   4.450000   19.0\n",
              "Maine                       9.0     2  4.500000  ...           2   0.500000    1.0\n",
              "Maryland                   52.0    52  1.000000  ...          52   3.807692    8.0\n",
              "Massachusetts               6.0    15  0.400000  ...          15   4.333333    7.0\n",
              "Michigan                   54.0    60  0.900000  ...          60   4.033333   11.0\n",
              "Minnesota                  11.0    16  0.687500  ...          16   4.375000    8.0\n",
              "Mississippi                49.0    32  1.531250  ...          32   3.343750    7.0\n",
              "Missouri                   64.0    65  0.984615  ...          65   3.676923    8.0\n",
              "Montana                     9.0     3  3.000000  ...           3   1.666667    3.0\n",
              "Nebraska                    6.0     7  0.857143  ...           7   4.571429    6.0\n",
              "Nevada                     72.0    17  4.235294  ...          17  29.235294  441.0\n",
              "New Jersey                 34.0    54  0.629630  ...          54   4.000000   19.0\n",
              "New Mexico                 32.0    13  2.461538  ...          13   2.307692    6.0\n",
              "New York                   46.0    79  0.582278  ...          79   4.202532    9.0\n",
              "North Carolina             46.0    53  0.867925  ...          53   3.830189    8.0\n",
              "Ohio                       74.0    66  1.121212  ...          66   3.984848   15.0\n",
              "Oklahoma                   22.0    21  1.047619  ...          21   3.523810    6.0\n",
              "Oregon                     15.0     6  2.500000  ...           6   4.333333    9.0\n",
              "Pennsylvania               76.0    79  0.962025  ...          79   3.924051   11.0\n",
              "Rhode Island                1.0     4  0.250000  ...           4   4.000000    5.0\n",
              "South Carolina             50.0    39  1.282051  ...          39   3.717949    8.0\n",
              "South Dakota               10.0     2  5.000000  ...           2   0.500000    1.0\n",
              "Tennessee                  54.0    77  0.701299  ...          77   4.064935   10.0\n",
              "Texas                     198.0   115  1.721739  ...         115   3.573913   18.0\n",
              "Utah                        9.0     3  3.000000  ...           3   2.333333    6.0\n",
              "Virginia                   40.0    46  0.869565  ...          46   4.086957   10.0\n",
              "Washington                 42.0    21  2.000000  ...          21   2.761905    6.0\n",
              "West Virginia               5.0     3  1.666667  ...           3   3.000000    6.0\n",
              "Wisconsin                  15.0    14  1.071429  ...          14   3.357143    5.0\n",
              "\n",
              "[45 rows x 8 columns]"
            ]
          },
          "metadata": {
            "tags": []
          },
          "execution_count": 37
        }
      ]
    },
    {
      "cell_type": "markdown",
      "metadata": {
        "colab_type": "text",
        "id": "hZAdpNzwJMRR"
      },
      "source": [
        "### Scope of Analysis\n",
        "Combined dataset will be used to analyze the following:\n",
        "<ul>\n",
        "  <li><b><i>Mass Shootings across United States:</i></b> Geolocation variables will be used to plot the incidents on a map to visualize the distribution of mass shootings in the United States. This will help us in identifying the states and locations where gun violence is relatively higher.</li>\n",
        "  <ul>\n",
        "    <li>Key variable of interest: num_Killed, Latitude, Longitude, City</li>\n",
        "  </ul>\n",
        "  <li><b><i>Change in Mass Shooting Incidents over the Years:</i></b> The change in number of mass shooting incidents over the years (2013 - 2019) and/or months across United States will be plotted. This will help us in finding any hidden trends in the data.</li>\n",
        "  <ul>\n",
        "    <li>Key variable of interest: Year/Months, num_Killed, num_Injured</li>\n",
        "    </ul>"
      ]
    },
    {
      "cell_type": "markdown",
      "metadata": {
        "id": "EcAtiPGb_sbH",
        "colab_type": "text"
      },
      "source": [
        "*** "
      ]
    },
    {
      "cell_type": "markdown",
      "metadata": {
        "colab_type": "text",
        "id": "l5ryYQF7JMRS"
      },
      "source": [
        "## Crime Statistics across the World"
      ]
    },
    {
      "cell_type": "markdown",
      "metadata": {
        "id": "MNqgCpMPMYzQ",
        "colab_type": "text"
      },
      "source": [
        "With less than 5% of the world’s population, the United States is home to roughly 35–50 per cent of the world’s civilian-owned guns, heavily skewing the global geography of firearms and any relative comparison. (Ref: https://www.theguardian.com/news/datablog/2012/jul/22/gun-homicides-ownership-world-list)"
      ]
    },
    {
      "cell_type": "markdown",
      "metadata": {
        "id": "nktknL6lMjEl",
        "colab_type": "text"
      },
      "source": [
        "### Datasets and  Sources\n",
        "**1. Gun Homicides and Gun Ownership Data from Guardian**: This dataset consists of firearms related murders and ownership details by country. Each row represents a country and details like average firearms per 100 people, total firearms owned by civilians, etc. Source: https://www.theguardian.com/news/datablog/2012/jul/22/gun-homicides-ownership-world-list#data)\n",
        "\n",
        "**2. Developed Countries 2019 Data from World Population Review**: This dataset is a list of developed countries in the world ranked according to their growth rate and population. Source: http://worldpopulationreview.com/countries/developed-countries/\n",
        "\n",
        "**Variables of interest**\n",
        "    <ul>\n",
        "      <li><i>Country</i>: Name of the country </li>\n",
        "      <li><i>% of homicides by firearm</i>: Percentage of homicides due to firearms</li>\n",
        "      <li><i>Homicide by firearm rate per 100,000 pop</i>: Number of homicides happened using firearms per 100,000  </li>\n",
        "      <li><i>Address</i>: Address where the mass shooting incidence took place</li>\n",
        "      <li><i>Average total all civilian firearm</i>: Average number of firearms held by civilians</li>\n",
        "      <li><i>Growth Rate</i>: The rate at which a country is growing according to CIA</li>\n",
        "    </ul>\n",
        "    \n",
        "**Limitations**\n",
        "    <ul>\n",
        "      <li> Data is present only for Small Arms</li>\n",
        "      <li> We do not have much information about the timeframe for the dataset, so the data may be outdated </li>\n",
        "      <li> Gun Homicides and Gun Ownership Data for United Kingdom and South Korea is not present</li>\n",
        "    </ul>\n"
      ]
    },
    {
      "cell_type": "markdown",
      "metadata": {
        "id": "rqcyyOcY_sbQ",
        "colab_type": "text"
      },
      "source": [
        "### Data Cleaning"
      ]
    },
    {
      "cell_type": "markdown",
      "metadata": {
        "id": "LSLJhQ6GyOWE",
        "colab_type": "text"
      },
      "source": [
        "The dataset needs some processing before we start exploring and visualizing the dataset further. Steps to be followed are:\n",
        "- Renaming column names for efficient data handling\n",
        "- Handling Null values\n",
        "- Merging with the list of developed countries"
      ]
    },
    {
      "cell_type": "markdown",
      "metadata": {
        "id": "FrvXhVT6_sbV",
        "colab_type": "text"
      },
      "source": [
        "Step 1: Reading in data for world crimes"
      ]
    },
    {
      "cell_type": "code",
      "metadata": {
        "colab_type": "code",
        "id": "--okCu1oJMRW",
        "outputId": "896cf866-be8d-4d02-bd70-91418090e4bb",
        "colab": {
          "base_uri": "https://localhost:8080/",
          "height": 229
        }
      },
      "source": [
        "world_crime = pd.read_csv(dataset_url + \"world_crime.csv\")\n",
        "world_crime.head()"
      ],
      "execution_count": 0,
      "outputs": [
        {
          "output_type": "execute_result",
          "data": {
            "text/html": [
              "<div>\n",
              "<style scoped>\n",
              "    .dataframe tbody tr th:only-of-type {\n",
              "        vertical-align: middle;\n",
              "    }\n",
              "\n",
              "    .dataframe tbody tr th {\n",
              "        vertical-align: top;\n",
              "    }\n",
              "\n",
              "    .dataframe thead th {\n",
              "        text-align: right;\n",
              "    }\n",
              "</style>\n",
              "<table border=\"1\" class=\"dataframe\">\n",
              "  <thead>\n",
              "    <tr style=\"text-align: right;\">\n",
              "      <th></th>\n",
              "      <th>Country/Territory</th>\n",
              "      <th>ISO code</th>\n",
              "      <th>Source</th>\n",
              "      <th>% of homicides by firearm</th>\n",
              "      <th>Number of homicides by firearm</th>\n",
              "      <th>Homicide by firearm rate per 100,000 pop</th>\n",
              "      <th>Rank by rate of ownership</th>\n",
              "      <th>Average firearms per 100 people</th>\n",
              "      <th>Average total all civilian firearms</th>\n",
              "    </tr>\n",
              "  </thead>\n",
              "  <tbody>\n",
              "    <tr>\n",
              "      <th>0</th>\n",
              "      <td>Albania</td>\n",
              "      <td>AL</td>\n",
              "      <td>CTS</td>\n",
              "      <td>65.9</td>\n",
              "      <td>56.0</td>\n",
              "      <td>1.76</td>\n",
              "      <td>70.0</td>\n",
              "      <td>8.6</td>\n",
              "      <td>270000.0</td>\n",
              "    </tr>\n",
              "    <tr>\n",
              "      <th>1</th>\n",
              "      <td>Algeria</td>\n",
              "      <td>DZ</td>\n",
              "      <td>CTS</td>\n",
              "      <td>4.8</td>\n",
              "      <td>20.0</td>\n",
              "      <td>0.06</td>\n",
              "      <td>78.0</td>\n",
              "      <td>7.6</td>\n",
              "      <td>1900000.0</td>\n",
              "    </tr>\n",
              "    <tr>\n",
              "      <th>2</th>\n",
              "      <td>Angola</td>\n",
              "      <td>AO</td>\n",
              "      <td>NaN</td>\n",
              "      <td>NaN</td>\n",
              "      <td>NaN</td>\n",
              "      <td>NaN</td>\n",
              "      <td>34.0</td>\n",
              "      <td>17.3</td>\n",
              "      <td>2800000.0</td>\n",
              "    </tr>\n",
              "    <tr>\n",
              "      <th>3</th>\n",
              "      <td>Anguilla</td>\n",
              "      <td>AI</td>\n",
              "      <td>WHO-MDB</td>\n",
              "      <td>24.0</td>\n",
              "      <td>1.0</td>\n",
              "      <td>7.14</td>\n",
              "      <td>NaN</td>\n",
              "      <td>NaN</td>\n",
              "      <td>NaN</td>\n",
              "    </tr>\n",
              "    <tr>\n",
              "      <th>4</th>\n",
              "      <td>Argentina</td>\n",
              "      <td>AR</td>\n",
              "      <td>Ministry of Justice</td>\n",
              "      <td>52.0</td>\n",
              "      <td>1198.0</td>\n",
              "      <td>3.02</td>\n",
              "      <td>62.0</td>\n",
              "      <td>10.2</td>\n",
              "      <td>3950000.0</td>\n",
              "    </tr>\n",
              "  </tbody>\n",
              "</table>\n",
              "</div>"
            ],
            "text/plain": [
              "  Country/Territory  ... Average total all civilian firearms\n",
              "0           Albania  ...                            270000.0\n",
              "1           Algeria  ...                           1900000.0\n",
              "2            Angola  ...                           2800000.0\n",
              "3          Anguilla  ...                                 NaN\n",
              "4         Argentina  ...                           3950000.0\n",
              "\n",
              "[5 rows x 9 columns]"
            ]
          },
          "metadata": {
            "tags": []
          },
          "execution_count": 38
        }
      ]
    },
    {
      "cell_type": "markdown",
      "metadata": {
        "id": "kAWDuKNi_sbY",
        "colab_type": "text"
      },
      "source": [
        "Step 2: Renaming columns for efficient data handling"
      ]
    },
    {
      "cell_type": "code",
      "metadata": {
        "colab_type": "code",
        "id": "_PdhgHkJJMRZ",
        "colab": {}
      },
      "source": [
        "# Creating a new list of column names\n",
        "cols = ['Country', 'Country_code', 'Source', '%_homi_gun', 'num_homi_gun', 'homi_gun_per100k', 'rank-rate_owner',\\\n",
        "        'avg_gun_per100', 'avg_tot_all_guns']\n",
        "# Replacing the existing column names with new names saved in the list 'cols'\n",
        "world_crime.columns = cols"
      ],
      "execution_count": 0,
      "outputs": []
    },
    {
      "cell_type": "markdown",
      "metadata": {
        "id": "R90Fc_Zo_sba",
        "colab_type": "text"
      },
      "source": [
        "Step 3: Handling Null values"
      ]
    },
    {
      "cell_type": "code",
      "metadata": {
        "colab_type": "code",
        "id": "gGYZ68FGJMRl",
        "outputId": "b1039bcd-ae3a-4a5d-aa77-34b99162f5f8",
        "colab": {
          "base_uri": "https://localhost:8080/",
          "height": 185
        }
      },
      "source": [
        "#Checking columns with 'NA' values\n",
        "world_crime.isna().sum()"
      ],
      "execution_count": 0,
      "outputs": [
        {
          "output_type": "execute_result",
          "data": {
            "text/plain": [
              "Country              0\n",
              "Country_code         1\n",
              "Source              69\n",
              "%_homi_gun          69\n",
              "num_homi_gun        69\n",
              "homi_gun_per100k    69\n",
              "rank-rate_owner      9\n",
              "avg_gun_per100       9\n",
              "avg_tot_all_guns     9\n",
              "dtype: int64"
            ]
          },
          "metadata": {
            "tags": []
          },
          "execution_count": 40
        }
      ]
    },
    {
      "cell_type": "code",
      "metadata": {
        "colab_type": "code",
        "id": "-v3lsNOMJMRr",
        "outputId": "55e863b9-c57e-4746-db96-61db9217a922",
        "colab": {
          "base_uri": "https://localhost:8080/",
          "height": 34
        }
      },
      "source": [
        "# Removing all the 'NA' values\n",
        "world_crime = world_crime.dropna()\n",
        "len(world_crime)"
      ],
      "execution_count": 0,
      "outputs": [
        {
          "output_type": "execute_result",
          "data": {
            "text/plain": [
              "107"
            ]
          },
          "metadata": {
            "tags": []
          },
          "execution_count": 41
        }
      ]
    },
    {
      "cell_type": "markdown",
      "metadata": {
        "id": "_8Auzchm_sbh",
        "colab_type": "text"
      },
      "source": [
        "Step 4: Merging the crime data will all the countries and combining with a list of developed countries."
      ]
    },
    {
      "cell_type": "code",
      "metadata": {
        "colab_type": "code",
        "id": "cm7ubnEpJMRx",
        "outputId": "e467b9fe-1638-4fec-a671-e822c90e6887",
        "colab": {
          "base_uri": "https://localhost:8080/",
          "height": 195
        }
      },
      "source": [
        "# Reading in data for growth rates for all 'Developed' countries\n",
        "developed_countries = pd.read_csv(dataset_url+\"developed.csv\")\n",
        "developed_countries.head()"
      ],
      "execution_count": 0,
      "outputs": [
        {
          "output_type": "execute_result",
          "data": {
            "text/html": [
              "<div>\n",
              "<style scoped>\n",
              "    .dataframe tbody tr th:only-of-type {\n",
              "        vertical-align: middle;\n",
              "    }\n",
              "\n",
              "    .dataframe tbody tr th {\n",
              "        vertical-align: top;\n",
              "    }\n",
              "\n",
              "    .dataframe thead th {\n",
              "        text-align: right;\n",
              "    }\n",
              "</style>\n",
              "<table border=\"1\" class=\"dataframe\">\n",
              "  <thead>\n",
              "    <tr style=\"text-align: right;\">\n",
              "      <th></th>\n",
              "      <th>cca2</th>\n",
              "      <th>name</th>\n",
              "      <th>area</th>\n",
              "      <th>pop2019</th>\n",
              "      <th>GrowthRate</th>\n",
              "    </tr>\n",
              "  </thead>\n",
              "  <tbody>\n",
              "    <tr>\n",
              "      <th>0</th>\n",
              "      <td>US</td>\n",
              "      <td>United States</td>\n",
              "      <td>9372610</td>\n",
              "      <td>329093.110</td>\n",
              "      <td>1.007119</td>\n",
              "    </tr>\n",
              "    <tr>\n",
              "      <th>1</th>\n",
              "      <td>JP</td>\n",
              "      <td>Japan</td>\n",
              "      <td>377930</td>\n",
              "      <td>126854.745</td>\n",
              "      <td>0.997401</td>\n",
              "    </tr>\n",
              "    <tr>\n",
              "      <th>2</th>\n",
              "      <td>TR</td>\n",
              "      <td>Turkey</td>\n",
              "      <td>783562</td>\n",
              "      <td>82961.805</td>\n",
              "      <td>1.012756</td>\n",
              "    </tr>\n",
              "    <tr>\n",
              "      <th>3</th>\n",
              "      <td>DE</td>\n",
              "      <td>Germany</td>\n",
              "      <td>357114</td>\n",
              "      <td>82438.639</td>\n",
              "      <td>1.001764</td>\n",
              "    </tr>\n",
              "    <tr>\n",
              "      <th>4</th>\n",
              "      <td>GB</td>\n",
              "      <td>United Kingdom</td>\n",
              "      <td>242900</td>\n",
              "      <td>66959.016</td>\n",
              "      <td>1.005791</td>\n",
              "    </tr>\n",
              "  </tbody>\n",
              "</table>\n",
              "</div>"
            ],
            "text/plain": [
              "  cca2            name     area     pop2019  GrowthRate\n",
              "0   US   United States  9372610  329093.110    1.007119\n",
              "1   JP           Japan   377930  126854.745    0.997401\n",
              "2   TR          Turkey   783562   82961.805    1.012756\n",
              "3   DE         Germany   357114   82438.639    1.001764\n",
              "4   GB  United Kingdom   242900   66959.016    1.005791"
            ]
          },
          "metadata": {
            "tags": []
          },
          "execution_count": 42
        }
      ]
    },
    {
      "cell_type": "code",
      "metadata": {
        "colab_type": "code",
        "id": "9Jw4a_7TJMR0",
        "outputId": "3b124293-0d20-4476-bd7b-04f03d5f71a7",
        "scrolled": true,
        "colab": {
          "base_uri": "https://localhost:8080/",
          "height": 118
        }
      },
      "source": [
        "# Checking for NAs\n",
        "developed_countries.isna().sum()"
      ],
      "execution_count": 0,
      "outputs": [
        {
          "output_type": "execute_result",
          "data": {
            "text/plain": [
              "cca2          0\n",
              "name          0\n",
              "area          0\n",
              "pop2019       0\n",
              "GrowthRate    0\n",
              "dtype: int64"
            ]
          },
          "metadata": {
            "tags": []
          },
          "execution_count": 43
        }
      ]
    },
    {
      "cell_type": "markdown",
      "metadata": {
        "id": "sQqxySap_sbm",
        "colab_type": "text"
      },
      "source": [
        "Merging world crime data with development index to the fing the position of the United States as compared to other developed countries. We are using inner join because we want to see the data only for developed countries."
      ]
    },
    {
      "cell_type": "code",
      "metadata": {
        "colab_type": "code",
        "id": "eeYdplfJJMR3",
        "scrolled": true,
        "colab": {}
      },
      "source": [
        "# Merging world crimes and growth rates dataset\n",
        "world_crime_developed = world_crime.merge(developed_countries, how=\"inner\", left_on=\"Country\", right_on=\"name\")\n",
        "# Removing columns that are not required for the analysis\n",
        "world_crime_developed.drop(columns = ['Source', 'cca2','name', 'area'], inplace = True)"
      ],
      "execution_count": 0,
      "outputs": []
    },
    {
      "cell_type": "markdown",
      "metadata": {
        "id": "9nNsP7-i_sbp",
        "colab_type": "text"
      },
      "source": [
        "### Final Dataset"
      ]
    },
    {
      "cell_type": "code",
      "metadata": {
        "id": "0ys11zET_sbp",
        "colab_type": "code",
        "outputId": "bc8adefa-564c-4eb9-f732-f4fe7fd95328",
        "colab": {
          "base_uri": "https://localhost:8080/",
          "height": 195
        }
      },
      "source": [
        "world_crime_developed.head()"
      ],
      "execution_count": 0,
      "outputs": [
        {
          "output_type": "execute_result",
          "data": {
            "text/html": [
              "<div>\n",
              "<style scoped>\n",
              "    .dataframe tbody tr th:only-of-type {\n",
              "        vertical-align: middle;\n",
              "    }\n",
              "\n",
              "    .dataframe tbody tr th {\n",
              "        vertical-align: top;\n",
              "    }\n",
              "\n",
              "    .dataframe thead th {\n",
              "        text-align: right;\n",
              "    }\n",
              "</style>\n",
              "<table border=\"1\" class=\"dataframe\">\n",
              "  <thead>\n",
              "    <tr style=\"text-align: right;\">\n",
              "      <th></th>\n",
              "      <th>Country</th>\n",
              "      <th>Country_code</th>\n",
              "      <th>%_homi_gun</th>\n",
              "      <th>num_homi_gun</th>\n",
              "      <th>homi_gun_per100k</th>\n",
              "      <th>rank-rate_owner</th>\n",
              "      <th>avg_gun_per100</th>\n",
              "      <th>avg_tot_all_guns</th>\n",
              "      <th>pop2019</th>\n",
              "      <th>GrowthRate</th>\n",
              "    </tr>\n",
              "  </thead>\n",
              "  <tbody>\n",
              "    <tr>\n",
              "      <th>0</th>\n",
              "      <td>Australia</td>\n",
              "      <td>AU</td>\n",
              "      <td>11.5</td>\n",
              "      <td>30.0</td>\n",
              "      <td>0.14</td>\n",
              "      <td>42.0</td>\n",
              "      <td>15.0</td>\n",
              "      <td>3050000.0</td>\n",
              "      <td>25088.636</td>\n",
              "      <td>1.012772</td>\n",
              "    </tr>\n",
              "    <tr>\n",
              "      <th>1</th>\n",
              "      <td>Austria</td>\n",
              "      <td>AT</td>\n",
              "      <td>29.5</td>\n",
              "      <td>18.0</td>\n",
              "      <td>0.22</td>\n",
              "      <td>14.0</td>\n",
              "      <td>30.4</td>\n",
              "      <td>2500000.0</td>\n",
              "      <td>8766.201</td>\n",
              "      <td>1.001643</td>\n",
              "    </tr>\n",
              "    <tr>\n",
              "      <th>2</th>\n",
              "      <td>Belgium</td>\n",
              "      <td>BE</td>\n",
              "      <td>39.5</td>\n",
              "      <td>70.0</td>\n",
              "      <td>0.68</td>\n",
              "      <td>34.0</td>\n",
              "      <td>17.2</td>\n",
              "      <td>1800000.0</td>\n",
              "      <td>11562.784</td>\n",
              "      <td>1.005589</td>\n",
              "    </tr>\n",
              "    <tr>\n",
              "      <th>3</th>\n",
              "      <td>Canada</td>\n",
              "      <td>CA</td>\n",
              "      <td>32.0</td>\n",
              "      <td>173.0</td>\n",
              "      <td>0.51</td>\n",
              "      <td>13.0</td>\n",
              "      <td>30.8</td>\n",
              "      <td>9950000.0</td>\n",
              "      <td>37279.811</td>\n",
              "      <td>1.008823</td>\n",
              "    </tr>\n",
              "    <tr>\n",
              "      <th>4</th>\n",
              "      <td>Cyprus</td>\n",
              "      <td>CY</td>\n",
              "      <td>26.3</td>\n",
              "      <td>5.0</td>\n",
              "      <td>0.46</td>\n",
              "      <td>6.0</td>\n",
              "      <td>36.4</td>\n",
              "      <td>275000.0</td>\n",
              "      <td>1198.427</td>\n",
              "      <td>1.007856</td>\n",
              "    </tr>\n",
              "  </tbody>\n",
              "</table>\n",
              "</div>"
            ],
            "text/plain": [
              "     Country Country_code  %_homi_gun  ...  avg_tot_all_guns    pop2019  GrowthRate\n",
              "0  Australia           AU        11.5  ...         3050000.0  25088.636    1.012772\n",
              "1    Austria           AT        29.5  ...         2500000.0   8766.201    1.001643\n",
              "2    Belgium           BE        39.5  ...         1800000.0  11562.784    1.005589\n",
              "3     Canada           CA        32.0  ...         9950000.0  37279.811    1.008823\n",
              "4     Cyprus           CY        26.3  ...          275000.0   1198.427    1.007856\n",
              "\n",
              "[5 rows x 10 columns]"
            ]
          },
          "metadata": {
            "tags": []
          },
          "execution_count": 45
        }
      ]
    },
    {
      "cell_type": "markdown",
      "metadata": {
        "id": "LbOtDCQ8_sbs",
        "colab_type": "text"
      },
      "source": [
        "### Exploration"
      ]
    },
    {
      "cell_type": "markdown",
      "metadata": {
        "id": "JzjG1pdJ_sbt",
        "colab_type": "text"
      },
      "source": [
        "Countries as per Gun ownership rate"
      ]
    },
    {
      "cell_type": "code",
      "metadata": {
        "scrolled": true,
        "id": "rL8b2zF2_sbu",
        "colab_type": "code",
        "outputId": "a2abd9f2-9213-492f-9d09-373b87228ee7",
        "colab": {
          "base_uri": "https://localhost:8080/",
          "height": 195
        }
      },
      "source": [
        "world_crime_developed.sort_values(by = 'rank-rate_owner')[:5]"
      ],
      "execution_count": 0,
      "outputs": [
        {
          "output_type": "execute_result",
          "data": {
            "text/html": [
              "<div>\n",
              "<style scoped>\n",
              "    .dataframe tbody tr th:only-of-type {\n",
              "        vertical-align: middle;\n",
              "    }\n",
              "\n",
              "    .dataframe tbody tr th {\n",
              "        vertical-align: top;\n",
              "    }\n",
              "\n",
              "    .dataframe thead th {\n",
              "        text-align: right;\n",
              "    }\n",
              "</style>\n",
              "<table border=\"1\" class=\"dataframe\">\n",
              "  <thead>\n",
              "    <tr style=\"text-align: right;\">\n",
              "      <th></th>\n",
              "      <th>Country</th>\n",
              "      <th>Country_code</th>\n",
              "      <th>%_homi_gun</th>\n",
              "      <th>num_homi_gun</th>\n",
              "      <th>homi_gun_per100k</th>\n",
              "      <th>rank-rate_owner</th>\n",
              "      <th>avg_gun_per100</th>\n",
              "      <th>avg_tot_all_guns</th>\n",
              "      <th>pop2019</th>\n",
              "      <th>GrowthRate</th>\n",
              "    </tr>\n",
              "  </thead>\n",
              "  <tbody>\n",
              "    <tr>\n",
              "      <th>28</th>\n",
              "      <td>United States</td>\n",
              "      <td>US</td>\n",
              "      <td>60.0</td>\n",
              "      <td>9146.0</td>\n",
              "      <td>2.97</td>\n",
              "      <td>1.0</td>\n",
              "      <td>88.8</td>\n",
              "      <td>270000000.0</td>\n",
              "      <td>329093.110</td>\n",
              "      <td>1.007119</td>\n",
              "    </tr>\n",
              "    <tr>\n",
              "      <th>26</th>\n",
              "      <td>Switzerland</td>\n",
              "      <td>CH</td>\n",
              "      <td>72.2</td>\n",
              "      <td>57.0</td>\n",
              "      <td>0.77</td>\n",
              "      <td>3.0</td>\n",
              "      <td>45.7</td>\n",
              "      <td>3400000.0</td>\n",
              "      <td>8608.259</td>\n",
              "      <td>1.007517</td>\n",
              "    </tr>\n",
              "    <tr>\n",
              "      <th>8</th>\n",
              "      <td>Finland</td>\n",
              "      <td>FI</td>\n",
              "      <td>19.8</td>\n",
              "      <td>24.0</td>\n",
              "      <td>0.45</td>\n",
              "      <td>4.0</td>\n",
              "      <td>45.3</td>\n",
              "      <td>2400000.0</td>\n",
              "      <td>5561.389</td>\n",
              "      <td>1.003405</td>\n",
              "    </tr>\n",
              "    <tr>\n",
              "      <th>4</th>\n",
              "      <td>Cyprus</td>\n",
              "      <td>CY</td>\n",
              "      <td>26.3</td>\n",
              "      <td>5.0</td>\n",
              "      <td>0.46</td>\n",
              "      <td>6.0</td>\n",
              "      <td>36.4</td>\n",
              "      <td>275000.0</td>\n",
              "      <td>1198.427</td>\n",
              "      <td>1.007856</td>\n",
              "    </tr>\n",
              "    <tr>\n",
              "      <th>25</th>\n",
              "      <td>Sweden</td>\n",
              "      <td>SE</td>\n",
              "      <td>33.9</td>\n",
              "      <td>37.0</td>\n",
              "      <td>0.41</td>\n",
              "      <td>10.0</td>\n",
              "      <td>31.6</td>\n",
              "      <td>2800000.0</td>\n",
              "      <td>10053.135</td>\n",
              "      <td>1.007055</td>\n",
              "    </tr>\n",
              "  </tbody>\n",
              "</table>\n",
              "</div>"
            ],
            "text/plain": [
              "          Country Country_code  ...     pop2019  GrowthRate\n",
              "28  United States           US  ...  329093.110    1.007119\n",
              "26    Switzerland           CH  ...    8608.259    1.007517\n",
              "8         Finland           FI  ...    5561.389    1.003405\n",
              "4          Cyprus           CY  ...    1198.427    1.007856\n",
              "25         Sweden           SE  ...   10053.135    1.007055\n",
              "\n",
              "[5 rows x 10 columns]"
            ]
          },
          "metadata": {
            "tags": []
          },
          "execution_count": 46
        }
      ]
    },
    {
      "cell_type": "code",
      "metadata": {
        "id": "bKtkl-gX_sbw",
        "colab_type": "code",
        "outputId": "35f78806-7a59-479b-df68-cd38967ac0f5",
        "colab": {
          "base_uri": "https://localhost:8080/",
          "height": 195
        }
      },
      "source": [
        "world_crime_developed.sort_values(by = 'avg_tot_all_guns', ascending = False)[:5]"
      ],
      "execution_count": 0,
      "outputs": [
        {
          "output_type": "execute_result",
          "data": {
            "text/html": [
              "<div>\n",
              "<style scoped>\n",
              "    .dataframe tbody tr th:only-of-type {\n",
              "        vertical-align: middle;\n",
              "    }\n",
              "\n",
              "    .dataframe tbody tr th {\n",
              "        vertical-align: top;\n",
              "    }\n",
              "\n",
              "    .dataframe thead th {\n",
              "        text-align: right;\n",
              "    }\n",
              "</style>\n",
              "<table border=\"1\" class=\"dataframe\">\n",
              "  <thead>\n",
              "    <tr style=\"text-align: right;\">\n",
              "      <th></th>\n",
              "      <th>Country</th>\n",
              "      <th>Country_code</th>\n",
              "      <th>%_homi_gun</th>\n",
              "      <th>num_homi_gun</th>\n",
              "      <th>homi_gun_per100k</th>\n",
              "      <th>rank-rate_owner</th>\n",
              "      <th>avg_gun_per100</th>\n",
              "      <th>avg_tot_all_guns</th>\n",
              "      <th>pop2019</th>\n",
              "      <th>GrowthRate</th>\n",
              "    </tr>\n",
              "  </thead>\n",
              "  <tbody>\n",
              "    <tr>\n",
              "      <th>28</th>\n",
              "      <td>United States</td>\n",
              "      <td>US</td>\n",
              "      <td>60.0</td>\n",
              "      <td>9146.0</td>\n",
              "      <td>2.97</td>\n",
              "      <td>1.0</td>\n",
              "      <td>88.8</td>\n",
              "      <td>270000000.0</td>\n",
              "      <td>329093.110</td>\n",
              "      <td>1.007119</td>\n",
              "    </tr>\n",
              "    <tr>\n",
              "      <th>10</th>\n",
              "      <td>Germany</td>\n",
              "      <td>DE</td>\n",
              "      <td>26.3</td>\n",
              "      <td>158.0</td>\n",
              "      <td>0.19</td>\n",
              "      <td>15.0</td>\n",
              "      <td>30.3</td>\n",
              "      <td>25000000.0</td>\n",
              "      <td>82438.639</td>\n",
              "      <td>1.001764</td>\n",
              "    </tr>\n",
              "    <tr>\n",
              "      <th>9</th>\n",
              "      <td>France</td>\n",
              "      <td>FR</td>\n",
              "      <td>9.6</td>\n",
              "      <td>35.0</td>\n",
              "      <td>0.06</td>\n",
              "      <td>12.0</td>\n",
              "      <td>31.2</td>\n",
              "      <td>19000000.0</td>\n",
              "      <td>65480.710</td>\n",
              "      <td>1.003793</td>\n",
              "    </tr>\n",
              "    <tr>\n",
              "      <th>3</th>\n",
              "      <td>Canada</td>\n",
              "      <td>CA</td>\n",
              "      <td>32.0</td>\n",
              "      <td>173.0</td>\n",
              "      <td>0.51</td>\n",
              "      <td>13.0</td>\n",
              "      <td>30.8</td>\n",
              "      <td>9950000.0</td>\n",
              "      <td>37279.811</td>\n",
              "      <td>1.008823</td>\n",
              "    </tr>\n",
              "    <tr>\n",
              "      <th>27</th>\n",
              "      <td>Turkey</td>\n",
              "      <td>TR</td>\n",
              "      <td>16.9</td>\n",
              "      <td>535.0</td>\n",
              "      <td>0.77</td>\n",
              "      <td>52.0</td>\n",
              "      <td>12.5</td>\n",
              "      <td>9000000.0</td>\n",
              "      <td>82961.805</td>\n",
              "      <td>1.012756</td>\n",
              "    </tr>\n",
              "  </tbody>\n",
              "</table>\n",
              "</div>"
            ],
            "text/plain": [
              "          Country Country_code  ...     pop2019  GrowthRate\n",
              "28  United States           US  ...  329093.110    1.007119\n",
              "10        Germany           DE  ...   82438.639    1.001764\n",
              "9          France           FR  ...   65480.710    1.003793\n",
              "3          Canada           CA  ...   37279.811    1.008823\n",
              "27         Turkey           TR  ...   82961.805    1.012756\n",
              "\n",
              "[5 rows x 10 columns]"
            ]
          },
          "metadata": {
            "tags": []
          },
          "execution_count": 47
        }
      ]
    },
    {
      "cell_type": "markdown",
      "metadata": {
        "colab_type": "text",
        "id": "TuFX1iPkJMR6"
      },
      "source": [
        "### Scope of Analysis\n",
        "The combined dataset can be used to analyze the following: \n",
        "\n",
        "<ul>\n",
        "  <li><b><i>Homicides by firearm per 1 million people</i></b>\n",
        "This visualization will showcase developed countries according to firearms related homicides. The argument we are trying to present here is that gun availability is a major risk factor for homicides in developed nations. </li>\n",
        "  <ul> <li>Key variables of interest - Country, homi_gun_per100k </li> </ul>\n",
        "<li>\n",
        "  <b><i>Population vs Ownership of firearms </i></b> In this graph we will plot the population of various countries as well as the ownership of firearms in those countries. This visualization will show us a comparison of the number of people living in a country versus the number of civilians who own firearms in those countries. </li>\n",
        "  <ul> <li>Key variables of interest: Country, pop2019, avg_tot_all_guns </li></ul>\n",
        "  \n",
        "  <li>\n",
        "    <b><i>Gun related deaths per 100k people vs guns per 100 people</i></b> This visualization will be a scatter plot gun related homicides against gun possession across developed countries. This visualization will help us identify relationship between gun ownership and gun related deaths across developed nations.\n",
        "    <ul><li>Key variables of interest: Country, homi_gun_per100k, avg_gun_per100</li></ul>\n",
        "  </li>"
      ]
    },
    {
      "cell_type": "markdown",
      "metadata": {
        "id": "QSqYKENjkLMV",
        "colab_type": "text"
      },
      "source": [
        "## Presence of Gun Laws and Death Rates across United States\n"
      ]
    },
    {
      "cell_type": "markdown",
      "metadata": {
        "id": "nXggjaW8kyXl",
        "colab_type": "text"
      },
      "source": [
        "On average 10 out of every 100,000 people are killed by firearms across the United States (Ref: https://www.theatlantic.com/national/archive/2011/01/the-geography-of-gun-deaths/69354/). \n",
        "\n",
        "But social factors like stress,mental illness,increase in populations and immigrants have no relation with gun related deaths\n",
        "(Ref: https://www.vox.com/policy-and-politics/2017/10/2/16399418/us-gun-violence-statistics-maps-charts). But there is scope for gun laws being in place to actually decrease deaths due to firearms."
      ]
    },
    {
      "cell_type": "markdown",
      "metadata": {
        "id": "dWlsvlL3kygR",
        "colab_type": "text"
      },
      "source": [
        "### Datasets and Sources\n",
        "**1. Firearms Child Protection**: The dataset consists of details of states with firearm laws designed to protect children. Each row represents the whether Child Access Prevention Firearm Law, Safe Storage Gun Lock Requirment and Assault Weapons Ban is present or not. Source: https://www.kff.org/other/state-indicator/firearms-and-children-legislation/?currentTimeframe=0&sortModel=%7B%22colId%22:%22Location%22,%22sort%22:%22asc%22%7D\n",
        "\n",
        "**2. Firearms Deaths**: The dataset consists number of deaths due to injury by firearms per 100,000 population in each state. Source: https://www.kff.org/other/state-indicator/firearms-death-rate-per-100000/?currentTimeframe=3&sortModel=%7B%22colId%22:%22Location%22,%22sort%22:%22asc%22%7D\n",
        "\n",
        "\n",
        "**Variables of Interest:**\n",
        "    <ul>\n",
        "      <li><i>Child Access Prevention Firearm Law</i>: State laws in place designed to prevent children from accessing firearms </li>\n",
        "      <li><i>Safe Storage or Gun Lock Requirment</i>: State laws concerning firearms locking devices in place</li>\n",
        "      <li><i>Assault Weapons Ban</i>: State law banning assault weapons, by name, or by specific features of the gun that make a gun an assault weapon in place or not</li>\n",
        "      <li><i>Firearms Death Rate per 100,000</i>: Deaths rate to injury by firearms per 100,000 Population</li>\n",
        "    </ul>\n",
        "    \n",
        " **Limitations**\n",
        " *  Firearms Child Protection dataset is only present for 2014 so the analysis is done only on 2014 data. Some states might have implemented laws which could not be captured\n",
        " * State laws applies to assault pistols only\n",
        " * Deaths from injury due to firearms excludes deaths due to explosives and other causes indirectly caused by firearms."
      ]
    },
    {
      "cell_type": "markdown",
      "metadata": {
        "id": "bLpfHTSylXMh",
        "colab_type": "text"
      },
      "source": [
        "### Data Cleaning"
      ]
    },
    {
      "cell_type": "markdown",
      "metadata": {
        "id": "vOtMlxv8kyqE",
        "colab_type": "text"
      },
      "source": [
        "The dataset needs some processing before we start exploring and visualizing the dataset further. Steps to be followed are:\n",
        "- Merging with the  Firearms Deaths data with  Firearm Child Protection\n",
        "- Creating new columns for states which has at least one gun law present"
      ]
    },
    {
      "cell_type": "markdown",
      "metadata": {
        "id": "ENXk4a48lWpO",
        "colab_type": "text"
      },
      "source": [
        "Step 1: Reading  the datset for firearms and child protection"
      ]
    },
    {
      "cell_type": "code",
      "metadata": {
        "id": "HnD40oGLleym",
        "colab_type": "code",
        "colab": {}
      },
      "source": [
        "firearm_child_protection = pd.read_csv(dataset_url + 'firearm_children.csv', skiprows = 2)"
      ],
      "execution_count": 0,
      "outputs": []
    },
    {
      "cell_type": "markdown",
      "metadata": {
        "id": "CX4kGFBipWOv",
        "colab_type": "text"
      },
      "source": [
        "Step 2: Removing columns and rows that are not required for the analysis"
      ]
    },
    {
      "cell_type": "code",
      "metadata": {
        "id": "U7Zvs-Egle3Q",
        "colab_type": "code",
        "colab": {}
      },
      "source": [
        "firearm_child_protection= firearm_child_protection[~(firearm_child_protection.Location == 'United States')]\n",
        "firearm_child_protection.drop(columns=['Footnotes'], inplace = True)"
      ],
      "execution_count": 0,
      "outputs": []
    },
    {
      "cell_type": "markdown",
      "metadata": {
        "id": "V1UJCx5VvBEI",
        "colab_type": "text"
      },
      "source": [
        "Step 3: Creating a new column atleast_1_law which has any of the laws implemented Child Access Prevention Firearm Law, Safe Storage or Gun Lock Requirment or Assault Weapons Ban"
      ]
    },
    {
      "cell_type": "code",
      "metadata": {
        "id": "uYzBWfv1u9ST",
        "colab_type": "code",
        "colab": {}
      },
      "source": [
        "firearm_child_protection['atleast_1_law']=((firearm_child_protection['Child Access Prevention Firearm Law']=='Yes')|\n",
        "                                                    (firearm_child_protection['Safe Storage or Gun Lock Requirment']=='Yes')|\n",
        "                                                    (firearm_child_protection['Assault Weapons Ban']=='Yes'))*1"
      ],
      "execution_count": 0,
      "outputs": []
    },
    {
      "cell_type": "markdown",
      "metadata": {
        "id": "r-kuA8gDsZF5",
        "colab_type": "text"
      },
      "source": [
        "Step 4: Reading  the datset for firearms and death rate"
      ]
    },
    {
      "cell_type": "code",
      "metadata": {
        "id": "FI1NKQ-7le8O",
        "colab_type": "code",
        "colab": {}
      },
      "source": [
        "firearm_death = pd.read_csv(dataset_url +'firearm_death.csv', skiprows = 2)"
      ],
      "execution_count": 0,
      "outputs": []
    },
    {
      "cell_type": "markdown",
      "metadata": {
        "id": "MFc_tmKrr74M",
        "colab_type": "text"
      },
      "source": [
        "Step 5: Removing columns and rows that are not required for the analysis"
      ]
    },
    {
      "cell_type": "code",
      "metadata": {
        "id": "GPjU63eplfCF",
        "colab_type": "code",
        "colab": {}
      },
      "source": [
        "firearm_death= firearm_death[~(firearm_death.Location == 'United States')]\n",
        "firearm_death= firearm_death[~(firearm_death.Location == 'United States')]"
      ],
      "execution_count": 0,
      "outputs": []
    },
    {
      "cell_type": "markdown",
      "metadata": {
        "id": "mh0iRhICsogx",
        "colab_type": "text"
      },
      "source": [
        "Step 6: Merging firearms child protection with firearms death data using inner join on state as we need information from both the datasets for our analysis"
      ]
    },
    {
      "cell_type": "code",
      "metadata": {
        "id": "SqS779MNl_cX",
        "colab_type": "code",
        "colab": {}
      },
      "source": [
        "firearm_statelaws_child_protection = firearm_death.merge(firearm_child_protection, how=\"inner\", left_on=\"Location\", right_on=\"Location\")"
      ],
      "execution_count": 0,
      "outputs": []
    },
    {
      "cell_type": "markdown",
      "metadata": {
        "id": "xhJigKuGtOlC",
        "colab_type": "text"
      },
      "source": [
        "### Final Dataset"
      ]
    },
    {
      "cell_type": "code",
      "metadata": {
        "id": "5CADch-il_g3",
        "colab_type": "code",
        "outputId": "757e421f-83f4-4b21-e8f4-4de4925cab46",
        "colab": {
          "base_uri": "https://localhost:8080/",
          "height": 195
        }
      },
      "source": [
        "firearm_statelaws_child_protection.head()"
      ],
      "execution_count": 0,
      "outputs": [
        {
          "output_type": "execute_result",
          "data": {
            "text/html": [
              "<div>\n",
              "<style scoped>\n",
              "    .dataframe tbody tr th:only-of-type {\n",
              "        vertical-align: middle;\n",
              "    }\n",
              "\n",
              "    .dataframe tbody tr th {\n",
              "        vertical-align: top;\n",
              "    }\n",
              "\n",
              "    .dataframe thead th {\n",
              "        text-align: right;\n",
              "    }\n",
              "</style>\n",
              "<table border=\"1\" class=\"dataframe\">\n",
              "  <thead>\n",
              "    <tr style=\"text-align: right;\">\n",
              "      <th></th>\n",
              "      <th>Location</th>\n",
              "      <th>Firearms Death Rate per 100,000</th>\n",
              "      <th>Child Access Prevention Firearm Law</th>\n",
              "      <th>Safe Storage or Gun Lock Requirment</th>\n",
              "      <th>Assault Weapons Ban</th>\n",
              "    </tr>\n",
              "  </thead>\n",
              "  <tbody>\n",
              "    <tr>\n",
              "      <th>0</th>\n",
              "      <td>Alabama</td>\n",
              "      <td>16.9</td>\n",
              "      <td>No</td>\n",
              "      <td>No</td>\n",
              "      <td>No</td>\n",
              "    </tr>\n",
              "    <tr>\n",
              "      <th>1</th>\n",
              "      <td>Alaska</td>\n",
              "      <td>19.2</td>\n",
              "      <td>No</td>\n",
              "      <td>No</td>\n",
              "      <td>No</td>\n",
              "    </tr>\n",
              "    <tr>\n",
              "      <th>2</th>\n",
              "      <td>Arizona</td>\n",
              "      <td>13.5</td>\n",
              "      <td>No</td>\n",
              "      <td>No</td>\n",
              "      <td>No</td>\n",
              "    </tr>\n",
              "    <tr>\n",
              "      <th>3</th>\n",
              "      <td>Arkansas</td>\n",
              "      <td>16.6</td>\n",
              "      <td>No</td>\n",
              "      <td>No</td>\n",
              "      <td>No</td>\n",
              "    </tr>\n",
              "    <tr>\n",
              "      <th>4</th>\n",
              "      <td>California</td>\n",
              "      <td>7.4</td>\n",
              "      <td>Yes</td>\n",
              "      <td>Yes</td>\n",
              "      <td>Yes</td>\n",
              "    </tr>\n",
              "  </tbody>\n",
              "</table>\n",
              "</div>"
            ],
            "text/plain": [
              "     Location  ...  Assault Weapons Ban\n",
              "0     Alabama  ...                   No\n",
              "1      Alaska  ...                   No\n",
              "2     Arizona  ...                   No\n",
              "3    Arkansas  ...                   No\n",
              "4  California  ...                  Yes\n",
              "\n",
              "[5 rows x 5 columns]"
            ]
          },
          "metadata": {
            "tags": []
          },
          "execution_count": 81
        }
      ]
    },
    {
      "cell_type": "markdown",
      "metadata": {
        "id": "FZI7yOdsvlaz",
        "colab_type": "text"
      },
      "source": [
        "### Exploration"
      ]
    },
    {
      "cell_type": "markdown",
      "metadata": {
        "id": "yuPTiNZOvrsV",
        "colab_type": "text"
      },
      "source": [
        "Average death rate related to firearms when the gun laws are present vs not present"
      ]
    },
    {
      "cell_type": "code",
      "metadata": {
        "id": "WAFX-eVkmGS9",
        "colab_type": "code",
        "outputId": "d85bfd08-7886-4952-9501-acc693e4e8c9",
        "colab": {
          "base_uri": "https://localhost:8080/",
          "height": 494
        }
      },
      "source": [
        "firearm_statelaws_child_protection.groupby('Child Access Prevention Firearm Law')['Firearms Death Rate per 100,000'].agg(['mean'])\n",
        "firearm_statelaws_child_protection.groupby('Safe Storage or Gun Lock Requirment')['Firearms Death Rate per 100,000'].agg(['mean'])\n",
        "firearm_statelaws_child_protection.groupby('Assault Weapons Ban')['Firearms Death Rate per 100,000'].agg(['mean'])\n",
        "firearm_statelaws_child_protection.groupby('atleast_1_law')['Firearms Death Rate per 100,000'].agg(['mean'])"
      ],
      "execution_count": 0,
      "outputs": [
        {
          "output_type": "execute_result",
          "data": {
            "text/html": [
              "<div>\n",
              "<style scoped>\n",
              "    .dataframe tbody tr th:only-of-type {\n",
              "        vertical-align: middle;\n",
              "    }\n",
              "\n",
              "    .dataframe tbody tr th {\n",
              "        vertical-align: top;\n",
              "    }\n",
              "\n",
              "    .dataframe thead th {\n",
              "        text-align: right;\n",
              "    }\n",
              "</style>\n",
              "<table border=\"1\" class=\"dataframe\">\n",
              "  <thead>\n",
              "    <tr style=\"text-align: right;\">\n",
              "      <th></th>\n",
              "      <th>mean</th>\n",
              "    </tr>\n",
              "    <tr>\n",
              "      <th>Child Access Prevention Firearm Law</th>\n",
              "      <th></th>\n",
              "    </tr>\n",
              "  </thead>\n",
              "  <tbody>\n",
              "    <tr>\n",
              "      <th>No</th>\n",
              "      <td>12.930435</td>\n",
              "    </tr>\n",
              "    <tr>\n",
              "      <th>Yes</th>\n",
              "      <td>10.228571</td>\n",
              "    </tr>\n",
              "  </tbody>\n",
              "</table>\n",
              "</div>"
            ],
            "text/plain": [
              "                                          mean\n",
              "Child Access Prevention Firearm Law           \n",
              "No                                   12.930435\n",
              "Yes                                  10.228571"
            ]
          },
          "metadata": {
            "tags": []
          },
          "execution_count": 72
        },
        {
          "output_type": "execute_result",
          "data": {
            "text/html": [
              "<div>\n",
              "<style scoped>\n",
              "    .dataframe tbody tr th:only-of-type {\n",
              "        vertical-align: middle;\n",
              "    }\n",
              "\n",
              "    .dataframe tbody tr th {\n",
              "        vertical-align: top;\n",
              "    }\n",
              "\n",
              "    .dataframe thead th {\n",
              "        text-align: right;\n",
              "    }\n",
              "</style>\n",
              "<table border=\"1\" class=\"dataframe\">\n",
              "  <thead>\n",
              "    <tr style=\"text-align: right;\">\n",
              "      <th></th>\n",
              "      <th>mean</th>\n",
              "    </tr>\n",
              "    <tr>\n",
              "      <th>Safe Storage or Gun Lock Requirment</th>\n",
              "      <th></th>\n",
              "    </tr>\n",
              "  </thead>\n",
              "  <tbody>\n",
              "    <tr>\n",
              "      <th>No</th>\n",
              "      <td>12.645000</td>\n",
              "    </tr>\n",
              "    <tr>\n",
              "      <th>Yes</th>\n",
              "      <td>7.090909</td>\n",
              "    </tr>\n",
              "  </tbody>\n",
              "</table>\n",
              "</div>"
            ],
            "text/plain": [
              "                                          mean\n",
              "Safe Storage or Gun Lock Requirment           \n",
              "No                                   12.645000\n",
              "Yes                                   7.090909"
            ]
          },
          "metadata": {
            "tags": []
          },
          "execution_count": 72
        },
        {
          "output_type": "execute_result",
          "data": {
            "text/html": [
              "<div>\n",
              "<style scoped>\n",
              "    .dataframe tbody tr th:only-of-type {\n",
              "        vertical-align: middle;\n",
              "    }\n",
              "\n",
              "    .dataframe tbody tr th {\n",
              "        vertical-align: top;\n",
              "    }\n",
              "\n",
              "    .dataframe thead th {\n",
              "        text-align: right;\n",
              "    }\n",
              "</style>\n",
              "<table border=\"1\" class=\"dataframe\">\n",
              "  <thead>\n",
              "    <tr style=\"text-align: right;\">\n",
              "      <th></th>\n",
              "      <th>mean</th>\n",
              "    </tr>\n",
              "    <tr>\n",
              "      <th>Assault Weapons Ban</th>\n",
              "      <th></th>\n",
              "    </tr>\n",
              "  </thead>\n",
              "  <tbody>\n",
              "    <tr>\n",
              "      <th>No</th>\n",
              "      <td>12.451163</td>\n",
              "    </tr>\n",
              "    <tr>\n",
              "      <th>Yes</th>\n",
              "      <td>6.050000</td>\n",
              "    </tr>\n",
              "  </tbody>\n",
              "</table>\n",
              "</div>"
            ],
            "text/plain": [
              "                          mean\n",
              "Assault Weapons Ban           \n",
              "No                   12.451163\n",
              "Yes                   6.050000"
            ]
          },
          "metadata": {
            "tags": []
          },
          "execution_count": 72
        },
        {
          "output_type": "execute_result",
          "data": {
            "text/html": [
              "<div>\n",
              "<style scoped>\n",
              "    .dataframe tbody tr th:only-of-type {\n",
              "        vertical-align: middle;\n",
              "    }\n",
              "\n",
              "    .dataframe tbody tr th {\n",
              "        vertical-align: top;\n",
              "    }\n",
              "\n",
              "    .dataframe thead th {\n",
              "        text-align: right;\n",
              "    }\n",
              "</style>\n",
              "<table border=\"1\" class=\"dataframe\">\n",
              "  <thead>\n",
              "    <tr style=\"text-align: right;\">\n",
              "      <th></th>\n",
              "      <th>mean</th>\n",
              "    </tr>\n",
              "    <tr>\n",
              "      <th>atleast_1_law</th>\n",
              "      <th></th>\n",
              "    </tr>\n",
              "  </thead>\n",
              "  <tbody>\n",
              "    <tr>\n",
              "      <th>0</th>\n",
              "      <td>13.752632</td>\n",
              "    </tr>\n",
              "    <tr>\n",
              "      <th>1</th>\n",
              "      <td>10.078125</td>\n",
              "    </tr>\n",
              "  </tbody>\n",
              "</table>\n",
              "</div>"
            ],
            "text/plain": [
              "                    mean\n",
              "atleast_1_law           \n",
              "0              13.752632\n",
              "1              10.078125"
            ]
          },
          "metadata": {
            "tags": []
          },
          "execution_count": 72
        }
      ]
    },
    {
      "cell_type": "markdown",
      "metadata": {
        "id": "sQFEw_UKmPNO",
        "colab_type": "text"
      },
      "source": [
        "### Scope of Analysis\n",
        "Combined dataset will be used to analyze the following:\n",
        "<ul>\n",
        "  <li><b><i>Relation of Gun laws with gun related deaths :</i></b> Analysis of gun related deaths with firearm laws can be performed to find the relation between these two and find if the presence of gun laws make some difference</li>\n",
        "  <ul>\n",
        "    <li>Key variable of interest: Assault Weapons Ban, atleast_1_law, Child Access Prevention Firearm Law, Safe Storage or Gun Lock Requirment, Firearms Death Rate per 100,000</li>\n",
        "  </ul>"
      ]
    },
    {
      "cell_type": "markdown",
      "metadata": {
        "id": "wEmBV3DX_sbz",
        "colab_type": "text"
      },
      "source": [
        "*** "
      ]
    },
    {
      "cell_type": "markdown",
      "metadata": {
        "id": "Bi1Yp3VVM2ID",
        "colab_type": "text"
      },
      "source": [
        "## References\n",
        "\n",
        "* America’s unique gun violence problem, explained in 17 maps and charts \n",
        "https://www.vox.com/policy-and-politics/2017/10/2/16399418/us-gun-violence-statistics-maps-charts\n",
        "\n",
        "* Gun homicides and gun ownership listed by country \n",
        "https://www.theguardian.com/news/datablog/2012/jul/22/gun-homicides-ownership-world-list#data\n",
        "\n",
        "* Developed Countries 2019\n",
        "http://worldpopulationreview.com/countries/developed-countries/\n",
        "\n",
        "* Gun Violence Archive (GVA) \n",
        "https://www.gunviolencearchive.org/\n",
        "\n",
        "* 1000 Largest US Cities By Population With Geographic Coordinates\n",
        "https://public.opendatasoft.com/explore/dataset/1000-largest-us-cities-by-population-with-geographic-coordinates/table/?sort=-rank\n",
        "\n",
        "* Harvard Injury Control Research Center\n",
        "https://www.hsph.harvard.edu/hicrc/firearms-research/guns-and-death/\n",
        "\n",
        "* States with Firearm Laws Designed to Protect Children\n",
        "https://www.kff.org/other/state-indicator/firearms-and-children-legislation/?currentTimeframe=0&sortModel=%7B%22colId%22:%22Location%22,%22sort%22:%22asc%22%7D\n",
        "\n",
        "* Number of Deaths Due to Injury by Firearms per 100,000 Population\n",
        "https://www.kff.org/other/state-indicator/firearms-death-rate-per-100000/?currentTimeframe=3&sortModel=%7B%22colId%22:%22Location%22,%22sort%22:%22asc%22%7D"
      ]
    }
  ]
}