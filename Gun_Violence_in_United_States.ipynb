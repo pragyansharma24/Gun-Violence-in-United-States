{
  "nbformat": 4,
  "nbformat_minor": 0,
  "metadata": {
    "colab": {
      "name": "Gun-Violence-in-United-States.ipynb",
      "version": "0.3.2",
      "provenance": [],
      "collapsed_sections": [],
      "include_colab_link": true
    },
    "language_info": {
      "codemirror_mode": {
        "name": "ipython",
        "version": 2
      },
      "file_extension": ".py",
      "mimetype": "text/x-python",
      "name": "python",
      "nbconvert_exporter": "python",
      "pygments_lexer": "ipython2",
      "version": "2.7.15"
    },
    "kernelspec": {
      "display_name": "Python 2",
      "language": "python",
      "name": "python2"
    }
  },
  "cells": [
    {
      "cell_type": "markdown",
      "metadata": {
        "id": "view-in-github",
        "colab_type": "text"
      },
      "source": [
        "<a href=\"https://colab.research.google.com/github/pragyansharma24/Gun-Violence-in-United-States/blob/master/Gun_Violence_in_United_States.ipynb\" target=\"_parent\"><img src=\"https://colab.research.google.com/assets/colab-badge.svg\" alt=\"Open In Colab\"/></a>"
      ]
    },
    {
      "cell_type": "markdown",
      "metadata": {
        "colab_type": "text",
        "id": "X5TJFZS3NvoP"
      },
      "source": [
        "# Gun Violence in the United States\n",
        "\n",
        "### Authors: Pragyan Sharma, Prerna Patil, Shriya Rao, Sonal Agrawal\n",
        "---\n",
        "\n",
        "\n",
        "\n",
        "\n"
      ]
    },
    {
      "cell_type": "markdown",
      "metadata": {
        "colab_type": "text",
        "id": "kMjKLapBpPeg"
      },
      "source": [
        "Over the years, there has been a continuous increase in the number of incidences related to gun violence in the United States. In addition to killing hundreds of Americans, it has forced them to live in a continuous fear of the next shooting. \n",
        "\n",
        "Therefore, in order to understand the magnitude of everyday gun violence, we have analyzed available data to understand:\n",
        "<ul>\n",
        "  <li><b>Crime statistics across United States</b></li>\n",
        "  <li><b>Crime statistics across the world</b></li>\n",
        "</ul>"
      ]
    },
    {
      "cell_type": "code",
      "metadata": {
        "colab_type": "code",
        "id": "_47XgdtOPg0m",
        "colab": {}
      },
      "source": [
        "import pandas as pd\n",
        "import numpy as np"
      ],
      "execution_count": 0,
      "outputs": []
    },
    {
      "cell_type": "markdown",
      "metadata": {
        "colab_type": "text",
        "id": "JfaXGyAKyBph"
      },
      "source": [
        "## Crime statistics across United States \n",
        "\n",
        "### Introduction: \n",
        "According to an article in New York Times, '*More people died from firearm injuries in the United States in 2017 than in any other year since at least 1968, according to new data from the Centers for Disease Control and Prevention*.' (Ref: https://www.nytimes.com/2018/12/18/us/gun-deaths.html)\n",
        "\n",
        "In fact, 2017 witnessed the highest number of mass shootings alone, killing and injuring hundreds of innocent lives. In order to understand the seriousness of the situation, we visualized each of the mass shooting incidences on a map of United States.   \n",
        "\n",
        "### Data Sources:\n",
        "<ul>\n",
        "  <li><b>Datasets:</b></li>\n",
        "    <ul>\n",
        "      <li><i>Mass Shootings: </i> (Ref: https://www.gunviolencearchive.org) </li>\n",
        "      <li> <i>City Locations: </i> *to be added later* </li>\n",
        "    </ul>\n",
        "  <li><b>Variables Used</b>:</li>\n",
        "    <ul>\n",
        "      <li><i>Incident Date</i>: The date of the mass shooting incidence</li>\n",
        "      <li><i>State</i>: State where the mass shooting incidence took place</li>\n",
        "      <li><i>City</i>: City where the mass shooting incidence took place</li>\n",
        "      <li><i>Address</i>: Address where the mass shooting incidence took place</li>\n",
        "      <li><i>num_Killed</i>: Number of people killed in the mass shooting incidence</li>\n",
        "      <li><i>num_Injured</i>: Number of people injured in the mass shooting incidence</li>\n",
        "      <li><i>Latitude</i>: Latitude of the given location</li>\n",
        "      <li><i>Longitude</i>: Longitude of the given location</li>\n",
        "    </ul>"
      ]
    },
    {
      "cell_type": "markdown",
      "metadata": {
        "colab_type": "text",
        "id": "y0zau_DmJMQ1"
      },
      "source": [
        "### Data Cleaning\n",
        "The dataset needs some preparation before we start exploring and visualizing the dataset further. In order to do so:\n",
        "<ul>\n",
        "  <li>Column names have been replaced with shorter names</li>\n",
        "  <li>'NAs' will be removed</li>\n",
        "  <li>Adding latitude and longitude for each of the given locations</li>\n",
        "  "
      ]
    },
    {
      "cell_type": "code",
      "metadata": {
        "colab_type": "code",
        "id": "Td0zRLyCOqzv",
        "outputId": "f9700ff9-2fdd-4e62-c564-23bde5350422",
        "scrolled": true,
        "colab": {}
      },
      "source": [
        "# Merging data for mass shootings from 2013 to 2019\n",
        "y2012_13 = pd.read_csv(\"2012&13.csv\")\n",
        "y2014 = pd.read_csv(\"2014.csv\")\n",
        "y2015 = pd.read_csv(\"2015.csv\")\n",
        "y2016 = pd.read_csv(\"2016.csv\")\n",
        "y2017 = pd.read_csv(\"2017.csv\")\n",
        "y2018 = pd.read_csv(\"2018.csv\")\n",
        "y2019 = pd.read_csv(\"2019.csv\")\n",
        "\n",
        "mass_shoot = pd.concat([y2012_13, y2014, y2015, y2016, y2017, y2018, y2019])\n",
        "mass_shoot.head()"
      ],
      "execution_count": 0,
      "outputs": [
        {
          "output_type": "execute_result",
          "data": {
            "text/html": [
              "<div>\n",
              "<style scoped>\n",
              "    .dataframe tbody tr th:only-of-type {\n",
              "        vertical-align: middle;\n",
              "    }\n",
              "\n",
              "    .dataframe tbody tr th {\n",
              "        vertical-align: top;\n",
              "    }\n",
              "\n",
              "    .dataframe thead th {\n",
              "        text-align: right;\n",
              "    }\n",
              "</style>\n",
              "<table border=\"1\" class=\"dataframe\">\n",
              "  <thead>\n",
              "    <tr style=\"text-align: right;\">\n",
              "      <th></th>\n",
              "      <th>Incident Date</th>\n",
              "      <th>State</th>\n",
              "      <th>City Or County</th>\n",
              "      <th>Address</th>\n",
              "      <th># Killed</th>\n",
              "      <th># Injured</th>\n",
              "      <th>Operations</th>\n",
              "    </tr>\n",
              "  </thead>\n",
              "  <tbody>\n",
              "    <tr>\n",
              "      <th>0</th>\n",
              "      <td>December 31, 2013</td>\n",
              "      <td>New York</td>\n",
              "      <td>Brooklyn</td>\n",
              "      <td>60 Glenmore Ave</td>\n",
              "      <td>0</td>\n",
              "      <td>6</td>\n",
              "      <td>NaN</td>\n",
              "    </tr>\n",
              "    <tr>\n",
              "      <th>1</th>\n",
              "      <td>December 28, 2013</td>\n",
              "      <td>Alabama</td>\n",
              "      <td>Montgomery</td>\n",
              "      <td>954 Highland Ave</td>\n",
              "      <td>3</td>\n",
              "      <td>5</td>\n",
              "      <td>NaN</td>\n",
              "    </tr>\n",
              "    <tr>\n",
              "      <th>2</th>\n",
              "      <td>December 26, 2013</td>\n",
              "      <td>Louisiana</td>\n",
              "      <td>Slidell</td>\n",
              "      <td>2144 First St</td>\n",
              "      <td>2</td>\n",
              "      <td>6</td>\n",
              "      <td>NaN</td>\n",
              "    </tr>\n",
              "    <tr>\n",
              "      <th>3</th>\n",
              "      <td>December 26, 2013</td>\n",
              "      <td>Louisiana</td>\n",
              "      <td>Lockport</td>\n",
              "      <td>313 Tenth St</td>\n",
              "      <td>3</td>\n",
              "      <td>3</td>\n",
              "      <td>NaN</td>\n",
              "    </tr>\n",
              "    <tr>\n",
              "      <th>4</th>\n",
              "      <td>December 25, 2013</td>\n",
              "      <td>New Jersey</td>\n",
              "      <td>Irvington</td>\n",
              "      <td>Nye Avenue and 21st Street</td>\n",
              "      <td>3</td>\n",
              "      <td>2</td>\n",
              "      <td>NaN</td>\n",
              "    </tr>\n",
              "  </tbody>\n",
              "</table>\n",
              "</div>"
            ],
            "text/plain": [
              "       Incident Date       State City Or County                     Address  \\\n",
              "0  December 31, 2013    New York       Brooklyn             60 Glenmore Ave   \n",
              "1  December 28, 2013     Alabama     Montgomery            954 Highland Ave   \n",
              "2  December 26, 2013   Louisiana        Slidell               2144 First St   \n",
              "3  December 26, 2013   Louisiana       Lockport                313 Tenth St   \n",
              "4  December 25, 2013  New Jersey      Irvington  Nye Avenue and 21st Street   \n",
              "\n",
              "   # Killed  # Injured  Operations  \n",
              "0         0          6         NaN  \n",
              "1         3          5         NaN  \n",
              "2         2          6         NaN  \n",
              "3         3          3         NaN  \n",
              "4         3          2         NaN  "
            ]
          },
          "metadata": {
            "tags": []
          },
          "execution_count": 29
        }
      ]
    },
    {
      "cell_type": "code",
      "metadata": {
        "colab_type": "code",
        "id": "rxJeMwSPJMQ6",
        "outputId": "7f9b8023-8062-446b-f692-73d0ddd25799",
        "scrolled": true,
        "colab": {}
      },
      "source": [
        "# Renaming columns for efficient data handling\n",
        "mass_shoot.rename(columns={'Incident Date':'Date','City Or County':'City', '# Killed':'num_Killed', '# Injured':'num_Injured'}, inplace=True)\n",
        "mass_shoot.head()"
      ],
      "execution_count": 0,
      "outputs": [
        {
          "output_type": "execute_result",
          "data": {
            "text/html": [
              "<div>\n",
              "<style scoped>\n",
              "    .dataframe tbody tr th:only-of-type {\n",
              "        vertical-align: middle;\n",
              "    }\n",
              "\n",
              "    .dataframe tbody tr th {\n",
              "        vertical-align: top;\n",
              "    }\n",
              "\n",
              "    .dataframe thead th {\n",
              "        text-align: right;\n",
              "    }\n",
              "</style>\n",
              "<table border=\"1\" class=\"dataframe\">\n",
              "  <thead>\n",
              "    <tr style=\"text-align: right;\">\n",
              "      <th></th>\n",
              "      <th>Date</th>\n",
              "      <th>State</th>\n",
              "      <th>City</th>\n",
              "      <th>Address</th>\n",
              "      <th>num_Killed</th>\n",
              "      <th>num_Injured</th>\n",
              "      <th>Operations</th>\n",
              "    </tr>\n",
              "  </thead>\n",
              "  <tbody>\n",
              "    <tr>\n",
              "      <th>0</th>\n",
              "      <td>December 31, 2013</td>\n",
              "      <td>New York</td>\n",
              "      <td>Brooklyn</td>\n",
              "      <td>60 Glenmore Ave</td>\n",
              "      <td>0</td>\n",
              "      <td>6</td>\n",
              "      <td>NaN</td>\n",
              "    </tr>\n",
              "    <tr>\n",
              "      <th>1</th>\n",
              "      <td>December 28, 2013</td>\n",
              "      <td>Alabama</td>\n",
              "      <td>Montgomery</td>\n",
              "      <td>954 Highland Ave</td>\n",
              "      <td>3</td>\n",
              "      <td>5</td>\n",
              "      <td>NaN</td>\n",
              "    </tr>\n",
              "    <tr>\n",
              "      <th>2</th>\n",
              "      <td>December 26, 2013</td>\n",
              "      <td>Louisiana</td>\n",
              "      <td>Slidell</td>\n",
              "      <td>2144 First St</td>\n",
              "      <td>2</td>\n",
              "      <td>6</td>\n",
              "      <td>NaN</td>\n",
              "    </tr>\n",
              "    <tr>\n",
              "      <th>3</th>\n",
              "      <td>December 26, 2013</td>\n",
              "      <td>Louisiana</td>\n",
              "      <td>Lockport</td>\n",
              "      <td>313 Tenth St</td>\n",
              "      <td>3</td>\n",
              "      <td>3</td>\n",
              "      <td>NaN</td>\n",
              "    </tr>\n",
              "    <tr>\n",
              "      <th>4</th>\n",
              "      <td>December 25, 2013</td>\n",
              "      <td>New Jersey</td>\n",
              "      <td>Irvington</td>\n",
              "      <td>Nye Avenue and 21st Street</td>\n",
              "      <td>3</td>\n",
              "      <td>2</td>\n",
              "      <td>NaN</td>\n",
              "    </tr>\n",
              "  </tbody>\n",
              "</table>\n",
              "</div>"
            ],
            "text/plain": [
              "                Date       State        City                     Address  \\\n",
              "0  December 31, 2013    New York    Brooklyn             60 Glenmore Ave   \n",
              "1  December 28, 2013     Alabama  Montgomery            954 Highland Ave   \n",
              "2  December 26, 2013   Louisiana     Slidell               2144 First St   \n",
              "3  December 26, 2013   Louisiana    Lockport                313 Tenth St   \n",
              "4  December 25, 2013  New Jersey   Irvington  Nye Avenue and 21st Street   \n",
              "\n",
              "   num_Killed  num_Injured  Operations  \n",
              "0           0            6         NaN  \n",
              "1           3            5         NaN  \n",
              "2           2            6         NaN  \n",
              "3           3            3         NaN  \n",
              "4           3            2         NaN  "
            ]
          },
          "metadata": {
            "tags": []
          },
          "execution_count": 30
        }
      ]
    },
    {
      "cell_type": "code",
      "metadata": {
        "id": "2-EKExs9SODe",
        "colab_type": "code",
        "outputId": "33dd5916-3a88-4bb8-b8f5-b73db6fae1da",
        "colab": {}
      },
      "source": [
        "# Extracting year from the incident date column\n",
        "from datetime import datetime as dt\n",
        "\n",
        "mass_shoot['Date'] = pd.to_datetime(mass_shoot['Date'])\n",
        "mass_shoot['Year'] = mass_shoot['Date'].dt.year\n",
        "mass_shoot.head()"
      ],
      "execution_count": 0,
      "outputs": [
        {
          "output_type": "execute_result",
          "data": {
            "text/html": [
              "<div>\n",
              "<style scoped>\n",
              "    .dataframe tbody tr th:only-of-type {\n",
              "        vertical-align: middle;\n",
              "    }\n",
              "\n",
              "    .dataframe tbody tr th {\n",
              "        vertical-align: top;\n",
              "    }\n",
              "\n",
              "    .dataframe thead th {\n",
              "        text-align: right;\n",
              "    }\n",
              "</style>\n",
              "<table border=\"1\" class=\"dataframe\">\n",
              "  <thead>\n",
              "    <tr style=\"text-align: right;\">\n",
              "      <th></th>\n",
              "      <th>Date</th>\n",
              "      <th>State</th>\n",
              "      <th>City</th>\n",
              "      <th>Address</th>\n",
              "      <th>num_Killed</th>\n",
              "      <th>num_Injured</th>\n",
              "      <th>Operations</th>\n",
              "      <th>Year</th>\n",
              "    </tr>\n",
              "  </thead>\n",
              "  <tbody>\n",
              "    <tr>\n",
              "      <th>0</th>\n",
              "      <td>2013-12-31</td>\n",
              "      <td>New York</td>\n",
              "      <td>Brooklyn</td>\n",
              "      <td>60 Glenmore Ave</td>\n",
              "      <td>0</td>\n",
              "      <td>6</td>\n",
              "      <td>NaN</td>\n",
              "      <td>2013</td>\n",
              "    </tr>\n",
              "    <tr>\n",
              "      <th>1</th>\n",
              "      <td>2013-12-28</td>\n",
              "      <td>Alabama</td>\n",
              "      <td>Montgomery</td>\n",
              "      <td>954 Highland Ave</td>\n",
              "      <td>3</td>\n",
              "      <td>5</td>\n",
              "      <td>NaN</td>\n",
              "      <td>2013</td>\n",
              "    </tr>\n",
              "    <tr>\n",
              "      <th>2</th>\n",
              "      <td>2013-12-26</td>\n",
              "      <td>Louisiana</td>\n",
              "      <td>Slidell</td>\n",
              "      <td>2144 First St</td>\n",
              "      <td>2</td>\n",
              "      <td>6</td>\n",
              "      <td>NaN</td>\n",
              "      <td>2013</td>\n",
              "    </tr>\n",
              "    <tr>\n",
              "      <th>3</th>\n",
              "      <td>2013-12-26</td>\n",
              "      <td>Louisiana</td>\n",
              "      <td>Lockport</td>\n",
              "      <td>313 Tenth St</td>\n",
              "      <td>3</td>\n",
              "      <td>3</td>\n",
              "      <td>NaN</td>\n",
              "      <td>2013</td>\n",
              "    </tr>\n",
              "    <tr>\n",
              "      <th>4</th>\n",
              "      <td>2013-12-25</td>\n",
              "      <td>New Jersey</td>\n",
              "      <td>Irvington</td>\n",
              "      <td>Nye Avenue and 21st Street</td>\n",
              "      <td>3</td>\n",
              "      <td>2</td>\n",
              "      <td>NaN</td>\n",
              "      <td>2013</td>\n",
              "    </tr>\n",
              "  </tbody>\n",
              "</table>\n",
              "</div>"
            ],
            "text/plain": [
              "        Date       State        City                     Address  num_Killed  \\\n",
              "0 2013-12-31    New York    Brooklyn             60 Glenmore Ave           0   \n",
              "1 2013-12-28     Alabama  Montgomery            954 Highland Ave           3   \n",
              "2 2013-12-26   Louisiana     Slidell               2144 First St           2   \n",
              "3 2013-12-26   Louisiana    Lockport                313 Tenth St           3   \n",
              "4 2013-12-25  New Jersey   Irvington  Nye Avenue and 21st Street           3   \n",
              "\n",
              "   num_Injured  Operations  Year  \n",
              "0            6         NaN  2013  \n",
              "1            5         NaN  2013  \n",
              "2            6         NaN  2013  \n",
              "3            3         NaN  2013  \n",
              "4            2         NaN  2013  "
            ]
          },
          "metadata": {
            "tags": []
          },
          "execution_count": 31
        }
      ]
    },
    {
      "cell_type": "code",
      "metadata": {
        "colab_type": "code",
        "id": "0AURVzy8JMRA",
        "outputId": "a483aff7-08f8-4d5b-be56-d2ab49f41ecf",
        "colab": {}
      },
      "source": [
        "# Reading in data for latitudes and longitudes for cities in the United States\n",
        "cities = pd.read_csv(\"uscitiesv1.5.csv\")\n",
        "\n",
        "# Selecting relevant columns for further analysis\n",
        "cities_sub = cities[['city','state_id', 'state_name','lat', 'lng']]\n",
        "cities_sub.head()"
      ],
      "execution_count": 0,
      "outputs": [
        {
          "output_type": "execute_result",
          "data": {
            "text/html": [
              "<div>\n",
              "<style scoped>\n",
              "    .dataframe tbody tr th:only-of-type {\n",
              "        vertical-align: middle;\n",
              "    }\n",
              "\n",
              "    .dataframe tbody tr th {\n",
              "        vertical-align: top;\n",
              "    }\n",
              "\n",
              "    .dataframe thead th {\n",
              "        text-align: right;\n",
              "    }\n",
              "</style>\n",
              "<table border=\"1\" class=\"dataframe\">\n",
              "  <thead>\n",
              "    <tr style=\"text-align: right;\">\n",
              "      <th></th>\n",
              "      <th>city</th>\n",
              "      <th>state_id</th>\n",
              "      <th>state_name</th>\n",
              "      <th>lat</th>\n",
              "      <th>lng</th>\n",
              "    </tr>\n",
              "  </thead>\n",
              "  <tbody>\n",
              "    <tr>\n",
              "      <th>0</th>\n",
              "      <td>Prairie Ridge</td>\n",
              "      <td>WA</td>\n",
              "      <td>Washington</td>\n",
              "      <td>47.1443</td>\n",
              "      <td>-122.1408</td>\n",
              "    </tr>\n",
              "    <tr>\n",
              "      <th>1</th>\n",
              "      <td>Edison</td>\n",
              "      <td>WA</td>\n",
              "      <td>Washington</td>\n",
              "      <td>48.5602</td>\n",
              "      <td>-122.4311</td>\n",
              "    </tr>\n",
              "    <tr>\n",
              "      <th>2</th>\n",
              "      <td>Packwood</td>\n",
              "      <td>WA</td>\n",
              "      <td>Washington</td>\n",
              "      <td>46.6085</td>\n",
              "      <td>-121.6702</td>\n",
              "    </tr>\n",
              "    <tr>\n",
              "      <th>3</th>\n",
              "      <td>Wautauga Beach</td>\n",
              "      <td>WA</td>\n",
              "      <td>Washington</td>\n",
              "      <td>47.5862</td>\n",
              "      <td>-122.5482</td>\n",
              "    </tr>\n",
              "    <tr>\n",
              "      <th>4</th>\n",
              "      <td>Harper</td>\n",
              "      <td>WA</td>\n",
              "      <td>Washington</td>\n",
              "      <td>47.5207</td>\n",
              "      <td>-122.5196</td>\n",
              "    </tr>\n",
              "  </tbody>\n",
              "</table>\n",
              "</div>"
            ],
            "text/plain": [
              "             city state_id  state_name      lat       lng\n",
              "0   Prairie Ridge       WA  Washington  47.1443 -122.1408\n",
              "1          Edison       WA  Washington  48.5602 -122.4311\n",
              "2        Packwood       WA  Washington  46.6085 -121.6702\n",
              "3  Wautauga Beach       WA  Washington  47.5862 -122.5482\n",
              "4          Harper       WA  Washington  47.5207 -122.5196"
            ]
          },
          "metadata": {
            "tags": []
          },
          "execution_count": 32
        }
      ]
    },
    {
      "cell_type": "code",
      "metadata": {
        "colab_type": "code",
        "id": "TYFV6BMkJMRD",
        "outputId": "2298f81c-0238-4a1d-8f4e-e68159f7b3ee",
        "colab": {}
      },
      "source": [
        "# Merging data for mass shootings and location data for cities\n",
        "city_data = mass_shoot.merge(cities_sub,how='left', left_on=['City', 'State'], right_on=['city', 'state_name'])\n",
        "city_data.head()"
      ],
      "execution_count": 0,
      "outputs": [
        {
          "output_type": "execute_result",
          "data": {
            "text/html": [
              "<div>\n",
              "<style scoped>\n",
              "    .dataframe tbody tr th:only-of-type {\n",
              "        vertical-align: middle;\n",
              "    }\n",
              "\n",
              "    .dataframe tbody tr th {\n",
              "        vertical-align: top;\n",
              "    }\n",
              "\n",
              "    .dataframe thead th {\n",
              "        text-align: right;\n",
              "    }\n",
              "</style>\n",
              "<table border=\"1\" class=\"dataframe\">\n",
              "  <thead>\n",
              "    <tr style=\"text-align: right;\">\n",
              "      <th></th>\n",
              "      <th>Date</th>\n",
              "      <th>State</th>\n",
              "      <th>City</th>\n",
              "      <th>Address</th>\n",
              "      <th>num_Killed</th>\n",
              "      <th>num_Injured</th>\n",
              "      <th>Operations</th>\n",
              "      <th>Year</th>\n",
              "      <th>city</th>\n",
              "      <th>state_id</th>\n",
              "      <th>state_name</th>\n",
              "      <th>lat</th>\n",
              "      <th>lng</th>\n",
              "    </tr>\n",
              "  </thead>\n",
              "  <tbody>\n",
              "    <tr>\n",
              "      <th>0</th>\n",
              "      <td>2013-12-31</td>\n",
              "      <td>New York</td>\n",
              "      <td>Brooklyn</td>\n",
              "      <td>60 Glenmore Ave</td>\n",
              "      <td>0</td>\n",
              "      <td>6</td>\n",
              "      <td>NaN</td>\n",
              "      <td>2013</td>\n",
              "      <td>Brooklyn</td>\n",
              "      <td>NY</td>\n",
              "      <td>New York</td>\n",
              "      <td>40.6501</td>\n",
              "      <td>-73.9496</td>\n",
              "    </tr>\n",
              "    <tr>\n",
              "      <th>1</th>\n",
              "      <td>2013-12-28</td>\n",
              "      <td>Alabama</td>\n",
              "      <td>Montgomery</td>\n",
              "      <td>954 Highland Ave</td>\n",
              "      <td>3</td>\n",
              "      <td>5</td>\n",
              "      <td>NaN</td>\n",
              "      <td>2013</td>\n",
              "      <td>Montgomery</td>\n",
              "      <td>AL</td>\n",
              "      <td>Alabama</td>\n",
              "      <td>32.3470</td>\n",
              "      <td>-86.2663</td>\n",
              "    </tr>\n",
              "    <tr>\n",
              "      <th>2</th>\n",
              "      <td>2013-12-26</td>\n",
              "      <td>Louisiana</td>\n",
              "      <td>Slidell</td>\n",
              "      <td>2144 First St</td>\n",
              "      <td>2</td>\n",
              "      <td>6</td>\n",
              "      <td>NaN</td>\n",
              "      <td>2013</td>\n",
              "      <td>Slidell</td>\n",
              "      <td>LA</td>\n",
              "      <td>Louisiana</td>\n",
              "      <td>30.2882</td>\n",
              "      <td>-89.7826</td>\n",
              "    </tr>\n",
              "    <tr>\n",
              "      <th>3</th>\n",
              "      <td>2013-12-26</td>\n",
              "      <td>Louisiana</td>\n",
              "      <td>Lockport</td>\n",
              "      <td>313 Tenth St</td>\n",
              "      <td>3</td>\n",
              "      <td>3</td>\n",
              "      <td>NaN</td>\n",
              "      <td>2013</td>\n",
              "      <td>Lockport</td>\n",
              "      <td>LA</td>\n",
              "      <td>Louisiana</td>\n",
              "      <td>29.6418</td>\n",
              "      <td>-90.5376</td>\n",
              "    </tr>\n",
              "    <tr>\n",
              "      <th>4</th>\n",
              "      <td>2013-12-25</td>\n",
              "      <td>New Jersey</td>\n",
              "      <td>Irvington</td>\n",
              "      <td>Nye Avenue and 21st Street</td>\n",
              "      <td>3</td>\n",
              "      <td>2</td>\n",
              "      <td>NaN</td>\n",
              "      <td>2013</td>\n",
              "      <td>NaN</td>\n",
              "      <td>NaN</td>\n",
              "      <td>NaN</td>\n",
              "      <td>NaN</td>\n",
              "      <td>NaN</td>\n",
              "    </tr>\n",
              "  </tbody>\n",
              "</table>\n",
              "</div>"
            ],
            "text/plain": [
              "        Date       State        City                     Address  num_Killed  \\\n",
              "0 2013-12-31    New York    Brooklyn             60 Glenmore Ave           0   \n",
              "1 2013-12-28     Alabama  Montgomery            954 Highland Ave           3   \n",
              "2 2013-12-26   Louisiana     Slidell               2144 First St           2   \n",
              "3 2013-12-26   Louisiana    Lockport                313 Tenth St           3   \n",
              "4 2013-12-25  New Jersey   Irvington  Nye Avenue and 21st Street           3   \n",
              "\n",
              "   num_Injured  Operations  Year        city state_id state_name      lat  \\\n",
              "0            6         NaN  2013    Brooklyn       NY   New York  40.6501   \n",
              "1            5         NaN  2013  Montgomery       AL    Alabama  32.3470   \n",
              "2            6         NaN  2013     Slidell       LA  Louisiana  30.2882   \n",
              "3            3         NaN  2013    Lockport       LA  Louisiana  29.6418   \n",
              "4            2         NaN  2013         NaN      NaN        NaN      NaN   \n",
              "\n",
              "       lng  \n",
              "0 -73.9496  \n",
              "1 -86.2663  \n",
              "2 -89.7826  \n",
              "3 -90.5376  \n",
              "4      NaN  "
            ]
          },
          "metadata": {
            "tags": []
          },
          "execution_count": 33
        }
      ]
    },
    {
      "cell_type": "code",
      "metadata": {
        "colab_type": "code",
        "id": "OlL-yiPFJMRG",
        "colab": {}
      },
      "source": [
        "# Dropping extra columns which we won't be using further\n",
        "city_data.drop(columns=['Operations', 'city', 'state_name','state_id'], inplace=True)"
      ],
      "execution_count": 0,
      "outputs": []
    },
    {
      "cell_type": "code",
      "metadata": {
        "colab_type": "code",
        "id": "kUowPn6vJMRJ",
        "outputId": "b785cf9c-e526-4278-8dbf-55d9d6228929",
        "colab": {}
      },
      "source": [
        "# Checking number of rows in the combined dataframe\n",
        "len(city_data)"
      ],
      "execution_count": 0,
      "outputs": [
        {
          "output_type": "execute_result",
          "data": {
            "text/plain": [
              "2056"
            ]
          },
          "metadata": {
            "tags": []
          },
          "execution_count": 35
        }
      ]
    },
    {
      "cell_type": "code",
      "metadata": {
        "colab_type": "code",
        "id": "B8Zs-VRVJMRL",
        "outputId": "c16d6c29-d8f9-42ad-e63f-b7b0bbd8a04e",
        "colab": {}
      },
      "source": [
        "# Checking for NAs\n",
        "city_data.isna().sum()"
      ],
      "execution_count": 0,
      "outputs": [
        {
          "output_type": "execute_result",
          "data": {
            "text/plain": [
              "Date             0\n",
              "State            0\n",
              "City             0\n",
              "Address          8\n",
              "num_Killed       0\n",
              "num_Injured      0\n",
              "Year             0\n",
              "lat            134\n",
              "lng            134\n",
              "dtype: int64"
            ]
          },
          "metadata": {
            "tags": []
          },
          "execution_count": 36
        }
      ]
    },
    {
      "cell_type": "code",
      "metadata": {
        "colab_type": "code",
        "id": "VOwaorUIJMRO",
        "outputId": "f56c5eb4-d97c-4b48-dcbd-5f1e4bb7d22c",
        "colab": {}
      },
      "source": [
        "# Removing all the NA values\n",
        "city_data = city_data.dropna()\n",
        "city_data.head()"
      ],
      "execution_count": 0,
      "outputs": [
        {
          "output_type": "execute_result",
          "data": {
            "text/html": [
              "<div>\n",
              "<style scoped>\n",
              "    .dataframe tbody tr th:only-of-type {\n",
              "        vertical-align: middle;\n",
              "    }\n",
              "\n",
              "    .dataframe tbody tr th {\n",
              "        vertical-align: top;\n",
              "    }\n",
              "\n",
              "    .dataframe thead th {\n",
              "        text-align: right;\n",
              "    }\n",
              "</style>\n",
              "<table border=\"1\" class=\"dataframe\">\n",
              "  <thead>\n",
              "    <tr style=\"text-align: right;\">\n",
              "      <th></th>\n",
              "      <th>Date</th>\n",
              "      <th>State</th>\n",
              "      <th>City</th>\n",
              "      <th>Address</th>\n",
              "      <th>num_Killed</th>\n",
              "      <th>num_Injured</th>\n",
              "      <th>Year</th>\n",
              "      <th>lat</th>\n",
              "      <th>lng</th>\n",
              "    </tr>\n",
              "  </thead>\n",
              "  <tbody>\n",
              "    <tr>\n",
              "      <th>0</th>\n",
              "      <td>2013-12-31</td>\n",
              "      <td>New York</td>\n",
              "      <td>Brooklyn</td>\n",
              "      <td>60 Glenmore Ave</td>\n",
              "      <td>0</td>\n",
              "      <td>6</td>\n",
              "      <td>2013</td>\n",
              "      <td>40.6501</td>\n",
              "      <td>-73.9496</td>\n",
              "    </tr>\n",
              "    <tr>\n",
              "      <th>1</th>\n",
              "      <td>2013-12-28</td>\n",
              "      <td>Alabama</td>\n",
              "      <td>Montgomery</td>\n",
              "      <td>954 Highland Ave</td>\n",
              "      <td>3</td>\n",
              "      <td>5</td>\n",
              "      <td>2013</td>\n",
              "      <td>32.3470</td>\n",
              "      <td>-86.2663</td>\n",
              "    </tr>\n",
              "    <tr>\n",
              "      <th>2</th>\n",
              "      <td>2013-12-26</td>\n",
              "      <td>Louisiana</td>\n",
              "      <td>Slidell</td>\n",
              "      <td>2144 First St</td>\n",
              "      <td>2</td>\n",
              "      <td>6</td>\n",
              "      <td>2013</td>\n",
              "      <td>30.2882</td>\n",
              "      <td>-89.7826</td>\n",
              "    </tr>\n",
              "    <tr>\n",
              "      <th>3</th>\n",
              "      <td>2013-12-26</td>\n",
              "      <td>Louisiana</td>\n",
              "      <td>Lockport</td>\n",
              "      <td>313 Tenth St</td>\n",
              "      <td>3</td>\n",
              "      <td>3</td>\n",
              "      <td>2013</td>\n",
              "      <td>29.6418</td>\n",
              "      <td>-90.5376</td>\n",
              "    </tr>\n",
              "    <tr>\n",
              "      <th>5</th>\n",
              "      <td>2013-12-25</td>\n",
              "      <td>New York</td>\n",
              "      <td>Medford</td>\n",
              "      <td>33A Cedarhurst Ave</td>\n",
              "      <td>1</td>\n",
              "      <td>3</td>\n",
              "      <td>2013</td>\n",
              "      <td>40.8220</td>\n",
              "      <td>-72.9859</td>\n",
              "    </tr>\n",
              "  </tbody>\n",
              "</table>\n",
              "</div>"
            ],
            "text/plain": [
              "        Date      State        City             Address  num_Killed  \\\n",
              "0 2013-12-31   New York    Brooklyn     60 Glenmore Ave           0   \n",
              "1 2013-12-28    Alabama  Montgomery    954 Highland Ave           3   \n",
              "2 2013-12-26  Louisiana     Slidell       2144 First St           2   \n",
              "3 2013-12-26  Louisiana    Lockport        313 Tenth St           3   \n",
              "5 2013-12-25   New York     Medford  33A Cedarhurst Ave           1   \n",
              "\n",
              "   num_Injured  Year      lat      lng  \n",
              "0            6  2013  40.6501 -73.9496  \n",
              "1            5  2013  32.3470 -86.2663  \n",
              "2            6  2013  30.2882 -89.7826  \n",
              "3            3  2013  29.6418 -90.5376  \n",
              "5            3  2013  40.8220 -72.9859  "
            ]
          },
          "metadata": {
            "tags": []
          },
          "execution_count": 37
        }
      ]
    },
    {
      "cell_type": "markdown",
      "metadata": {
        "colab_type": "text",
        "id": "hZAdpNzwJMRR"
      },
      "source": [
        "### Appplication\n",
        "We will be using the combined dataset to analysis the following:\n",
        "<ul>\n",
        "  <li><b><i>Mass shootings across United States:</i></b> We will plot each of the incidents on a map to visualize the distribution of mass shootings across United States. This will help us identify the states where gun violence is comparatively higher.</li>\n",
        "  <ul>\n",
        "    <li>X-variable: Latitude of the location of the incidence</li>\n",
        "    <li>Y-variable: Longitude of the location of the incidence</li>\n",
        "  </ul>\n",
        "  <li><b><i>Change in mass shooting incidents over the years:</i></b> We will plot the change in number of mass shooting incidences over the years (2013 - 2019) across United States. This will help identify any hidden trends in the data.</li>\n",
        "  <ul>\n",
        "    <li>X-variable: Year of the mass shooting incident</li>\n",
        "    <li>Y-variable: Number of incidences</li>"
      ]
    },
    {
      "cell_type": "code",
      "metadata": {
        "id": "7YUQWvrYaZTn",
        "colab_type": "code",
        "colab": {}
      },
      "source": [
        ""
      ],
      "execution_count": 0,
      "outputs": []
    },
    {
      "cell_type": "markdown",
      "metadata": {
        "colab_type": "text",
        "id": "l5ryYQF7JMRS"
      },
      "source": [
        "## Crime statistics across the world\n",
        "\n",
        "#### The dataset needs some preparation before we start exploring and visualizing the dataset further. In order to do so:\n",
        "- Column names will be replaced with shorter names \n",
        "- 'NA' will be removed \n"
      ]
    },
    {
      "cell_type": "code",
      "metadata": {
        "colab_type": "code",
        "id": "prbCAZWfJMRS",
        "outputId": "4d77b895-dcc5-49c3-e397-d440044f57b7",
        "colab": {}
      },
      "source": [
        "# Reading in data for world crimes\n",
        "world_crime = pd.read_csv(\"world_crime.csv\")\n",
        "world_crime.head()"
      ],
      "execution_count": 0,
      "outputs": [
        {
          "output_type": "execute_result",
          "data": {
            "text/html": [
              "<div>\n",
              "<style scoped>\n",
              "    .dataframe tbody tr th:only-of-type {\n",
              "        vertical-align: middle;\n",
              "    }\n",
              "\n",
              "    .dataframe tbody tr th {\n",
              "        vertical-align: top;\n",
              "    }\n",
              "\n",
              "    .dataframe thead th {\n",
              "        text-align: right;\n",
              "    }\n",
              "</style>\n",
              "<table border=\"1\" class=\"dataframe\">\n",
              "  <thead>\n",
              "    <tr style=\"text-align: right;\">\n",
              "      <th></th>\n",
              "      <th>Country/Territory</th>\n",
              "      <th>ISO code</th>\n",
              "      <th>Source</th>\n",
              "      <th>% of homicides by firearm</th>\n",
              "      <th>Number of homicides by firearm</th>\n",
              "      <th>Homicide by firearm rate per 100,000 pop</th>\n",
              "      <th>Rank by rate of ownership</th>\n",
              "      <th>Average firearms per 100 people</th>\n",
              "      <th>Average total all civilian firearms</th>\n",
              "    </tr>\n",
              "  </thead>\n",
              "  <tbody>\n",
              "    <tr>\n",
              "      <th>0</th>\n",
              "      <td>Albania</td>\n",
              "      <td>AL</td>\n",
              "      <td>CTS</td>\n",
              "      <td>65.9</td>\n",
              "      <td>56.0</td>\n",
              "      <td>1.76</td>\n",
              "      <td>70.0</td>\n",
              "      <td>8.6</td>\n",
              "      <td>270000.0</td>\n",
              "    </tr>\n",
              "    <tr>\n",
              "      <th>1</th>\n",
              "      <td>Algeria</td>\n",
              "      <td>DZ</td>\n",
              "      <td>CTS</td>\n",
              "      <td>4.8</td>\n",
              "      <td>20.0</td>\n",
              "      <td>0.06</td>\n",
              "      <td>78.0</td>\n",
              "      <td>7.6</td>\n",
              "      <td>1900000.0</td>\n",
              "    </tr>\n",
              "    <tr>\n",
              "      <th>2</th>\n",
              "      <td>Angola</td>\n",
              "      <td>AO</td>\n",
              "      <td>NaN</td>\n",
              "      <td>NaN</td>\n",
              "      <td>NaN</td>\n",
              "      <td>NaN</td>\n",
              "      <td>34.0</td>\n",
              "      <td>17.3</td>\n",
              "      <td>2800000.0</td>\n",
              "    </tr>\n",
              "    <tr>\n",
              "      <th>3</th>\n",
              "      <td>Anguilla</td>\n",
              "      <td>AI</td>\n",
              "      <td>WHO-MDB</td>\n",
              "      <td>24.0</td>\n",
              "      <td>1.0</td>\n",
              "      <td>7.14</td>\n",
              "      <td>NaN</td>\n",
              "      <td>NaN</td>\n",
              "      <td>NaN</td>\n",
              "    </tr>\n",
              "    <tr>\n",
              "      <th>4</th>\n",
              "      <td>Argentina</td>\n",
              "      <td>AR</td>\n",
              "      <td>Ministry of Justice</td>\n",
              "      <td>52.0</td>\n",
              "      <td>1198.0</td>\n",
              "      <td>3.02</td>\n",
              "      <td>62.0</td>\n",
              "      <td>10.2</td>\n",
              "      <td>3950000.0</td>\n",
              "    </tr>\n",
              "  </tbody>\n",
              "</table>\n",
              "</div>"
            ],
            "text/plain": [
              "  Country/Territory ISO code               Source  % of homicides by firearm  \\\n",
              "0           Albania       AL                  CTS                       65.9   \n",
              "1           Algeria       DZ                  CTS                        4.8   \n",
              "2            Angola       AO                  NaN                        NaN   \n",
              "3          Anguilla       AI              WHO-MDB                       24.0   \n",
              "4         Argentina       AR  Ministry of Justice                       52.0   \n",
              "\n",
              "   Number of homicides by firearm  Homicide by firearm rate per 100,000 pop  \\\n",
              "0                            56.0                                      1.76   \n",
              "1                            20.0                                      0.06   \n",
              "2                             NaN                                       NaN   \n",
              "3                             1.0                                      7.14   \n",
              "4                          1198.0                                      3.02   \n",
              "\n",
              "   Rank by rate of ownership  Average firearms per 100 people  \\\n",
              "0                       70.0                              8.6   \n",
              "1                       78.0                              7.6   \n",
              "2                       34.0                             17.3   \n",
              "3                        NaN                              NaN   \n",
              "4                       62.0                             10.2   \n",
              "\n",
              "   Average total all civilian firearms  \n",
              "0                             270000.0  \n",
              "1                            1900000.0  \n",
              "2                            2800000.0  \n",
              "3                                  NaN  \n",
              "4                            3950000.0  "
            ]
          },
          "metadata": {
            "tags": []
          },
          "execution_count": 200
        }
      ]
    },
    {
      "cell_type": "code",
      "metadata": {
        "colab_type": "code",
        "id": "--okCu1oJMRW",
        "colab": {}
      },
      "source": [
        "# Creating a new list of column names\n",
        "cols = ['Country', 'Country_code', 'Source', '%_homi_gun', 'num_homi_gun', 'homi_gun_per100k', 'rank-rate_owner',\\\n",
        "        'avg_gun_per100', 'avg_tot_all_guns']"
      ],
      "execution_count": 0,
      "outputs": []
    },
    {
      "cell_type": "code",
      "metadata": {
        "colab_type": "code",
        "id": "_PdhgHkJJMRZ",
        "colab": {}
      },
      "source": [
        "# Replacing the existing column names with new names saved in the list 'cols'\n",
        "world_crime.columns = cols"
      ],
      "execution_count": 0,
      "outputs": []
    },
    {
      "cell_type": "code",
      "metadata": {
        "colab_type": "code",
        "id": "q8Gp-FgBJMRd",
        "outputId": "e1a9f2e0-b73a-4389-df0b-899656d0e105",
        "colab": {}
      },
      "source": [
        "world_crime.head()"
      ],
      "execution_count": 0,
      "outputs": [
        {
          "output_type": "execute_result",
          "data": {
            "text/html": [
              "<div>\n",
              "<style scoped>\n",
              "    .dataframe tbody tr th:only-of-type {\n",
              "        vertical-align: middle;\n",
              "    }\n",
              "\n",
              "    .dataframe tbody tr th {\n",
              "        vertical-align: top;\n",
              "    }\n",
              "\n",
              "    .dataframe thead th {\n",
              "        text-align: right;\n",
              "    }\n",
              "</style>\n",
              "<table border=\"1\" class=\"dataframe\">\n",
              "  <thead>\n",
              "    <tr style=\"text-align: right;\">\n",
              "      <th></th>\n",
              "      <th>Country</th>\n",
              "      <th>Country_code</th>\n",
              "      <th>Source</th>\n",
              "      <th>%_homi_gun</th>\n",
              "      <th>num_homi_gun</th>\n",
              "      <th>homi_gun_per100k</th>\n",
              "      <th>rank-rate_owner</th>\n",
              "      <th>avg_gun_per100</th>\n",
              "      <th>avg_tot_all_guns</th>\n",
              "    </tr>\n",
              "  </thead>\n",
              "  <tbody>\n",
              "    <tr>\n",
              "      <th>0</th>\n",
              "      <td>Albania</td>\n",
              "      <td>AL</td>\n",
              "      <td>CTS</td>\n",
              "      <td>65.9</td>\n",
              "      <td>56.0</td>\n",
              "      <td>1.76</td>\n",
              "      <td>70.0</td>\n",
              "      <td>8.6</td>\n",
              "      <td>270000.0</td>\n",
              "    </tr>\n",
              "    <tr>\n",
              "      <th>1</th>\n",
              "      <td>Algeria</td>\n",
              "      <td>DZ</td>\n",
              "      <td>CTS</td>\n",
              "      <td>4.8</td>\n",
              "      <td>20.0</td>\n",
              "      <td>0.06</td>\n",
              "      <td>78.0</td>\n",
              "      <td>7.6</td>\n",
              "      <td>1900000.0</td>\n",
              "    </tr>\n",
              "    <tr>\n",
              "      <th>2</th>\n",
              "      <td>Angola</td>\n",
              "      <td>AO</td>\n",
              "      <td>NaN</td>\n",
              "      <td>NaN</td>\n",
              "      <td>NaN</td>\n",
              "      <td>NaN</td>\n",
              "      <td>34.0</td>\n",
              "      <td>17.3</td>\n",
              "      <td>2800000.0</td>\n",
              "    </tr>\n",
              "    <tr>\n",
              "      <th>3</th>\n",
              "      <td>Anguilla</td>\n",
              "      <td>AI</td>\n",
              "      <td>WHO-MDB</td>\n",
              "      <td>24.0</td>\n",
              "      <td>1.0</td>\n",
              "      <td>7.14</td>\n",
              "      <td>NaN</td>\n",
              "      <td>NaN</td>\n",
              "      <td>NaN</td>\n",
              "    </tr>\n",
              "    <tr>\n",
              "      <th>4</th>\n",
              "      <td>Argentina</td>\n",
              "      <td>AR</td>\n",
              "      <td>Ministry of Justice</td>\n",
              "      <td>52.0</td>\n",
              "      <td>1198.0</td>\n",
              "      <td>3.02</td>\n",
              "      <td>62.0</td>\n",
              "      <td>10.2</td>\n",
              "      <td>3950000.0</td>\n",
              "    </tr>\n",
              "  </tbody>\n",
              "</table>\n",
              "</div>"
            ],
            "text/plain": [
              "     Country Country_code               Source  %_homi_gun  num_homi_gun  \\\n",
              "0    Albania           AL                  CTS        65.9          56.0   \n",
              "1    Algeria           DZ                  CTS         4.8          20.0   \n",
              "2     Angola           AO                  NaN         NaN           NaN   \n",
              "3   Anguilla           AI              WHO-MDB        24.0           1.0   \n",
              "4  Argentina           AR  Ministry of Justice        52.0        1198.0   \n",
              "\n",
              "   homi_gun_per100k  rank-rate_owner  avg_gun_per100  avg_tot_all_guns  \n",
              "0              1.76             70.0             8.6          270000.0  \n",
              "1              0.06             78.0             7.6         1900000.0  \n",
              "2               NaN             34.0            17.3         2800000.0  \n",
              "3              7.14              NaN             NaN               NaN  \n",
              "4              3.02             62.0            10.2         3950000.0  "
            ]
          },
          "metadata": {
            "tags": []
          },
          "execution_count": 203
        }
      ]
    },
    {
      "cell_type": "code",
      "metadata": {
        "colab_type": "code",
        "id": "jw_74ezVJMRh",
        "outputId": "ecf3a549-96d0-48e5-e044-bf5f602a0f1a",
        "colab": {}
      },
      "source": [
        "len(world_crime)"
      ],
      "execution_count": 0,
      "outputs": [
        {
          "output_type": "execute_result",
          "data": {
            "text/plain": [
              "185"
            ]
          },
          "metadata": {
            "tags": []
          },
          "execution_count": 204
        }
      ]
    },
    {
      "cell_type": "code",
      "metadata": {
        "colab_type": "code",
        "id": "gGYZ68FGJMRl",
        "outputId": "9873aec2-5ad1-48d8-fdfb-1763511df41f",
        "colab": {}
      },
      "source": [
        "# Checking columns with 'NA' values\n",
        "world_crime.isna().sum()"
      ],
      "execution_count": 0,
      "outputs": [
        {
          "output_type": "execute_result",
          "data": {
            "text/plain": [
              "Country              0\n",
              "Country_code         1\n",
              "Source              69\n",
              "%_homi_gun          69\n",
              "num_homi_gun        69\n",
              "homi_gun_per100k    69\n",
              "rank-rate_owner      9\n",
              "avg_gun_per100       9\n",
              "avg_tot_all_guns     9\n",
              "dtype: int64"
            ]
          },
          "metadata": {
            "tags": []
          },
          "execution_count": 205
        }
      ]
    },
    {
      "cell_type": "code",
      "metadata": {
        "colab_type": "code",
        "id": "-v3lsNOMJMRr",
        "colab": {}
      },
      "source": [
        "# Removing all the 'NA' values\n",
        "world_crime = world_crime.dropna()"
      ],
      "execution_count": 0,
      "outputs": []
    },
    {
      "cell_type": "code",
      "metadata": {
        "colab_type": "code",
        "id": "JISi2961JMRt",
        "outputId": "4c9fc4d5-7e66-4e2a-932c-1e373f5a6a86",
        "colab": {}
      },
      "source": [
        "len(world_crime)"
      ],
      "execution_count": 0,
      "outputs": [
        {
          "output_type": "execute_result",
          "data": {
            "text/plain": [
              "107"
            ]
          },
          "metadata": {
            "tags": []
          },
          "execution_count": 309
        }
      ]
    },
    {
      "cell_type": "code",
      "metadata": {
        "colab_type": "code",
        "id": "cm7ubnEpJMRx",
        "outputId": "d225a5c2-87ab-49f4-c45d-27a08b0d8a80",
        "colab": {}
      },
      "source": [
        "# Reading in data for growth rates for all 'Developed' countries\n",
        "country_index = pd.read_csv(\"developed.csv\")\n",
        "country_index.head()"
      ],
      "execution_count": 0,
      "outputs": [
        {
          "output_type": "execute_result",
          "data": {
            "text/html": [
              "<div>\n",
              "<style scoped>\n",
              "    .dataframe tbody tr th:only-of-type {\n",
              "        vertical-align: middle;\n",
              "    }\n",
              "\n",
              "    .dataframe tbody tr th {\n",
              "        vertical-align: top;\n",
              "    }\n",
              "\n",
              "    .dataframe thead th {\n",
              "        text-align: right;\n",
              "    }\n",
              "</style>\n",
              "<table border=\"1\" class=\"dataframe\">\n",
              "  <thead>\n",
              "    <tr style=\"text-align: right;\">\n",
              "      <th></th>\n",
              "      <th>cca2</th>\n",
              "      <th>name</th>\n",
              "      <th>area</th>\n",
              "      <th>pop2019</th>\n",
              "      <th>GrowthRate</th>\n",
              "    </tr>\n",
              "  </thead>\n",
              "  <tbody>\n",
              "    <tr>\n",
              "      <th>0</th>\n",
              "      <td>US</td>\n",
              "      <td>United States</td>\n",
              "      <td>9372610</td>\n",
              "      <td>329093.110</td>\n",
              "      <td>1.007119</td>\n",
              "    </tr>\n",
              "    <tr>\n",
              "      <th>1</th>\n",
              "      <td>JP</td>\n",
              "      <td>Japan</td>\n",
              "      <td>377930</td>\n",
              "      <td>126854.745</td>\n",
              "      <td>0.997401</td>\n",
              "    </tr>\n",
              "    <tr>\n",
              "      <th>2</th>\n",
              "      <td>TR</td>\n",
              "      <td>Turkey</td>\n",
              "      <td>783562</td>\n",
              "      <td>82961.805</td>\n",
              "      <td>1.012756</td>\n",
              "    </tr>\n",
              "    <tr>\n",
              "      <th>3</th>\n",
              "      <td>DE</td>\n",
              "      <td>Germany</td>\n",
              "      <td>357114</td>\n",
              "      <td>82438.639</td>\n",
              "      <td>1.001764</td>\n",
              "    </tr>\n",
              "    <tr>\n",
              "      <th>4</th>\n",
              "      <td>GB</td>\n",
              "      <td>United Kingdom</td>\n",
              "      <td>242900</td>\n",
              "      <td>66959.016</td>\n",
              "      <td>1.005791</td>\n",
              "    </tr>\n",
              "  </tbody>\n",
              "</table>\n",
              "</div>"
            ],
            "text/plain": [
              "  cca2            name     area     pop2019  GrowthRate\n",
              "0   US   United States  9372610  329093.110    1.007119\n",
              "1   JP           Japan   377930  126854.745    0.997401\n",
              "2   TR          Turkey   783562   82961.805    1.012756\n",
              "3   DE         Germany   357114   82438.639    1.001764\n",
              "4   GB  United Kingdom   242900   66959.016    1.005791"
            ]
          },
          "metadata": {
            "tags": []
          },
          "execution_count": 310
        }
      ]
    },
    {
      "cell_type": "code",
      "metadata": {
        "colab_type": "code",
        "id": "9Jw4a_7TJMR0",
        "outputId": "837698c5-bc20-4675-ac44-31a15d44aa19",
        "scrolled": true,
        "colab": {}
      },
      "source": [
        "# Checking for NAs\n",
        "country_index.isna().sum()"
      ],
      "execution_count": 0,
      "outputs": [
        {
          "output_type": "execute_result",
          "data": {
            "text/plain": [
              "cca2          0\n",
              "name          0\n",
              "area          0\n",
              "pop2019       0\n",
              "GrowthRate    0\n",
              "dtype: int64"
            ]
          },
          "metadata": {
            "tags": []
          },
          "execution_count": 311
        }
      ]
    },
    {
      "cell_type": "code",
      "metadata": {
        "colab_type": "code",
        "id": "eeYdplfJJMR3",
        "outputId": "abf708a7-d67a-445c-b049-0fcfed583971",
        "colab": {}
      },
      "source": [
        "# Merging world crimes and growth rates dataset\n",
        "world_data = world_crime.merge(country_index, how=\"inner\", left_on=\"Country\", right_on=\"name\")\n",
        "world_data.head()"
      ],
      "execution_count": 0,
      "outputs": [
        {
          "output_type": "execute_result",
          "data": {
            "text/html": [
              "<div>\n",
              "<style scoped>\n",
              "    .dataframe tbody tr th:only-of-type {\n",
              "        vertical-align: middle;\n",
              "    }\n",
              "\n",
              "    .dataframe tbody tr th {\n",
              "        vertical-align: top;\n",
              "    }\n",
              "\n",
              "    .dataframe thead th {\n",
              "        text-align: right;\n",
              "    }\n",
              "</style>\n",
              "<table border=\"1\" class=\"dataframe\">\n",
              "  <thead>\n",
              "    <tr style=\"text-align: right;\">\n",
              "      <th></th>\n",
              "      <th>Country</th>\n",
              "      <th>Country_code</th>\n",
              "      <th>Source</th>\n",
              "      <th>%_homi_gun</th>\n",
              "      <th>num_homi_gun</th>\n",
              "      <th>homi_gun_per100k</th>\n",
              "      <th>rank-rate_owner</th>\n",
              "      <th>avg_gun_per100</th>\n",
              "      <th>avg_tot_all_guns</th>\n",
              "      <th>cca2</th>\n",
              "      <th>name</th>\n",
              "      <th>area</th>\n",
              "      <th>pop2019</th>\n",
              "      <th>GrowthRate</th>\n",
              "    </tr>\n",
              "  </thead>\n",
              "  <tbody>\n",
              "    <tr>\n",
              "      <th>0</th>\n",
              "      <td>Australia</td>\n",
              "      <td>AU</td>\n",
              "      <td>NSO</td>\n",
              "      <td>11.5</td>\n",
              "      <td>30.0</td>\n",
              "      <td>0.14</td>\n",
              "      <td>42.0</td>\n",
              "      <td>15.0</td>\n",
              "      <td>3050000.0</td>\n",
              "      <td>AU</td>\n",
              "      <td>Australia</td>\n",
              "      <td>7692024</td>\n",
              "      <td>25088.636</td>\n",
              "      <td>1.012772</td>\n",
              "    </tr>\n",
              "    <tr>\n",
              "      <th>1</th>\n",
              "      <td>Austria</td>\n",
              "      <td>AT</td>\n",
              "      <td>CTS</td>\n",
              "      <td>29.5</td>\n",
              "      <td>18.0</td>\n",
              "      <td>0.22</td>\n",
              "      <td>14.0</td>\n",
              "      <td>30.4</td>\n",
              "      <td>2500000.0</td>\n",
              "      <td>AT</td>\n",
              "      <td>Austria</td>\n",
              "      <td>83871</td>\n",
              "      <td>8766.201</td>\n",
              "      <td>1.001643</td>\n",
              "    </tr>\n",
              "    <tr>\n",
              "      <th>2</th>\n",
              "      <td>Belgium</td>\n",
              "      <td>BE</td>\n",
              "      <td>WHO-MDB</td>\n",
              "      <td>39.5</td>\n",
              "      <td>70.0</td>\n",
              "      <td>0.68</td>\n",
              "      <td>34.0</td>\n",
              "      <td>17.2</td>\n",
              "      <td>1800000.0</td>\n",
              "      <td>BE</td>\n",
              "      <td>Belgium</td>\n",
              "      <td>30528</td>\n",
              "      <td>11562.784</td>\n",
              "      <td>1.005589</td>\n",
              "    </tr>\n",
              "    <tr>\n",
              "      <th>3</th>\n",
              "      <td>Canada</td>\n",
              "      <td>CA</td>\n",
              "      <td>CTS</td>\n",
              "      <td>32.0</td>\n",
              "      <td>173.0</td>\n",
              "      <td>0.51</td>\n",
              "      <td>13.0</td>\n",
              "      <td>30.8</td>\n",
              "      <td>9950000.0</td>\n",
              "      <td>CA</td>\n",
              "      <td>Canada</td>\n",
              "      <td>9984670</td>\n",
              "      <td>37279.811</td>\n",
              "      <td>1.008823</td>\n",
              "    </tr>\n",
              "    <tr>\n",
              "      <th>4</th>\n",
              "      <td>Cyprus</td>\n",
              "      <td>CY</td>\n",
              "      <td>CTS</td>\n",
              "      <td>26.3</td>\n",
              "      <td>5.0</td>\n",
              "      <td>0.46</td>\n",
              "      <td>6.0</td>\n",
              "      <td>36.4</td>\n",
              "      <td>275000.0</td>\n",
              "      <td>CY</td>\n",
              "      <td>Cyprus</td>\n",
              "      <td>9251</td>\n",
              "      <td>1198.427</td>\n",
              "      <td>1.007856</td>\n",
              "    </tr>\n",
              "  </tbody>\n",
              "</table>\n",
              "</div>"
            ],
            "text/plain": [
              "     Country Country_code   Source  %_homi_gun  num_homi_gun  \\\n",
              "0  Australia           AU      NSO        11.5          30.0   \n",
              "1    Austria           AT      CTS        29.5          18.0   \n",
              "2    Belgium           BE  WHO-MDB        39.5          70.0   \n",
              "3     Canada           CA      CTS        32.0         173.0   \n",
              "4     Cyprus           CY      CTS        26.3           5.0   \n",
              "\n",
              "   homi_gun_per100k  rank-rate_owner  avg_gun_per100  avg_tot_all_guns cca2  \\\n",
              "0              0.14             42.0            15.0         3050000.0   AU   \n",
              "1              0.22             14.0            30.4         2500000.0   AT   \n",
              "2              0.68             34.0            17.2         1800000.0   BE   \n",
              "3              0.51             13.0            30.8         9950000.0   CA   \n",
              "4              0.46              6.0            36.4          275000.0   CY   \n",
              "\n",
              "        name     area    pop2019  GrowthRate  \n",
              "0  Australia  7692024  25088.636    1.012772  \n",
              "1    Austria    83871   8766.201    1.001643  \n",
              "2    Belgium    30528  11562.784    1.005589  \n",
              "3     Canada  9984670  37279.811    1.008823  \n",
              "4     Cyprus     9251   1198.427    1.007856  "
            ]
          },
          "metadata": {
            "tags": []
          },
          "execution_count": 312
        }
      ]
    },
    {
      "cell_type": "markdown",
      "metadata": {
        "colab_type": "text",
        "id": "TuFX1iPkJMR6"
      },
      "source": [
        "### Application\n",
        "\n",
        "Graph1: Homicides by firearm per 1 million people\n",
        "\n",
        "Graph2: Population vs Ownership of firearms \n",
        "\n",
        "Graph3: Gun related deaths per 100k people vs guns per 100 people"
      ]
    },
    {
      "cell_type": "code",
      "metadata": {
        "colab_type": "code",
        "id": "qY-uZsX_JMSF",
        "colab": {}
      },
      "source": [
        ""
      ],
      "execution_count": 0,
      "outputs": []
    }
  ]
}