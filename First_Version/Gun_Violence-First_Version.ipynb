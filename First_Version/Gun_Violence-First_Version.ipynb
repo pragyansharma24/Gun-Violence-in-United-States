{
 "cells": [
  {
   "cell_type": "markdown",
   "metadata": {
    "colab_type": "text",
    "id": "X5TJFZS3NvoP"
   },
   "source": [
    "# Is easy access to guns leading to more gun deaths?\n",
    "#### Authored By: Pragyan Sharma, Prerana Patil, Shriya Rao, Sonal Agrawal"
   ]
  },
  {
   "cell_type": "markdown",
   "metadata": {
    "colab_type": "text",
    "id": "o713I3ly_sZI"
   },
   "source": [
    "---"
   ]
  },
  {
   "cell_type": "markdown",
   "metadata": {
    "colab_type": "text",
    "id": "kMjKLapBpPeg"
   },
   "source": [
    "Over the years, there has been a continuous increase in the number of incidences related to gun violence in the United States. In addition to killing hundreds of Americans, it has forced them to live in a continuous fear of the next shooting. Therefore, in order to understand the magnitude of everyday gun violence, we analyzed data on gun violence statistics and observed that:\n",
    "<ul>\n",
    "    <li>Among developed countries, <b><i>US leads other countries in gun ownership</b></i> and has the highest number of gun related homicides.</li>\n",
    "    <li>Across United States, there has been a continuous <b><i>increase in the number of gun related deaths</b></i>. However,there is a <b><i>significant difference between these numbers for US states with atleast one gun law compared to US states with no gun laws</b></i> restricting access to/usage of guns. The difference in death rate is significantly higher for states with bans related to assault weapons.</li>\n",
    "     <li>Over the years, <b><i>grisly mass shootings and murder incidences involving use of assault weapons have been on the rise</b></i>. And, in most of the cases, guns were legally obtained.</li>\n",
    "</ul>\n",
    "\n",
    "So, what could be the underlying reason that United States is an outlier on gun violence? There have been multiple researches which suggest that it is in large part due to the easy access many Americans have to guns. \n",
    "\n",
    "In order to support this claim, we analyzed gun violence in the United States further on three parameters.\n",
    "<ul>\n",
    "    <li>Where does United States stand compared to other developed nations on gun violence?</li>\n",
    "    <li>Is there a relationship between gun related death rate and US state gun laws?</li>\n",
    "    <li>Is legal right to bear arms in United States responsible for increasing mass shooting incidences?</li>\n",
    "</ul>\n",
    "       "
   ]
  },
  {
   "cell_type": "markdown",
   "metadata": {
    "colab_type": "text",
    "id": "l5ryYQF7JMRS"
   },
   "source": [
    "## United States vs Other Developed Nations"
   ]
  },
  {
   "cell_type": "markdown",
   "metadata": {
    "colab_type": "text",
    "id": "MNqgCpMPMYzQ"
   },
   "source": [
    "With less than 5% of the world’s population, the United States is home to roughly 35–50 per cent of the world’s civilian-owned guns, heavily skewing the global geography of guns and any relative comparison. (Ref: https://www.theguardian.com/news/datablog/2012/jul/22/gun-homicides-ownership-world-list)"
   ]
  },
  {
   "cell_type": "markdown",
   "metadata": {
    "colab_type": "text",
    "id": "nktknL6lMjEl"
   },
   "source": [
    "### Datasets and  Sources\n",
    "**1. Gun Homicides and Gun Ownership Data from Guardian**: This dataset consists of guns related deaths and ownership details by country. Each row represents a country and details like average guns per 100 people, total guns owned by civilians, etc. (Source: https://www.theguardian.com/news/datablog/2012/jul/22/gun-homicides-ownership-world-list#data)\n",
    "\n",
    "**2. Developed Countries 2019 Data from World Population Review**: This dataset is a list of developed countries in the world ranked according to their growth rate and population. Source: http://worldpopulationreview.com/countries/developed-countries/\n",
    "\n",
    "**Variables of interest**\n",
    "    <ul>\n",
    "      <li><i>Country</i>: Name of the country </li>\n",
    "      <li><i>% of homicides by guns</i>: Percentage of homicides due to guns</li>\n",
    "      <li><i>Homicide by gun rate per 100,000 pop</i>: Number of homicides happened using guns per 100,000  </li>\n",
    "      <li><i>Address</i>: Address where the mass shooting incidence took place</li>\n",
    "      <li><i>Average total all civilian gun</i>: Average number of guns held by civilians</li>\n",
    "      <li><i>Growth Rate</i>: The rate at which a country is growing according to CIA</li>\n",
    "    </ul>\n",
    "    \n",
    "**Limitations**\n",
    "<ul>\n",
    "      <li> Data is present only for Small Arms</li>\n",
    "      <li> While the website says that the google spreadsheet (Sources: UNODC & Small arms survey) displaying this data is updated every 5 mins, we do not know if the statistics for 'Number of homicides' & 'Average guns per 100 people' have been updated for the current years or not </li>\n",
    "      <li> Gun Homicides and Gun Ownership Data for United Kingdom and South Korea is not present</li>\n",
    "  </ul>\n"
   ]
  },
  {
   "cell_type": "markdown",
   "metadata": {
    "colab_type": "text",
    "id": "rqcyyOcY_sbQ"
   },
   "source": [
    "### Data Cleaning"
   ]
  },
  {
   "cell_type": "markdown",
   "metadata": {
    "colab_type": "text",
    "id": "LSLJhQ6GyOWE"
   },
   "source": [
    "The dataset needs some processing before we start exploring and visualizing the dataset further. Steps to be followed are:\n",
    "- Renaming column names for efficient data handling\n",
    "- Handling Null values\n",
    "- Merging with the list of developed countries"
   ]
  },
  {
   "cell_type": "markdown",
   "metadata": {
    "colab_type": "text",
    "id": "FrvXhVT6_sbV"
   },
   "source": [
    "Step 1: Reading in data for world crimes"
   ]
  },
  {
   "cell_type": "code",
   "execution_count": 30,
   "metadata": {
    "colab": {},
    "colab_type": "code",
    "id": "_47XgdtOPg0m"
   },
   "outputs": [],
   "source": [
    "import pandas as pd\n",
    "import numpy as np\n",
    "from IPython.display import Image"
   ]
  },
  {
   "cell_type": "code",
   "execution_count": 31,
   "metadata": {
    "colab": {},
    "colab_type": "code",
    "id": "XXZLwcC0lc3V"
   },
   "outputs": [],
   "source": [
    "from IPython.core.interactiveshell import InteractiveShell\n",
    "InteractiveShell.ast_node_interactivity = \"all\""
   ]
  },
  {
   "cell_type": "code",
   "execution_count": 32,
   "metadata": {
    "colab": {},
    "colab_type": "code",
    "id": "k0oOxbH8_sZU"
   },
   "outputs": [],
   "source": [
    "dataset_url = \"https://raw.githubusercontent.com/pragyansharma24/Gun-Violence-in-United-States/master/datasets/\""
   ]
  },
  {
   "cell_type": "code",
   "execution_count": 33,
   "metadata": {
    "colab": {
     "base_uri": "https://localhost:8080/",
     "height": 229
    },
    "colab_type": "code",
    "id": "--okCu1oJMRW",
    "outputId": "0f0be3a0-b92c-4665-9306-bc317e3c4c48"
   },
   "outputs": [
    {
     "data": {
      "text/html": [
       "<div>\n",
       "<style scoped>\n",
       "    .dataframe tbody tr th:only-of-type {\n",
       "        vertical-align: middle;\n",
       "    }\n",
       "\n",
       "    .dataframe tbody tr th {\n",
       "        vertical-align: top;\n",
       "    }\n",
       "\n",
       "    .dataframe thead th {\n",
       "        text-align: right;\n",
       "    }\n",
       "</style>\n",
       "<table border=\"1\" class=\"dataframe\">\n",
       "  <thead>\n",
       "    <tr style=\"text-align: right;\">\n",
       "      <th></th>\n",
       "      <th>Country/Territory</th>\n",
       "      <th>ISO code</th>\n",
       "      <th>Source</th>\n",
       "      <th>% of homicides by firearm</th>\n",
       "      <th>Number of homicides by firearm</th>\n",
       "      <th>Homicide by firearm rate per 100,000 pop</th>\n",
       "      <th>Rank by rate of ownership</th>\n",
       "      <th>Average firearms per 100 people</th>\n",
       "      <th>Average total all civilian firearms</th>\n",
       "    </tr>\n",
       "  </thead>\n",
       "  <tbody>\n",
       "    <tr>\n",
       "      <th>0</th>\n",
       "      <td>Albania</td>\n",
       "      <td>AL</td>\n",
       "      <td>CTS</td>\n",
       "      <td>65.9</td>\n",
       "      <td>56.0</td>\n",
       "      <td>1.76</td>\n",
       "      <td>70.0</td>\n",
       "      <td>8.6</td>\n",
       "      <td>270000.0</td>\n",
       "    </tr>\n",
       "    <tr>\n",
       "      <th>1</th>\n",
       "      <td>Algeria</td>\n",
       "      <td>DZ</td>\n",
       "      <td>CTS</td>\n",
       "      <td>4.8</td>\n",
       "      <td>20.0</td>\n",
       "      <td>0.06</td>\n",
       "      <td>78.0</td>\n",
       "      <td>7.6</td>\n",
       "      <td>1900000.0</td>\n",
       "    </tr>\n",
       "    <tr>\n",
       "      <th>2</th>\n",
       "      <td>Angola</td>\n",
       "      <td>AO</td>\n",
       "      <td>NaN</td>\n",
       "      <td>NaN</td>\n",
       "      <td>NaN</td>\n",
       "      <td>NaN</td>\n",
       "      <td>34.0</td>\n",
       "      <td>17.3</td>\n",
       "      <td>2800000.0</td>\n",
       "    </tr>\n",
       "    <tr>\n",
       "      <th>3</th>\n",
       "      <td>Anguilla</td>\n",
       "      <td>AI</td>\n",
       "      <td>WHO-MDB</td>\n",
       "      <td>24.0</td>\n",
       "      <td>1.0</td>\n",
       "      <td>7.14</td>\n",
       "      <td>NaN</td>\n",
       "      <td>NaN</td>\n",
       "      <td>NaN</td>\n",
       "    </tr>\n",
       "    <tr>\n",
       "      <th>4</th>\n",
       "      <td>Argentina</td>\n",
       "      <td>AR</td>\n",
       "      <td>Ministry of Justice</td>\n",
       "      <td>52.0</td>\n",
       "      <td>1198.0</td>\n",
       "      <td>3.02</td>\n",
       "      <td>62.0</td>\n",
       "      <td>10.2</td>\n",
       "      <td>3950000.0</td>\n",
       "    </tr>\n",
       "  </tbody>\n",
       "</table>\n",
       "</div>"
      ],
      "text/plain": [
       "  Country/Territory ISO code               Source  % of homicides by firearm  \\\n",
       "0           Albania       AL                  CTS                       65.9   \n",
       "1           Algeria       DZ                  CTS                        4.8   \n",
       "2            Angola       AO                  NaN                        NaN   \n",
       "3          Anguilla       AI              WHO-MDB                       24.0   \n",
       "4         Argentina       AR  Ministry of Justice                       52.0   \n",
       "\n",
       "   Number of homicides by firearm  Homicide by firearm rate per 100,000 pop  \\\n",
       "0                            56.0                                      1.76   \n",
       "1                            20.0                                      0.06   \n",
       "2                             NaN                                       NaN   \n",
       "3                             1.0                                      7.14   \n",
       "4                          1198.0                                      3.02   \n",
       "\n",
       "   Rank by rate of ownership  Average firearms per 100 people  \\\n",
       "0                       70.0                              8.6   \n",
       "1                       78.0                              7.6   \n",
       "2                       34.0                             17.3   \n",
       "3                        NaN                              NaN   \n",
       "4                       62.0                             10.2   \n",
       "\n",
       "   Average total all civilian firearms  \n",
       "0                             270000.0  \n",
       "1                            1900000.0  \n",
       "2                            2800000.0  \n",
       "3                                  NaN  \n",
       "4                            3950000.0  "
      ]
     },
     "execution_count": 33,
     "metadata": {},
     "output_type": "execute_result"
    }
   ],
   "source": [
    "world_crime = pd.read_csv(dataset_url + \"world_crime.csv\")\n",
    "world_crime.head()"
   ]
  },
  {
   "cell_type": "markdown",
   "metadata": {
    "colab_type": "text",
    "id": "kAWDuKNi_sbY"
   },
   "source": [
    "Step 2: Renaming columns for efficient data handling"
   ]
  },
  {
   "cell_type": "code",
   "execution_count": 34,
   "metadata": {
    "colab": {},
    "colab_type": "code",
    "id": "_PdhgHkJJMRZ"
   },
   "outputs": [],
   "source": [
    "# Creating a new list of column names\n",
    "cols = ['Country', 'Country_code', 'Source', '%_homi_gun', 'num_homi_gun', 'homi_gun_per100k', 'rank-rate_owner',\\\n",
    "        'avg_gun_per100', 'avg_tot_all_guns']\n",
    "# Replacing the existing column names with new names saved in the list 'cols'\n",
    "world_crime.columns = cols"
   ]
  },
  {
   "cell_type": "markdown",
   "metadata": {
    "colab_type": "text",
    "id": "R90Fc_Zo_sba"
   },
   "source": [
    "Step 3: Handling Null values"
   ]
  },
  {
   "cell_type": "code",
   "execution_count": 35,
   "metadata": {
    "colab": {
     "base_uri": "https://localhost:8080/",
     "height": 185
    },
    "colab_type": "code",
    "id": "gGYZ68FGJMRl",
    "outputId": "5302942f-2c55-4b35-87a5-d8b1925f58e4"
   },
   "outputs": [
    {
     "data": {
      "text/plain": [
       "Country              0\n",
       "Country_code         1\n",
       "Source              69\n",
       "%_homi_gun          69\n",
       "num_homi_gun        69\n",
       "homi_gun_per100k    69\n",
       "rank-rate_owner      9\n",
       "avg_gun_per100       9\n",
       "avg_tot_all_guns     9\n",
       "dtype: int64"
      ]
     },
     "execution_count": 35,
     "metadata": {},
     "output_type": "execute_result"
    }
   ],
   "source": [
    "#Checking columns with 'NA' values\n",
    "world_crime.isna().sum()"
   ]
  },
  {
   "cell_type": "code",
   "execution_count": 36,
   "metadata": {
    "colab": {
     "base_uri": "https://localhost:8080/",
     "height": 34
    },
    "colab_type": "code",
    "id": "-v3lsNOMJMRr",
    "outputId": "92f2e132-191e-4a94-f486-9e834ba5f94a"
   },
   "outputs": [
    {
     "data": {
      "text/plain": [
       "107"
      ]
     },
     "execution_count": 36,
     "metadata": {},
     "output_type": "execute_result"
    }
   ],
   "source": [
    "# Removing all the 'NA' values\n",
    "world_crime = world_crime.dropna()\n",
    "len(world_crime)"
   ]
  },
  {
   "cell_type": "markdown",
   "metadata": {
    "colab_type": "text",
    "id": "_8Auzchm_sbh"
   },
   "source": [
    "Step 4: Merging the crime data will all the countries and combining with a list of developed countries"
   ]
  },
  {
   "cell_type": "code",
   "execution_count": 37,
   "metadata": {
    "colab": {
     "base_uri": "https://localhost:8080/",
     "height": 195
    },
    "colab_type": "code",
    "id": "cm7ubnEpJMRx",
    "outputId": "3d4b8c9a-16fe-4bff-bd68-ff9efe39d0c8"
   },
   "outputs": [
    {
     "data": {
      "text/html": [
       "<div>\n",
       "<style scoped>\n",
       "    .dataframe tbody tr th:only-of-type {\n",
       "        vertical-align: middle;\n",
       "    }\n",
       "\n",
       "    .dataframe tbody tr th {\n",
       "        vertical-align: top;\n",
       "    }\n",
       "\n",
       "    .dataframe thead th {\n",
       "        text-align: right;\n",
       "    }\n",
       "</style>\n",
       "<table border=\"1\" class=\"dataframe\">\n",
       "  <thead>\n",
       "    <tr style=\"text-align: right;\">\n",
       "      <th></th>\n",
       "      <th>cca2</th>\n",
       "      <th>name</th>\n",
       "      <th>area</th>\n",
       "      <th>pop2019</th>\n",
       "      <th>GrowthRate</th>\n",
       "    </tr>\n",
       "  </thead>\n",
       "  <tbody>\n",
       "    <tr>\n",
       "      <th>0</th>\n",
       "      <td>US</td>\n",
       "      <td>United States</td>\n",
       "      <td>9372610</td>\n",
       "      <td>329093.110</td>\n",
       "      <td>1.007119</td>\n",
       "    </tr>\n",
       "    <tr>\n",
       "      <th>1</th>\n",
       "      <td>JP</td>\n",
       "      <td>Japan</td>\n",
       "      <td>377930</td>\n",
       "      <td>126854.745</td>\n",
       "      <td>0.997401</td>\n",
       "    </tr>\n",
       "    <tr>\n",
       "      <th>2</th>\n",
       "      <td>TR</td>\n",
       "      <td>Turkey</td>\n",
       "      <td>783562</td>\n",
       "      <td>82961.805</td>\n",
       "      <td>1.012756</td>\n",
       "    </tr>\n",
       "    <tr>\n",
       "      <th>3</th>\n",
       "      <td>DE</td>\n",
       "      <td>Germany</td>\n",
       "      <td>357114</td>\n",
       "      <td>82438.639</td>\n",
       "      <td>1.001764</td>\n",
       "    </tr>\n",
       "    <tr>\n",
       "      <th>4</th>\n",
       "      <td>GB</td>\n",
       "      <td>United Kingdom</td>\n",
       "      <td>242900</td>\n",
       "      <td>66959.016</td>\n",
       "      <td>1.005791</td>\n",
       "    </tr>\n",
       "  </tbody>\n",
       "</table>\n",
       "</div>"
      ],
      "text/plain": [
       "  cca2            name     area     pop2019  GrowthRate\n",
       "0   US   United States  9372610  329093.110    1.007119\n",
       "1   JP           Japan   377930  126854.745    0.997401\n",
       "2   TR          Turkey   783562   82961.805    1.012756\n",
       "3   DE         Germany   357114   82438.639    1.001764\n",
       "4   GB  United Kingdom   242900   66959.016    1.005791"
      ]
     },
     "execution_count": 37,
     "metadata": {},
     "output_type": "execute_result"
    }
   ],
   "source": [
    "# Reading in data for growth rates for all 'Developed' countries\n",
    "developed_countries = pd.read_csv(dataset_url+\"developed.csv\")\n",
    "developed_countries.head()"
   ]
  },
  {
   "cell_type": "code",
   "execution_count": 38,
   "metadata": {
    "colab": {
     "base_uri": "https://localhost:8080/",
     "height": 118
    },
    "colab_type": "code",
    "id": "9Jw4a_7TJMR0",
    "outputId": "11330cb9-cee4-4935-ebc2-803df2c05caf"
   },
   "outputs": [
    {
     "data": {
      "text/plain": [
       "cca2          0\n",
       "name          0\n",
       "area          0\n",
       "pop2019       0\n",
       "GrowthRate    0\n",
       "dtype: int64"
      ]
     },
     "execution_count": 38,
     "metadata": {},
     "output_type": "execute_result"
    }
   ],
   "source": [
    "# Checking for NAs\n",
    "developed_countries.isna().sum()"
   ]
  },
  {
   "cell_type": "markdown",
   "metadata": {
    "colab_type": "text",
    "id": "sQqxySap_sbm"
   },
   "source": [
    "Merging world crime data with growth rate for developed nations in order to find the position of the United States as compared to other countries. We are using inner join because we want to see the data only for developed countries."
   ]
  },
  {
   "cell_type": "code",
   "execution_count": 39,
   "metadata": {
    "colab": {},
    "colab_type": "code",
    "id": "eeYdplfJJMR3",
    "scrolled": true
   },
   "outputs": [],
   "source": [
    "# Merging world crimes and growth rates dataset\n",
    "world_crime_developed = world_crime.merge(developed_countries, how=\"inner\", left_on=\"Country\", right_on=\"name\")\n",
    "# Removing columns that are not required for the analysis\n",
    "world_crime_developed.drop(columns = ['Source', 'cca2','name', 'area'], inplace = True)"
   ]
  },
  {
   "cell_type": "markdown",
   "metadata": {
    "colab_type": "text",
    "id": "9nNsP7-i_sbp"
   },
   "source": [
    "### Final Dataset"
   ]
  },
  {
   "cell_type": "code",
   "execution_count": 40,
   "metadata": {
    "colab": {
     "base_uri": "https://localhost:8080/",
     "height": 195
    },
    "colab_type": "code",
    "id": "0ys11zET_sbp",
    "outputId": "b192c3a2-1960-4121-dc82-98a5127a9df7"
   },
   "outputs": [
    {
     "data": {
      "text/html": [
       "<div>\n",
       "<style scoped>\n",
       "    .dataframe tbody tr th:only-of-type {\n",
       "        vertical-align: middle;\n",
       "    }\n",
       "\n",
       "    .dataframe tbody tr th {\n",
       "        vertical-align: top;\n",
       "    }\n",
       "\n",
       "    .dataframe thead th {\n",
       "        text-align: right;\n",
       "    }\n",
       "</style>\n",
       "<table border=\"1\" class=\"dataframe\">\n",
       "  <thead>\n",
       "    <tr style=\"text-align: right;\">\n",
       "      <th></th>\n",
       "      <th>Country</th>\n",
       "      <th>Country_code</th>\n",
       "      <th>%_homi_gun</th>\n",
       "      <th>num_homi_gun</th>\n",
       "      <th>homi_gun_per100k</th>\n",
       "      <th>rank-rate_owner</th>\n",
       "      <th>avg_gun_per100</th>\n",
       "      <th>avg_tot_all_guns</th>\n",
       "      <th>pop2019</th>\n",
       "      <th>GrowthRate</th>\n",
       "    </tr>\n",
       "  </thead>\n",
       "  <tbody>\n",
       "    <tr>\n",
       "      <th>0</th>\n",
       "      <td>Australia</td>\n",
       "      <td>AU</td>\n",
       "      <td>11.5</td>\n",
       "      <td>30.0</td>\n",
       "      <td>0.14</td>\n",
       "      <td>42.0</td>\n",
       "      <td>15.0</td>\n",
       "      <td>3050000.0</td>\n",
       "      <td>25088.636</td>\n",
       "      <td>1.012772</td>\n",
       "    </tr>\n",
       "    <tr>\n",
       "      <th>1</th>\n",
       "      <td>Austria</td>\n",
       "      <td>AT</td>\n",
       "      <td>29.5</td>\n",
       "      <td>18.0</td>\n",
       "      <td>0.22</td>\n",
       "      <td>14.0</td>\n",
       "      <td>30.4</td>\n",
       "      <td>2500000.0</td>\n",
       "      <td>8766.201</td>\n",
       "      <td>1.001643</td>\n",
       "    </tr>\n",
       "    <tr>\n",
       "      <th>2</th>\n",
       "      <td>Belgium</td>\n",
       "      <td>BE</td>\n",
       "      <td>39.5</td>\n",
       "      <td>70.0</td>\n",
       "      <td>0.68</td>\n",
       "      <td>34.0</td>\n",
       "      <td>17.2</td>\n",
       "      <td>1800000.0</td>\n",
       "      <td>11562.784</td>\n",
       "      <td>1.005589</td>\n",
       "    </tr>\n",
       "    <tr>\n",
       "      <th>3</th>\n",
       "      <td>Canada</td>\n",
       "      <td>CA</td>\n",
       "      <td>32.0</td>\n",
       "      <td>173.0</td>\n",
       "      <td>0.51</td>\n",
       "      <td>13.0</td>\n",
       "      <td>30.8</td>\n",
       "      <td>9950000.0</td>\n",
       "      <td>37279.811</td>\n",
       "      <td>1.008823</td>\n",
       "    </tr>\n",
       "    <tr>\n",
       "      <th>4</th>\n",
       "      <td>Cyprus</td>\n",
       "      <td>CY</td>\n",
       "      <td>26.3</td>\n",
       "      <td>5.0</td>\n",
       "      <td>0.46</td>\n",
       "      <td>6.0</td>\n",
       "      <td>36.4</td>\n",
       "      <td>275000.0</td>\n",
       "      <td>1198.427</td>\n",
       "      <td>1.007856</td>\n",
       "    </tr>\n",
       "  </tbody>\n",
       "</table>\n",
       "</div>"
      ],
      "text/plain": [
       "     Country Country_code  %_homi_gun  num_homi_gun  homi_gun_per100k  \\\n",
       "0  Australia           AU        11.5          30.0              0.14   \n",
       "1    Austria           AT        29.5          18.0              0.22   \n",
       "2    Belgium           BE        39.5          70.0              0.68   \n",
       "3     Canada           CA        32.0         173.0              0.51   \n",
       "4     Cyprus           CY        26.3           5.0              0.46   \n",
       "\n",
       "   rank-rate_owner  avg_gun_per100  avg_tot_all_guns    pop2019  GrowthRate  \n",
       "0             42.0            15.0         3050000.0  25088.636    1.012772  \n",
       "1             14.0            30.4         2500000.0   8766.201    1.001643  \n",
       "2             34.0            17.2         1800000.0  11562.784    1.005589  \n",
       "3             13.0            30.8         9950000.0  37279.811    1.008823  \n",
       "4              6.0            36.4          275000.0   1198.427    1.007856  "
      ]
     },
     "execution_count": 40,
     "metadata": {},
     "output_type": "execute_result"
    }
   ],
   "source": [
    "world_crime_developed.head()"
   ]
  },
  {
   "cell_type": "code",
   "execution_count": 41,
   "metadata": {},
   "outputs": [],
   "source": [
    "world_crime_developed.to_csv(\"world_crime.csv\")"
   ]
  },
  {
   "cell_type": "markdown",
   "metadata": {
    "colab_type": "text",
    "id": "LbOtDCQ8_sbs"
   },
   "source": [
    "### Exploration"
   ]
  },
  {
   "cell_type": "markdown",
   "metadata": {
    "colab_type": "text",
    "id": "JzjG1pdJ_sbt"
   },
   "source": [
    "Countries as per gun ownership rate"
   ]
  },
  {
   "cell_type": "code",
   "execution_count": 42,
   "metadata": {
    "colab": {
     "base_uri": "https://localhost:8080/",
     "height": 195
    },
    "colab_type": "code",
    "id": "rL8b2zF2_sbu",
    "outputId": "ae07500e-1de1-4bab-acda-819a0f96ad29",
    "scrolled": true
   },
   "outputs": [
    {
     "data": {
      "text/html": [
       "<div>\n",
       "<style scoped>\n",
       "    .dataframe tbody tr th:only-of-type {\n",
       "        vertical-align: middle;\n",
       "    }\n",
       "\n",
       "    .dataframe tbody tr th {\n",
       "        vertical-align: top;\n",
       "    }\n",
       "\n",
       "    .dataframe thead th {\n",
       "        text-align: right;\n",
       "    }\n",
       "</style>\n",
       "<table border=\"1\" class=\"dataframe\">\n",
       "  <thead>\n",
       "    <tr style=\"text-align: right;\">\n",
       "      <th></th>\n",
       "      <th>Country</th>\n",
       "      <th>Country_code</th>\n",
       "      <th>%_homi_gun</th>\n",
       "      <th>num_homi_gun</th>\n",
       "      <th>homi_gun_per100k</th>\n",
       "      <th>rank-rate_owner</th>\n",
       "      <th>avg_gun_per100</th>\n",
       "      <th>avg_tot_all_guns</th>\n",
       "      <th>pop2019</th>\n",
       "      <th>GrowthRate</th>\n",
       "    </tr>\n",
       "  </thead>\n",
       "  <tbody>\n",
       "    <tr>\n",
       "      <th>28</th>\n",
       "      <td>United States</td>\n",
       "      <td>US</td>\n",
       "      <td>60.0</td>\n",
       "      <td>9146.0</td>\n",
       "      <td>2.97</td>\n",
       "      <td>1.0</td>\n",
       "      <td>88.8</td>\n",
       "      <td>270000000.0</td>\n",
       "      <td>329093.110</td>\n",
       "      <td>1.007119</td>\n",
       "    </tr>\n",
       "    <tr>\n",
       "      <th>26</th>\n",
       "      <td>Switzerland</td>\n",
       "      <td>CH</td>\n",
       "      <td>72.2</td>\n",
       "      <td>57.0</td>\n",
       "      <td>0.77</td>\n",
       "      <td>3.0</td>\n",
       "      <td>45.7</td>\n",
       "      <td>3400000.0</td>\n",
       "      <td>8608.259</td>\n",
       "      <td>1.007517</td>\n",
       "    </tr>\n",
       "    <tr>\n",
       "      <th>8</th>\n",
       "      <td>Finland</td>\n",
       "      <td>FI</td>\n",
       "      <td>19.8</td>\n",
       "      <td>24.0</td>\n",
       "      <td>0.45</td>\n",
       "      <td>4.0</td>\n",
       "      <td>45.3</td>\n",
       "      <td>2400000.0</td>\n",
       "      <td>5561.389</td>\n",
       "      <td>1.003405</td>\n",
       "    </tr>\n",
       "    <tr>\n",
       "      <th>4</th>\n",
       "      <td>Cyprus</td>\n",
       "      <td>CY</td>\n",
       "      <td>26.3</td>\n",
       "      <td>5.0</td>\n",
       "      <td>0.46</td>\n",
       "      <td>6.0</td>\n",
       "      <td>36.4</td>\n",
       "      <td>275000.0</td>\n",
       "      <td>1198.427</td>\n",
       "      <td>1.007856</td>\n",
       "    </tr>\n",
       "    <tr>\n",
       "      <th>25</th>\n",
       "      <td>Sweden</td>\n",
       "      <td>SE</td>\n",
       "      <td>33.9</td>\n",
       "      <td>37.0</td>\n",
       "      <td>0.41</td>\n",
       "      <td>10.0</td>\n",
       "      <td>31.6</td>\n",
       "      <td>2800000.0</td>\n",
       "      <td>10053.135</td>\n",
       "      <td>1.007055</td>\n",
       "    </tr>\n",
       "  </tbody>\n",
       "</table>\n",
       "</div>"
      ],
      "text/plain": [
       "          Country Country_code  %_homi_gun  num_homi_gun  homi_gun_per100k  \\\n",
       "28  United States           US        60.0        9146.0              2.97   \n",
       "26    Switzerland           CH        72.2          57.0              0.77   \n",
       "8         Finland           FI        19.8          24.0              0.45   \n",
       "4          Cyprus           CY        26.3           5.0              0.46   \n",
       "25         Sweden           SE        33.9          37.0              0.41   \n",
       "\n",
       "    rank-rate_owner  avg_gun_per100  avg_tot_all_guns     pop2019  GrowthRate  \n",
       "28              1.0            88.8       270000000.0  329093.110    1.007119  \n",
       "26              3.0            45.7         3400000.0    8608.259    1.007517  \n",
       "8               4.0            45.3         2400000.0    5561.389    1.003405  \n",
       "4               6.0            36.4          275000.0    1198.427    1.007856  \n",
       "25             10.0            31.6         2800000.0   10053.135    1.007055  "
      ]
     },
     "execution_count": 42,
     "metadata": {},
     "output_type": "execute_result"
    }
   ],
   "source": [
    "world_crime_developed.sort_values(by = 'rank-rate_owner')[:5]"
   ]
  },
  {
   "cell_type": "markdown",
   "metadata": {
    "colab_type": "text",
    "id": "DBPprssWAKZK"
   },
   "source": [
    "Countries by average number of all civilian owned guns"
   ]
  },
  {
   "cell_type": "code",
   "execution_count": 43,
   "metadata": {
    "colab": {
     "base_uri": "https://localhost:8080/",
     "height": 195
    },
    "colab_type": "code",
    "id": "bKtkl-gX_sbw",
    "outputId": "3d6dc61a-c7c2-48b2-a786-df555af5bd48"
   },
   "outputs": [
    {
     "data": {
      "text/html": [
       "<div>\n",
       "<style scoped>\n",
       "    .dataframe tbody tr th:only-of-type {\n",
       "        vertical-align: middle;\n",
       "    }\n",
       "\n",
       "    .dataframe tbody tr th {\n",
       "        vertical-align: top;\n",
       "    }\n",
       "\n",
       "    .dataframe thead th {\n",
       "        text-align: right;\n",
       "    }\n",
       "</style>\n",
       "<table border=\"1\" class=\"dataframe\">\n",
       "  <thead>\n",
       "    <tr style=\"text-align: right;\">\n",
       "      <th></th>\n",
       "      <th>Country</th>\n",
       "      <th>Country_code</th>\n",
       "      <th>%_homi_gun</th>\n",
       "      <th>num_homi_gun</th>\n",
       "      <th>homi_gun_per100k</th>\n",
       "      <th>rank-rate_owner</th>\n",
       "      <th>avg_gun_per100</th>\n",
       "      <th>avg_tot_all_guns</th>\n",
       "      <th>pop2019</th>\n",
       "      <th>GrowthRate</th>\n",
       "    </tr>\n",
       "  </thead>\n",
       "  <tbody>\n",
       "    <tr>\n",
       "      <th>28</th>\n",
       "      <td>United States</td>\n",
       "      <td>US</td>\n",
       "      <td>60.0</td>\n",
       "      <td>9146.0</td>\n",
       "      <td>2.97</td>\n",
       "      <td>1.0</td>\n",
       "      <td>88.8</td>\n",
       "      <td>270000000.0</td>\n",
       "      <td>329093.110</td>\n",
       "      <td>1.007119</td>\n",
       "    </tr>\n",
       "    <tr>\n",
       "      <th>10</th>\n",
       "      <td>Germany</td>\n",
       "      <td>DE</td>\n",
       "      <td>26.3</td>\n",
       "      <td>158.0</td>\n",
       "      <td>0.19</td>\n",
       "      <td>15.0</td>\n",
       "      <td>30.3</td>\n",
       "      <td>25000000.0</td>\n",
       "      <td>82438.639</td>\n",
       "      <td>1.001764</td>\n",
       "    </tr>\n",
       "    <tr>\n",
       "      <th>9</th>\n",
       "      <td>France</td>\n",
       "      <td>FR</td>\n",
       "      <td>9.6</td>\n",
       "      <td>35.0</td>\n",
       "      <td>0.06</td>\n",
       "      <td>12.0</td>\n",
       "      <td>31.2</td>\n",
       "      <td>19000000.0</td>\n",
       "      <td>65480.710</td>\n",
       "      <td>1.003793</td>\n",
       "    </tr>\n",
       "    <tr>\n",
       "      <th>3</th>\n",
       "      <td>Canada</td>\n",
       "      <td>CA</td>\n",
       "      <td>32.0</td>\n",
       "      <td>173.0</td>\n",
       "      <td>0.51</td>\n",
       "      <td>13.0</td>\n",
       "      <td>30.8</td>\n",
       "      <td>9950000.0</td>\n",
       "      <td>37279.811</td>\n",
       "      <td>1.008823</td>\n",
       "    </tr>\n",
       "    <tr>\n",
       "      <th>27</th>\n",
       "      <td>Turkey</td>\n",
       "      <td>TR</td>\n",
       "      <td>16.9</td>\n",
       "      <td>535.0</td>\n",
       "      <td>0.77</td>\n",
       "      <td>52.0</td>\n",
       "      <td>12.5</td>\n",
       "      <td>9000000.0</td>\n",
       "      <td>82961.805</td>\n",
       "      <td>1.012756</td>\n",
       "    </tr>\n",
       "  </tbody>\n",
       "</table>\n",
       "</div>"
      ],
      "text/plain": [
       "          Country Country_code  %_homi_gun  num_homi_gun  homi_gun_per100k  \\\n",
       "28  United States           US        60.0        9146.0              2.97   \n",
       "10        Germany           DE        26.3         158.0              0.19   \n",
       "9          France           FR         9.6          35.0              0.06   \n",
       "3          Canada           CA        32.0         173.0              0.51   \n",
       "27         Turkey           TR        16.9         535.0              0.77   \n",
       "\n",
       "    rank-rate_owner  avg_gun_per100  avg_tot_all_guns     pop2019  GrowthRate  \n",
       "28              1.0            88.8       270000000.0  329093.110    1.007119  \n",
       "10             15.0            30.3        25000000.0   82438.639    1.001764  \n",
       "9              12.0            31.2        19000000.0   65480.710    1.003793  \n",
       "3              13.0            30.8         9950000.0   37279.811    1.008823  \n",
       "27             52.0            12.5         9000000.0   82961.805    1.012756  "
      ]
     },
     "execution_count": 43,
     "metadata": {},
     "output_type": "execute_result"
    }
   ],
   "source": [
    "world_crime_developed.sort_values(by = 'avg_tot_all_guns', ascending = False)[:5]"
   ]
  },
  {
   "cell_type": "markdown",
   "metadata": {},
   "source": [
    "### Analysis"
   ]
  },
  {
   "cell_type": "markdown",
   "metadata": {
    "colab_type": "text",
    "id": "TuFX1iPkJMR6"
   },
   "source": [
    "**Graph 1**: This visualization indicates the number of gun related homicides per 1 million people for all developed nations. Key variables of interest are - Country and homi_gun_per100k in the world crime dataset.\n",
    "\n",
    "We can clearly see that United States is way ahead of other developed nations in terms of gun related homicides and is clearly an <b><i>outlier on gun violence</b></i>. Number of homicides by guns per 1 million people in US(29.70) account for <b><i>almost 6 times as of Canada(5.10) and 16 times as of Germany(1.90)</b></i>.\n",
    "  "
   ]
  },
  {
   "cell_type": "code",
   "execution_count": 44,
   "metadata": {},
   "outputs": [
    {
     "data": {
      "text/plain": [
       "<IPython.core.display.Image object>"
      ]
     },
     "execution_count": 44,
     "metadata": {},
     "output_type": "execute_result"
    }
   ],
   "source": [
    "Image('https://raw.githubusercontent.com/pragyansharma24/Gun-Violence-in-United-States/master/country_gunHomicides.png', width = 1300, height = 700)"
   ]
  },
  {
   "cell_type": "markdown",
   "metadata": {},
   "source": [
    "**Graph 2**: These two visualizations compare the difference between the gun ownership and population statistics for United States and the other developed nations. Key variables of interest are - Country, pop2019, avg_tot_all_guns.\n",
    "\n",
    "\n",
    "It indicates that US alone is home to <b><i>more than 70% of the total guns among all the developed nations</b></i>. Also, it indicates that <b><i>US accounts for 33% of the total populations among all developed nations</b></i>."
   ]
  },
  {
   "cell_type": "code",
   "execution_count": 45,
   "metadata": {},
   "outputs": [
    {
     "data": {
      "text/plain": [
       "<IPython.core.display.Image object>"
      ]
     },
     "execution_count": 45,
     "metadata": {},
     "output_type": "execute_result"
    }
   ],
   "source": [
    "Image('https://raw.githubusercontent.com/pragyansharma24/Gun-Violence-in-United-States/master/countrywise_USRest_gunownership.png', width = 1300, height = 700)"
   ]
  },
  {
   "cell_type": "markdown",
   "metadata": {},
   "source": [
    "**Graph 3**: This graph showcases relationship between gun ownership and gun related deaths across developed nations. Key variables of interest are - Country, homi_gun_per100k, avg_gun_per100.\n",
    "\n",
    "\n",
    "It indicates that <b><i>US is an outlier compared to other developed nations and witnesses more gun related deaths due to higher gun ownership</b></i>."
   ]
  },
  {
   "cell_type": "code",
   "execution_count": 46,
   "metadata": {},
   "outputs": [
    {
     "data": {
      "text/plain": [
       "<IPython.core.display.Image object>"
      ]
     },
     "execution_count": 46,
     "metadata": {},
     "output_type": "execute_result"
    }
   ],
   "source": [
    "Image('https://raw.githubusercontent.com/pragyansharma24/Gun-Violence-in-United-States/master/country_gunper100homi.png', width = 1300, height = 700)"
   ]
  },
  {
   "cell_type": "markdown",
   "metadata": {},
   "source": [
    "### The argument that we are trying to present here is that gun availability is a major risk factor for homicides in developed nations. This is supported by the above graphs which indicate that a higher gun ownership in United States is responsible for a higher gun related death rate. "
   ]
  },
  {
   "cell_type": "code",
   "execution_count": 80,
   "metadata": {},
   "outputs": [
    {
     "data": {
      "text/plain": [
       "<IPython.core.display.Image object>"
      ]
     },
     "execution_count": 80,
     "metadata": {},
     "output_type": "execute_result"
    }
   ],
   "source": [
    "# Dashboard\n",
    "Image('https://raw.githubusercontent.com/pragyansharma24/Gun-Violence-in-United-States/master/CountryAnalysis.png', width = 1300, height = 700)"
   ]
  },
  {
   "cell_type": "markdown",
   "metadata": {
    "colab_type": "text",
    "id": "hUvWJonA8JLQ"
   },
   "source": [
    "---"
   ]
  },
  {
   "cell_type": "markdown",
   "metadata": {},
   "source": [
    "## Gun Laws vs Gun Deaths in United States"
   ]
  },
  {
   "cell_type": "markdown",
   "metadata": {
    "colab_type": "text",
    "id": "JfaXGyAKyBph"
   },
   "source": [
    "According to an article in New York Times, \"*More people died from firearm injuries in the United States in 2017 than in any other year since at least 1968, according to new data from the Centers for Disease Control and Prevention*.\" (Ref: https://www.nytimes.com/2018/12/18/us/gun-deaths.html).\n",
    "\n",
    "In fact, 2017 witnessed the highest number of mass shootings alone, killing and injuring hundreds of innocent lives. To understand the seriousness of the situation, we plan to visualize each of the mass shooting incidents on the map of the United States.   "
   ]
  },
  {
   "cell_type": "markdown",
   "metadata": {
    "colab_type": "text",
    "id": "jf-QvAbMKY_b"
   },
   "source": [
    "### Datasets and Sources\n",
    "\n",
    "**1.  Mass Shootings Data from Gun Violence Archive**: The dataset consists of gun violence incidents collected from Jan 01, 2013 to May 18, 2019. Each row of the dataset represents an incident in the United States with details regarding the incident location and number of people killed and injured. Source: https://www.gunviolencearchive.org/\n",
    "\n",
    "**2. City Locations Data from Opensoft**: The dataset consists of US cities and their geographical locations. Each row represents a city and its geographical coordinates and details like population, timezone, etc. Source: https://public.opendatasoft.com/explore/dataset/1000-largest-us-cities-by-population-with-geographic-coordinates/table/?sort=-rank\n",
    "\n",
    "**Variables of Interest:**\n",
    "    <ul>\n",
    "      <li><i>Incident Date</i>: The date of the mass shooting incident</li>\n",
    "      <li><i>State</i>: State where the mass shooting incident took place</li>\n",
    "      <li><i>City</i>: City where the mass shooting incident took place</li>\n",
    "      <li><i>Address</i>: Address where the mass shooting incident took place</li>\n",
    "      <li><i>num_Killed</i>: Number of people killed in the mass shooting incident</li>\n",
    "      <li><i>num_Injured</i>: Number of people injured in the mass shooting incident</li>\n",
    "      <li><i>Latitude</i>: Latitude of the given city</li>\n",
    "      <li><i>Longitude</i>: Longitude of the given city</li>\n",
    "    </ul>\n",
    "    \n",
    "**Limitations**\n",
    "* City Locations Dataset has geolocations only for 1000 largest US cities based on population, so we lose the mass shootings information about some of the smaller cities\n"
   ]
  },
  {
   "cell_type": "markdown",
   "metadata": {
    "colab_type": "text",
    "id": "y0zau_DmJMQ1"
   },
   "source": [
    "### Data Cleaning\n",
    "The dataset needs some preparation before we start exploring and visualizing the dataset further. Steps to be follwed are:\n",
    "<ul>\n",
    "  <li>Renaming columns for efficient data handling</li>\n",
    "  <li> Creating new features e.g. month and year from date </li>\n",
    "  <li>Adding latitude and longitude (geolocation) for each of the given locations for maps</li>\n",
    "  <li>Handling Null values</li>\n",
    "</ul>"
   ]
  },
  {
   "cell_type": "markdown",
   "metadata": {
    "colab_type": "text",
    "id": "PtPDGniR_sZU"
   },
   "source": [
    "Step1: Reading and merging data for mass shootings from 2013 to 2019"
   ]
  },
  {
   "cell_type": "code",
   "execution_count": 48,
   "metadata": {
    "colab": {},
    "colab_type": "code",
    "id": "k0oOxbH8_sZU"
   },
   "outputs": [],
   "source": [
    "dataset_url = \"https://raw.githubusercontent.com/pragyansharma24/Gun-Violence-in-United-States/master/datasets/\""
   ]
  },
  {
   "cell_type": "code",
   "execution_count": 49,
   "metadata": {
    "colab": {
     "base_uri": "https://localhost:8080/",
     "height": 195
    },
    "colab_type": "code",
    "id": "Td0zRLyCOqzv",
    "outputId": "b2d7d2d6-cf13-4aed-c791-bcb45247d022",
    "scrolled": true
   },
   "outputs": [
    {
     "data": {
      "text/html": [
       "<div>\n",
       "<style scoped>\n",
       "    .dataframe tbody tr th:only-of-type {\n",
       "        vertical-align: middle;\n",
       "    }\n",
       "\n",
       "    .dataframe tbody tr th {\n",
       "        vertical-align: top;\n",
       "    }\n",
       "\n",
       "    .dataframe thead th {\n",
       "        text-align: right;\n",
       "    }\n",
       "</style>\n",
       "<table border=\"1\" class=\"dataframe\">\n",
       "  <thead>\n",
       "    <tr style=\"text-align: right;\">\n",
       "      <th></th>\n",
       "      <th>Incident Date</th>\n",
       "      <th>State</th>\n",
       "      <th>City Or County</th>\n",
       "      <th>Address</th>\n",
       "      <th># Killed</th>\n",
       "      <th># Injured</th>\n",
       "      <th>Operations</th>\n",
       "    </tr>\n",
       "  </thead>\n",
       "  <tbody>\n",
       "    <tr>\n",
       "      <th>0</th>\n",
       "      <td>December 31, 2013</td>\n",
       "      <td>New York</td>\n",
       "      <td>Brooklyn</td>\n",
       "      <td>60 Glenmore Ave</td>\n",
       "      <td>0.0</td>\n",
       "      <td>6.0</td>\n",
       "      <td>NaN</td>\n",
       "    </tr>\n",
       "    <tr>\n",
       "      <th>1</th>\n",
       "      <td>December 28, 2013</td>\n",
       "      <td>Alabama</td>\n",
       "      <td>Montgomery</td>\n",
       "      <td>954 Highland Ave</td>\n",
       "      <td>3.0</td>\n",
       "      <td>5.0</td>\n",
       "      <td>NaN</td>\n",
       "    </tr>\n",
       "    <tr>\n",
       "      <th>2</th>\n",
       "      <td>December 26, 2013</td>\n",
       "      <td>Louisiana</td>\n",
       "      <td>Slidell</td>\n",
       "      <td>2144 First St</td>\n",
       "      <td>2.0</td>\n",
       "      <td>6.0</td>\n",
       "      <td>NaN</td>\n",
       "    </tr>\n",
       "    <tr>\n",
       "      <th>3</th>\n",
       "      <td>December 26, 2013</td>\n",
       "      <td>Louisiana</td>\n",
       "      <td>Lockport</td>\n",
       "      <td>313 Tenth St</td>\n",
       "      <td>3.0</td>\n",
       "      <td>3.0</td>\n",
       "      <td>NaN</td>\n",
       "    </tr>\n",
       "    <tr>\n",
       "      <th>4</th>\n",
       "      <td>December 25, 2013</td>\n",
       "      <td>New Jersey</td>\n",
       "      <td>Irvington</td>\n",
       "      <td>Nye Avenue and 21st Street</td>\n",
       "      <td>3.0</td>\n",
       "      <td>2.0</td>\n",
       "      <td>NaN</td>\n",
       "    </tr>\n",
       "  </tbody>\n",
       "</table>\n",
       "</div>"
      ],
      "text/plain": [
       "       Incident Date       State City Or County                     Address  \\\n",
       "0  December 31, 2013    New York       Brooklyn             60 Glenmore Ave   \n",
       "1  December 28, 2013     Alabama     Montgomery            954 Highland Ave   \n",
       "2  December 26, 2013   Louisiana        Slidell               2144 First St   \n",
       "3  December 26, 2013   Louisiana       Lockport                313 Tenth St   \n",
       "4  December 25, 2013  New Jersey      Irvington  Nye Avenue and 21st Street   \n",
       "\n",
       "   # Killed  # Injured  Operations  \n",
       "0       0.0        6.0         NaN  \n",
       "1       3.0        5.0         NaN  \n",
       "2       2.0        6.0         NaN  \n",
       "3       3.0        3.0         NaN  \n",
       "4       3.0        2.0         NaN  "
      ]
     },
     "execution_count": 49,
     "metadata": {},
     "output_type": "execute_result"
    }
   ],
   "source": [
    "y2013 = pd.read_csv(dataset_url+\"Mass%20Shootings%20year%20wise/Mass_Shootings_2013.csv\")\n",
    "y2014 = pd.read_csv(dataset_url+\"Mass%20Shootings%20year%20wise/Mass_Shootings_2014.csv\")\n",
    "y2015 = pd.read_csv(dataset_url+\"Mass%20Shootings%20year%20wise/Mass_Shootings_2015.csv\")\n",
    "y2016 = pd.read_csv(dataset_url+\"Mass%20Shootings%20year%20wise/Mass_Shootings_2016.csv\")\n",
    "y2017 = pd.read_csv(dataset_url+\"Mass%20Shootings%20year%20wise/Mass_Shootings_2017.csv\")\n",
    "y2018 = pd.read_csv(dataset_url+\"Mass%20Shootings%20year%20wise/Mass_Shootings_2018.csv\")\n",
    "y2019 = pd.read_csv(dataset_url+\"Mass%20Shootings%20year%20wise/Mass_Shootings_2019.csv\")\n",
    "# combining data for all the years \n",
    "mass_shoot = pd.concat([y2013, y2014, y2015, y2016, y2017, y2018, y2019])\n",
    "mass_shoot.head()"
   ]
  },
  {
   "cell_type": "markdown",
   "metadata": {
    "colab_type": "text",
    "id": "hdA2D9aA_sZb"
   },
   "source": [
    "Step 2: Renaming columns for efficient data handling"
   ]
  },
  {
   "cell_type": "code",
   "execution_count": 50,
   "metadata": {
    "colab": {},
    "colab_type": "code",
    "id": "rxJeMwSPJMQ6",
    "scrolled": true
   },
   "outputs": [],
   "source": [
    "mass_shoot.rename(columns={'Incident Date':'Date','City Or County':'City', '# Killed':'num_Killed', '# Injured':'num_Injured'}, inplace=True)"
   ]
  },
  {
   "cell_type": "markdown",
   "metadata": {
    "colab_type": "text",
    "id": "qo4rhb-E_sZf"
   },
   "source": [
    "Step 3: Extracting Month and Year from the incident Date column"
   ]
  },
  {
   "cell_type": "code",
   "execution_count": 51,
   "metadata": {
    "colab": {},
    "colab_type": "code",
    "id": "2-EKExs9SODe"
   },
   "outputs": [],
   "source": [
    "from datetime import datetime as dt\n",
    "mass_shoot['Date'] = pd.to_datetime(mass_shoot['Date'])\n",
    "mass_shoot['Month'] = mass_shoot['Date'].dt.month\n",
    "mass_shoot['Year'] = mass_shoot['Date'].dt.year"
   ]
  },
  {
   "cell_type": "markdown",
   "metadata": {
    "colab_type": "text",
    "id": "cBgb4JYW_sZj"
   },
   "source": [
    "Step 4: Reading data for Latitudes and Longitudes for cities in the United States"
   ]
  },
  {
   "cell_type": "code",
   "execution_count": 52,
   "metadata": {
    "colab": {
     "base_uri": "https://localhost:8080/",
     "height": 195
    },
    "colab_type": "code",
    "id": "0AURVzy8JMRA",
    "outputId": "565ebe54-b18e-46e1-d52e-4a5195b60894"
   },
   "outputs": [
    {
     "data": {
      "text/html": [
       "<div>\n",
       "<style scoped>\n",
       "    .dataframe tbody tr th:only-of-type {\n",
       "        vertical-align: middle;\n",
       "    }\n",
       "\n",
       "    .dataframe tbody tr th {\n",
       "        vertical-align: top;\n",
       "    }\n",
       "\n",
       "    .dataframe thead th {\n",
       "        text-align: right;\n",
       "    }\n",
       "</style>\n",
       "<table border=\"1\" class=\"dataframe\">\n",
       "  <thead>\n",
       "    <tr style=\"text-align: right;\">\n",
       "      <th></th>\n",
       "      <th>city</th>\n",
       "      <th>state_id</th>\n",
       "      <th>state_name</th>\n",
       "      <th>lat</th>\n",
       "      <th>lng</th>\n",
       "    </tr>\n",
       "  </thead>\n",
       "  <tbody>\n",
       "    <tr>\n",
       "      <th>0</th>\n",
       "      <td>Prairie Ridge</td>\n",
       "      <td>WA</td>\n",
       "      <td>Washington</td>\n",
       "      <td>47.1443</td>\n",
       "      <td>-122.1408</td>\n",
       "    </tr>\n",
       "    <tr>\n",
       "      <th>1</th>\n",
       "      <td>Edison</td>\n",
       "      <td>WA</td>\n",
       "      <td>Washington</td>\n",
       "      <td>48.5602</td>\n",
       "      <td>-122.4311</td>\n",
       "    </tr>\n",
       "    <tr>\n",
       "      <th>2</th>\n",
       "      <td>Packwood</td>\n",
       "      <td>WA</td>\n",
       "      <td>Washington</td>\n",
       "      <td>46.6085</td>\n",
       "      <td>-121.6702</td>\n",
       "    </tr>\n",
       "    <tr>\n",
       "      <th>3</th>\n",
       "      <td>Wautauga Beach</td>\n",
       "      <td>WA</td>\n",
       "      <td>Washington</td>\n",
       "      <td>47.5862</td>\n",
       "      <td>-122.5482</td>\n",
       "    </tr>\n",
       "    <tr>\n",
       "      <th>4</th>\n",
       "      <td>Harper</td>\n",
       "      <td>WA</td>\n",
       "      <td>Washington</td>\n",
       "      <td>47.5207</td>\n",
       "      <td>-122.5196</td>\n",
       "    </tr>\n",
       "  </tbody>\n",
       "</table>\n",
       "</div>"
      ],
      "text/plain": [
       "             city state_id  state_name      lat       lng\n",
       "0   Prairie Ridge       WA  Washington  47.1443 -122.1408\n",
       "1          Edison       WA  Washington  48.5602 -122.4311\n",
       "2        Packwood       WA  Washington  46.6085 -121.6702\n",
       "3  Wautauga Beach       WA  Washington  47.5862 -122.5482\n",
       "4          Harper       WA  Washington  47.5207 -122.5196"
      ]
     },
     "execution_count": 52,
     "metadata": {},
     "output_type": "execute_result"
    }
   ],
   "source": [
    "cities_location = pd.read_csv(dataset_url+ \"uscitiesv1.5.csv\")\n",
    "# Selecting relevant columns for further analysis\n",
    "cities_location_sub = cities_location[['city','state_id', 'state_name','lat', 'lng']]\n",
    "cities_location_sub.head()"
   ]
  },
  {
   "cell_type": "markdown",
   "metadata": {
    "colab_type": "text",
    "id": "YtlAE_2X_sZt"
   },
   "source": [
    "Step 5: Merging mass shootings data with city locations to use with maps. Left join has been used to ensure we have all the data from mass_shoot.\n"
   ]
  },
  {
   "cell_type": "code",
   "execution_count": 53,
   "metadata": {
    "colab": {},
    "colab_type": "code",
    "id": "TYFV6BMkJMRD"
   },
   "outputs": [],
   "source": [
    "# Merging datasets\n",
    "mass_shooting_data = mass_shoot.merge(cities_location_sub,how='left', left_on=['City', 'State'], right_on=['city', 'state_name'])\n",
    "# Dropping extra columns which we won't be using further\n",
    "mass_shooting_data.drop(columns=['Operations', 'city', 'state_name','state_id'], inplace=True)"
   ]
  },
  {
   "cell_type": "markdown",
   "metadata": {
    "colab_type": "text",
    "id": "6_m6dnt2_sZz"
   },
   "source": [
    "Step 6: Removing all the NA values"
   ]
  },
  {
   "cell_type": "code",
   "execution_count": 54,
   "metadata": {
    "colab": {
     "base_uri": "https://localhost:8080/",
     "height": 34
    },
    "colab_type": "code",
    "id": "VOwaorUIJMRO",
    "outputId": "6e6e22c9-e3bb-42aa-b5a8-8afc67d1d8f1"
   },
   "outputs": [
    {
     "data": {
      "text/plain": [
       "1915"
      ]
     },
     "execution_count": 54,
     "metadata": {},
     "output_type": "execute_result"
    }
   ],
   "source": [
    "#Removing NA\n",
    "mass_shooting_data = mass_shooting_data.dropna()\n",
    "# Checking number of rows in the combined dataframe\n",
    "len(mass_shooting_data)"
   ]
  },
  {
   "cell_type": "markdown",
   "metadata": {
    "colab_type": "text",
    "id": "q_hcwzO0_sZ5"
   },
   "source": [
    "### Final Dataset"
   ]
  },
  {
   "cell_type": "code",
   "execution_count": 55,
   "metadata": {
    "colab": {
     "base_uri": "https://localhost:8080/",
     "height": 195
    },
    "colab_type": "code",
    "id": "L9Wl6ZPc_sZ7",
    "outputId": "fb41e259-3a55-4cea-8989-d358c687f18a",
    "scrolled": true
   },
   "outputs": [
    {
     "data": {
      "text/html": [
       "<div>\n",
       "<style scoped>\n",
       "    .dataframe tbody tr th:only-of-type {\n",
       "        vertical-align: middle;\n",
       "    }\n",
       "\n",
       "    .dataframe tbody tr th {\n",
       "        vertical-align: top;\n",
       "    }\n",
       "\n",
       "    .dataframe thead th {\n",
       "        text-align: right;\n",
       "    }\n",
       "</style>\n",
       "<table border=\"1\" class=\"dataframe\">\n",
       "  <thead>\n",
       "    <tr style=\"text-align: right;\">\n",
       "      <th></th>\n",
       "      <th>Date</th>\n",
       "      <th>State</th>\n",
       "      <th>City</th>\n",
       "      <th>Address</th>\n",
       "      <th>num_Killed</th>\n",
       "      <th>num_Injured</th>\n",
       "      <th>Month</th>\n",
       "      <th>Year</th>\n",
       "      <th>lat</th>\n",
       "      <th>lng</th>\n",
       "    </tr>\n",
       "  </thead>\n",
       "  <tbody>\n",
       "    <tr>\n",
       "      <th>0</th>\n",
       "      <td>2013-12-31</td>\n",
       "      <td>New York</td>\n",
       "      <td>Brooklyn</td>\n",
       "      <td>60 Glenmore Ave</td>\n",
       "      <td>0.0</td>\n",
       "      <td>6.0</td>\n",
       "      <td>12.0</td>\n",
       "      <td>2013.0</td>\n",
       "      <td>40.6501</td>\n",
       "      <td>-73.9496</td>\n",
       "    </tr>\n",
       "    <tr>\n",
       "      <th>1</th>\n",
       "      <td>2013-12-28</td>\n",
       "      <td>Alabama</td>\n",
       "      <td>Montgomery</td>\n",
       "      <td>954 Highland Ave</td>\n",
       "      <td>3.0</td>\n",
       "      <td>5.0</td>\n",
       "      <td>12.0</td>\n",
       "      <td>2013.0</td>\n",
       "      <td>32.3470</td>\n",
       "      <td>-86.2663</td>\n",
       "    </tr>\n",
       "    <tr>\n",
       "      <th>2</th>\n",
       "      <td>2013-12-26</td>\n",
       "      <td>Louisiana</td>\n",
       "      <td>Slidell</td>\n",
       "      <td>2144 First St</td>\n",
       "      <td>2.0</td>\n",
       "      <td>6.0</td>\n",
       "      <td>12.0</td>\n",
       "      <td>2013.0</td>\n",
       "      <td>30.2882</td>\n",
       "      <td>-89.7826</td>\n",
       "    </tr>\n",
       "    <tr>\n",
       "      <th>3</th>\n",
       "      <td>2013-12-26</td>\n",
       "      <td>Louisiana</td>\n",
       "      <td>Lockport</td>\n",
       "      <td>313 Tenth St</td>\n",
       "      <td>3.0</td>\n",
       "      <td>3.0</td>\n",
       "      <td>12.0</td>\n",
       "      <td>2013.0</td>\n",
       "      <td>29.6418</td>\n",
       "      <td>-90.5376</td>\n",
       "    </tr>\n",
       "    <tr>\n",
       "      <th>5</th>\n",
       "      <td>2013-12-25</td>\n",
       "      <td>New York</td>\n",
       "      <td>Medford</td>\n",
       "      <td>33A Cedarhurst Ave</td>\n",
       "      <td>1.0</td>\n",
       "      <td>3.0</td>\n",
       "      <td>12.0</td>\n",
       "      <td>2013.0</td>\n",
       "      <td>40.8220</td>\n",
       "      <td>-72.9859</td>\n",
       "    </tr>\n",
       "  </tbody>\n",
       "</table>\n",
       "</div>"
      ],
      "text/plain": [
       "        Date      State        City             Address  num_Killed  \\\n",
       "0 2013-12-31   New York    Brooklyn     60 Glenmore Ave         0.0   \n",
       "1 2013-12-28    Alabama  Montgomery    954 Highland Ave         3.0   \n",
       "2 2013-12-26  Louisiana     Slidell       2144 First St         2.0   \n",
       "3 2013-12-26  Louisiana    Lockport        313 Tenth St         3.0   \n",
       "5 2013-12-25   New York     Medford  33A Cedarhurst Ave         1.0   \n",
       "\n",
       "   num_Injured  Month    Year      lat      lng  \n",
       "0          6.0   12.0  2013.0  40.6501 -73.9496  \n",
       "1          5.0   12.0  2013.0  32.3470 -86.2663  \n",
       "2          6.0   12.0  2013.0  30.2882 -89.7826  \n",
       "3          3.0   12.0  2013.0  29.6418 -90.5376  \n",
       "5          3.0   12.0  2013.0  40.8220 -72.9859  "
      ]
     },
     "execution_count": 55,
     "metadata": {},
     "output_type": "execute_result"
    }
   ],
   "source": [
    "mass_shooting_data.head()"
   ]
  },
  {
   "cell_type": "code",
   "execution_count": 56,
   "metadata": {},
   "outputs": [],
   "source": [
    "mass_shooting_data.to_csv(\"mass_shootings.csv\")"
   ]
  },
  {
   "cell_type": "markdown",
   "metadata": {
    "colab_type": "text",
    "id": "0zmM5TVT_saB"
   },
   "source": [
    "### Exploration"
   ]
  },
  {
   "cell_type": "markdown",
   "metadata": {
    "colab_type": "text",
    "id": "MWiuIEZ1_saD"
   },
   "source": [
    "Number of lives lost in mass shootings by year"
   ]
  },
  {
   "cell_type": "code",
   "execution_count": 57,
   "metadata": {
    "colab": {
     "base_uri": "https://localhost:8080/",
     "height": 254
    },
    "colab_type": "code",
    "id": "XlJLNUww_saE",
    "outputId": "6e948f8a-9c93-4c44-f8ea-4c800edcf2f1"
   },
   "outputs": [
    {
     "data": {
      "text/html": [
       "<div>\n",
       "<style scoped>\n",
       "    .dataframe tbody tr th:only-of-type {\n",
       "        vertical-align: middle;\n",
       "    }\n",
       "\n",
       "    .dataframe tbody tr th {\n",
       "        vertical-align: top;\n",
       "    }\n",
       "\n",
       "    .dataframe thead th {\n",
       "        text-align: right;\n",
       "    }\n",
       "</style>\n",
       "<table border=\"1\" class=\"dataframe\">\n",
       "  <thead>\n",
       "    <tr style=\"text-align: right;\">\n",
       "      <th></th>\n",
       "      <th>Year</th>\n",
       "      <th>num_Killed</th>\n",
       "    </tr>\n",
       "  </thead>\n",
       "  <tbody>\n",
       "    <tr>\n",
       "      <th>3</th>\n",
       "      <td>2016.0</td>\n",
       "      <td>411.0</td>\n",
       "    </tr>\n",
       "    <tr>\n",
       "      <th>4</th>\n",
       "      <td>2017.0</td>\n",
       "      <td>392.0</td>\n",
       "    </tr>\n",
       "    <tr>\n",
       "      <th>2</th>\n",
       "      <td>2015.0</td>\n",
       "      <td>332.0</td>\n",
       "    </tr>\n",
       "    <tr>\n",
       "      <th>5</th>\n",
       "      <td>2018.0</td>\n",
       "      <td>328.0</td>\n",
       "    </tr>\n",
       "    <tr>\n",
       "      <th>0</th>\n",
       "      <td>2013.0</td>\n",
       "      <td>249.0</td>\n",
       "    </tr>\n",
       "    <tr>\n",
       "      <th>1</th>\n",
       "      <td>2014.0</td>\n",
       "      <td>242.0</td>\n",
       "    </tr>\n",
       "    <tr>\n",
       "      <th>6</th>\n",
       "      <td>2019.0</td>\n",
       "      <td>130.0</td>\n",
       "    </tr>\n",
       "  </tbody>\n",
       "</table>\n",
       "</div>"
      ],
      "text/plain": [
       "     Year  num_Killed\n",
       "3  2016.0       411.0\n",
       "4  2017.0       392.0\n",
       "2  2015.0       332.0\n",
       "5  2018.0       328.0\n",
       "0  2013.0       249.0\n",
       "1  2014.0       242.0\n",
       "6  2019.0       130.0"
      ]
     },
     "execution_count": 57,
     "metadata": {},
     "output_type": "execute_result"
    }
   ],
   "source": [
    "mass_shooting_data.groupby('Year')['num_Killed'].sum()\\\n",
    ".reset_index().sort_values(by= 'num_Killed', ascending = False) "
   ]
  },
  {
   "cell_type": "markdown",
   "metadata": {
    "colab_type": "text",
    "id": "KKwnnBlF_saJ"
   },
   "source": [
    "Cities that lost most number of lives in mass shootings"
   ]
  },
  {
   "cell_type": "code",
   "execution_count": 58,
   "metadata": {
    "colab": {
     "base_uri": "https://localhost:8080/",
     "height": 195
    },
    "colab_type": "code",
    "id": "UpeyRbkz_saL",
    "outputId": "c404147c-0816-40e5-8efe-df9b120d05a0"
   },
   "outputs": [
    {
     "data": {
      "text/html": [
       "<div>\n",
       "<style scoped>\n",
       "    .dataframe tbody tr th:only-of-type {\n",
       "        vertical-align: middle;\n",
       "    }\n",
       "\n",
       "    .dataframe tbody tr th {\n",
       "        vertical-align: top;\n",
       "    }\n",
       "\n",
       "    .dataframe thead th {\n",
       "        text-align: right;\n",
       "    }\n",
       "</style>\n",
       "<table border=\"1\" class=\"dataframe\">\n",
       "  <thead>\n",
       "    <tr style=\"text-align: right;\">\n",
       "      <th></th>\n",
       "      <th>City</th>\n",
       "      <th>num_Killed</th>\n",
       "      <th>num_Injured</th>\n",
       "    </tr>\n",
       "  </thead>\n",
       "  <tbody>\n",
       "    <tr>\n",
       "      <th>106</th>\n",
       "      <td>Chicago</td>\n",
       "      <td>82.0</td>\n",
       "      <td>573.0</td>\n",
       "    </tr>\n",
       "    <tr>\n",
       "      <th>285</th>\n",
       "      <td>Las Vegas</td>\n",
       "      <td>72.0</td>\n",
       "      <td>488.0</td>\n",
       "    </tr>\n",
       "    <tr>\n",
       "      <th>389</th>\n",
       "      <td>Orlando</td>\n",
       "      <td>68.0</td>\n",
       "      <td>102.0</td>\n",
       "    </tr>\n",
       "    <tr>\n",
       "      <th>243</th>\n",
       "      <td>Houston</td>\n",
       "      <td>47.0</td>\n",
       "      <td>102.0</td>\n",
       "    </tr>\n",
       "    <tr>\n",
       "      <th>466</th>\n",
       "      <td>Saint Louis</td>\n",
       "      <td>37.0</td>\n",
       "      <td>148.0</td>\n",
       "    </tr>\n",
       "  </tbody>\n",
       "</table>\n",
       "</div>"
      ],
      "text/plain": [
       "            City  num_Killed  num_Injured\n",
       "106      Chicago        82.0        573.0\n",
       "285    Las Vegas        72.0        488.0\n",
       "389      Orlando        68.0        102.0\n",
       "243      Houston        47.0        102.0\n",
       "466  Saint Louis        37.0        148.0"
      ]
     },
     "execution_count": 58,
     "metadata": {},
     "output_type": "execute_result"
    }
   ],
   "source": [
    "mass_shooting_data.groupby('City')['num_Killed','num_Injured'].sum()\\\n",
    ".reset_index().sort_values(by= 'num_Killed', ascending = False)[:5]                      "
   ]
  },
  {
   "cell_type": "code",
   "execution_count": 59,
   "metadata": {
    "colab": {
     "base_uri": "https://localhost:8080/",
     "height": 1438
    },
    "colab_type": "code",
    "id": "aUn7evJV_saR",
    "outputId": "ddc464bf-5c0e-4055-f85e-8b0bef2a8cd4",
    "scrolled": true
   },
   "outputs": [
    {
     "data": {
      "text/html": [
       "<div>\n",
       "<style scoped>\n",
       "    .dataframe tbody tr th:only-of-type {\n",
       "        vertical-align: middle;\n",
       "    }\n",
       "\n",
       "    .dataframe tbody tr th {\n",
       "        vertical-align: top;\n",
       "    }\n",
       "\n",
       "    .dataframe thead tr th {\n",
       "        text-align: left;\n",
       "    }\n",
       "\n",
       "    .dataframe thead tr:last-of-type th {\n",
       "        text-align: right;\n",
       "    }\n",
       "</style>\n",
       "<table border=\"1\" class=\"dataframe\">\n",
       "  <thead>\n",
       "    <tr>\n",
       "      <th></th>\n",
       "      <th colspan=\"4\" halign=\"left\">num_Killed</th>\n",
       "      <th colspan=\"4\" halign=\"left\">num_Injured</th>\n",
       "    </tr>\n",
       "    <tr>\n",
       "      <th></th>\n",
       "      <th>sum</th>\n",
       "      <th>count</th>\n",
       "      <th>mean</th>\n",
       "      <th>max</th>\n",
       "      <th>sum</th>\n",
       "      <th>count</th>\n",
       "      <th>mean</th>\n",
       "      <th>max</th>\n",
       "    </tr>\n",
       "    <tr>\n",
       "      <th>State</th>\n",
       "      <th></th>\n",
       "      <th></th>\n",
       "      <th></th>\n",
       "      <th></th>\n",
       "      <th></th>\n",
       "      <th></th>\n",
       "      <th></th>\n",
       "      <th></th>\n",
       "    </tr>\n",
       "  </thead>\n",
       "  <tbody>\n",
       "    <tr>\n",
       "      <th>Alabama</th>\n",
       "      <td>46.0</td>\n",
       "      <td>46</td>\n",
       "      <td>1.000000</td>\n",
       "      <td>5.0</td>\n",
       "      <td>183.0</td>\n",
       "      <td>46</td>\n",
       "      <td>3.978261</td>\n",
       "      <td>12.0</td>\n",
       "    </tr>\n",
       "    <tr>\n",
       "      <th>Alaska</th>\n",
       "      <td>0.0</td>\n",
       "      <td>1</td>\n",
       "      <td>0.000000</td>\n",
       "      <td>0.0</td>\n",
       "      <td>6.0</td>\n",
       "      <td>1</td>\n",
       "      <td>6.000000</td>\n",
       "      <td>6.0</td>\n",
       "    </tr>\n",
       "    <tr>\n",
       "      <th>Arizona</th>\n",
       "      <td>47.0</td>\n",
       "      <td>27</td>\n",
       "      <td>1.740741</td>\n",
       "      <td>5.0</td>\n",
       "      <td>89.0</td>\n",
       "      <td>27</td>\n",
       "      <td>3.296296</td>\n",
       "      <td>7.0</td>\n",
       "    </tr>\n",
       "    <tr>\n",
       "      <th>Arkansas</th>\n",
       "      <td>20.0</td>\n",
       "      <td>18</td>\n",
       "      <td>1.111111</td>\n",
       "      <td>4.0</td>\n",
       "      <td>91.0</td>\n",
       "      <td>18</td>\n",
       "      <td>5.055556</td>\n",
       "      <td>25.0</td>\n",
       "    </tr>\n",
       "    <tr>\n",
       "      <th>California</th>\n",
       "      <td>236.0</td>\n",
       "      <td>223</td>\n",
       "      <td>1.058296</td>\n",
       "      <td>16.0</td>\n",
       "      <td>900.0</td>\n",
       "      <td>223</td>\n",
       "      <td>4.035874</td>\n",
       "      <td>19.0</td>\n",
       "    </tr>\n",
       "    <tr>\n",
       "      <th>Colorado</th>\n",
       "      <td>23.0</td>\n",
       "      <td>21</td>\n",
       "      <td>1.095238</td>\n",
       "      <td>3.0</td>\n",
       "      <td>76.0</td>\n",
       "      <td>21</td>\n",
       "      <td>3.619048</td>\n",
       "      <td>9.0</td>\n",
       "    </tr>\n",
       "    <tr>\n",
       "      <th>Connecticut</th>\n",
       "      <td>5.0</td>\n",
       "      <td>14</td>\n",
       "      <td>0.357143</td>\n",
       "      <td>2.0</td>\n",
       "      <td>72.0</td>\n",
       "      <td>14</td>\n",
       "      <td>5.142857</td>\n",
       "      <td>13.0</td>\n",
       "    </tr>\n",
       "    <tr>\n",
       "      <th>Delaware</th>\n",
       "      <td>9.0</td>\n",
       "      <td>10</td>\n",
       "      <td>0.900000</td>\n",
       "      <td>5.0</td>\n",
       "      <td>38.0</td>\n",
       "      <td>10</td>\n",
       "      <td>3.800000</td>\n",
       "      <td>6.0</td>\n",
       "    </tr>\n",
       "    <tr>\n",
       "      <th>District of Columbia</th>\n",
       "      <td>8.0</td>\n",
       "      <td>30</td>\n",
       "      <td>0.266667</td>\n",
       "      <td>2.0</td>\n",
       "      <td>136.0</td>\n",
       "      <td>30</td>\n",
       "      <td>4.533333</td>\n",
       "      <td>13.0</td>\n",
       "    </tr>\n",
       "    <tr>\n",
       "      <th>Florida</th>\n",
       "      <td>200.0</td>\n",
       "      <td>129</td>\n",
       "      <td>1.550388</td>\n",
       "      <td>50.0</td>\n",
       "      <td>558.0</td>\n",
       "      <td>129</td>\n",
       "      <td>4.325581</td>\n",
       "      <td>53.0</td>\n",
       "    </tr>\n",
       "    <tr>\n",
       "      <th>Georgia</th>\n",
       "      <td>84.0</td>\n",
       "      <td>76</td>\n",
       "      <td>1.105263</td>\n",
       "      <td>6.0</td>\n",
       "      <td>286.0</td>\n",
       "      <td>76</td>\n",
       "      <td>3.763158</td>\n",
       "      <td>10.0</td>\n",
       "    </tr>\n",
       "    <tr>\n",
       "      <th>Illinois</th>\n",
       "      <td>119.0</td>\n",
       "      <td>176</td>\n",
       "      <td>0.676136</td>\n",
       "      <td>6.0</td>\n",
       "      <td>741.0</td>\n",
       "      <td>176</td>\n",
       "      <td>4.210227</td>\n",
       "      <td>12.0</td>\n",
       "    </tr>\n",
       "    <tr>\n",
       "      <th>Indiana</th>\n",
       "      <td>48.0</td>\n",
       "      <td>52</td>\n",
       "      <td>0.923077</td>\n",
       "      <td>5.0</td>\n",
       "      <td>193.0</td>\n",
       "      <td>52</td>\n",
       "      <td>3.711538</td>\n",
       "      <td>9.0</td>\n",
       "    </tr>\n",
       "    <tr>\n",
       "      <th>Iowa</th>\n",
       "      <td>4.0</td>\n",
       "      <td>5</td>\n",
       "      <td>0.800000</td>\n",
       "      <td>2.0</td>\n",
       "      <td>18.0</td>\n",
       "      <td>5</td>\n",
       "      <td>3.600000</td>\n",
       "      <td>5.0</td>\n",
       "    </tr>\n",
       "    <tr>\n",
       "      <th>Kansas</th>\n",
       "      <td>30.0</td>\n",
       "      <td>17</td>\n",
       "      <td>1.764706</td>\n",
       "      <td>5.0</td>\n",
       "      <td>65.0</td>\n",
       "      <td>17</td>\n",
       "      <td>3.823529</td>\n",
       "      <td>14.0</td>\n",
       "    </tr>\n",
       "    <tr>\n",
       "      <th>Kentucky</th>\n",
       "      <td>30.0</td>\n",
       "      <td>26</td>\n",
       "      <td>1.153846</td>\n",
       "      <td>5.0</td>\n",
       "      <td>102.0</td>\n",
       "      <td>26</td>\n",
       "      <td>3.923077</td>\n",
       "      <td>14.0</td>\n",
       "    </tr>\n",
       "    <tr>\n",
       "      <th>Louisiana</th>\n",
       "      <td>74.0</td>\n",
       "      <td>80</td>\n",
       "      <td>0.925000</td>\n",
       "      <td>5.0</td>\n",
       "      <td>356.0</td>\n",
       "      <td>80</td>\n",
       "      <td>4.450000</td>\n",
       "      <td>19.0</td>\n",
       "    </tr>\n",
       "    <tr>\n",
       "      <th>Maine</th>\n",
       "      <td>9.0</td>\n",
       "      <td>2</td>\n",
       "      <td>4.500000</td>\n",
       "      <td>5.0</td>\n",
       "      <td>1.0</td>\n",
       "      <td>2</td>\n",
       "      <td>0.500000</td>\n",
       "      <td>1.0</td>\n",
       "    </tr>\n",
       "    <tr>\n",
       "      <th>Maryland</th>\n",
       "      <td>52.0</td>\n",
       "      <td>52</td>\n",
       "      <td>1.000000</td>\n",
       "      <td>5.0</td>\n",
       "      <td>198.0</td>\n",
       "      <td>52</td>\n",
       "      <td>3.807692</td>\n",
       "      <td>8.0</td>\n",
       "    </tr>\n",
       "    <tr>\n",
       "      <th>Massachusetts</th>\n",
       "      <td>6.0</td>\n",
       "      <td>15</td>\n",
       "      <td>0.400000</td>\n",
       "      <td>1.0</td>\n",
       "      <td>65.0</td>\n",
       "      <td>15</td>\n",
       "      <td>4.333333</td>\n",
       "      <td>7.0</td>\n",
       "    </tr>\n",
       "    <tr>\n",
       "      <th>Michigan</th>\n",
       "      <td>54.0</td>\n",
       "      <td>60</td>\n",
       "      <td>0.900000</td>\n",
       "      <td>6.0</td>\n",
       "      <td>242.0</td>\n",
       "      <td>60</td>\n",
       "      <td>4.033333</td>\n",
       "      <td>11.0</td>\n",
       "    </tr>\n",
       "    <tr>\n",
       "      <th>Minnesota</th>\n",
       "      <td>11.0</td>\n",
       "      <td>16</td>\n",
       "      <td>0.687500</td>\n",
       "      <td>4.0</td>\n",
       "      <td>70.0</td>\n",
       "      <td>16</td>\n",
       "      <td>4.375000</td>\n",
       "      <td>8.0</td>\n",
       "    </tr>\n",
       "    <tr>\n",
       "      <th>Mississippi</th>\n",
       "      <td>49.0</td>\n",
       "      <td>32</td>\n",
       "      <td>1.531250</td>\n",
       "      <td>8.0</td>\n",
       "      <td>107.0</td>\n",
       "      <td>32</td>\n",
       "      <td>3.343750</td>\n",
       "      <td>7.0</td>\n",
       "    </tr>\n",
       "    <tr>\n",
       "      <th>Missouri</th>\n",
       "      <td>64.0</td>\n",
       "      <td>65</td>\n",
       "      <td>0.984615</td>\n",
       "      <td>4.0</td>\n",
       "      <td>239.0</td>\n",
       "      <td>65</td>\n",
       "      <td>3.676923</td>\n",
       "      <td>8.0</td>\n",
       "    </tr>\n",
       "    <tr>\n",
       "      <th>Montana</th>\n",
       "      <td>9.0</td>\n",
       "      <td>3</td>\n",
       "      <td>3.000000</td>\n",
       "      <td>5.0</td>\n",
       "      <td>5.0</td>\n",
       "      <td>3</td>\n",
       "      <td>1.666667</td>\n",
       "      <td>3.0</td>\n",
       "    </tr>\n",
       "    <tr>\n",
       "      <th>Nebraska</th>\n",
       "      <td>6.0</td>\n",
       "      <td>7</td>\n",
       "      <td>0.857143</td>\n",
       "      <td>3.0</td>\n",
       "      <td>32.0</td>\n",
       "      <td>7</td>\n",
       "      <td>4.571429</td>\n",
       "      <td>6.0</td>\n",
       "    </tr>\n",
       "    <tr>\n",
       "      <th>Nevada</th>\n",
       "      <td>72.0</td>\n",
       "      <td>17</td>\n",
       "      <td>4.235294</td>\n",
       "      <td>59.0</td>\n",
       "      <td>497.0</td>\n",
       "      <td>17</td>\n",
       "      <td>29.235294</td>\n",
       "      <td>441.0</td>\n",
       "    </tr>\n",
       "    <tr>\n",
       "      <th>New Jersey</th>\n",
       "      <td>34.0</td>\n",
       "      <td>54</td>\n",
       "      <td>0.629630</td>\n",
       "      <td>4.0</td>\n",
       "      <td>216.0</td>\n",
       "      <td>54</td>\n",
       "      <td>4.000000</td>\n",
       "      <td>19.0</td>\n",
       "    </tr>\n",
       "    <tr>\n",
       "      <th>New Mexico</th>\n",
       "      <td>32.0</td>\n",
       "      <td>13</td>\n",
       "      <td>2.461538</td>\n",
       "      <td>5.0</td>\n",
       "      <td>30.0</td>\n",
       "      <td>13</td>\n",
       "      <td>2.307692</td>\n",
       "      <td>6.0</td>\n",
       "    </tr>\n",
       "    <tr>\n",
       "      <th>New York</th>\n",
       "      <td>46.0</td>\n",
       "      <td>79</td>\n",
       "      <td>0.582278</td>\n",
       "      <td>5.0</td>\n",
       "      <td>332.0</td>\n",
       "      <td>79</td>\n",
       "      <td>4.202532</td>\n",
       "      <td>9.0</td>\n",
       "    </tr>\n",
       "    <tr>\n",
       "      <th>North Carolina</th>\n",
       "      <td>46.0</td>\n",
       "      <td>53</td>\n",
       "      <td>0.867925</td>\n",
       "      <td>4.0</td>\n",
       "      <td>203.0</td>\n",
       "      <td>53</td>\n",
       "      <td>3.830189</td>\n",
       "      <td>8.0</td>\n",
       "    </tr>\n",
       "    <tr>\n",
       "      <th>Ohio</th>\n",
       "      <td>74.0</td>\n",
       "      <td>66</td>\n",
       "      <td>1.121212</td>\n",
       "      <td>8.0</td>\n",
       "      <td>263.0</td>\n",
       "      <td>66</td>\n",
       "      <td>3.984848</td>\n",
       "      <td>15.0</td>\n",
       "    </tr>\n",
       "    <tr>\n",
       "      <th>Oklahoma</th>\n",
       "      <td>22.0</td>\n",
       "      <td>21</td>\n",
       "      <td>1.047619</td>\n",
       "      <td>4.0</td>\n",
       "      <td>74.0</td>\n",
       "      <td>21</td>\n",
       "      <td>3.523810</td>\n",
       "      <td>6.0</td>\n",
       "    </tr>\n",
       "    <tr>\n",
       "      <th>Oregon</th>\n",
       "      <td>15.0</td>\n",
       "      <td>6</td>\n",
       "      <td>2.500000</td>\n",
       "      <td>10.0</td>\n",
       "      <td>26.0</td>\n",
       "      <td>6</td>\n",
       "      <td>4.333333</td>\n",
       "      <td>9.0</td>\n",
       "    </tr>\n",
       "    <tr>\n",
       "      <th>Pennsylvania</th>\n",
       "      <td>76.0</td>\n",
       "      <td>79</td>\n",
       "      <td>0.962025</td>\n",
       "      <td>11.0</td>\n",
       "      <td>310.0</td>\n",
       "      <td>79</td>\n",
       "      <td>3.924051</td>\n",
       "      <td>11.0</td>\n",
       "    </tr>\n",
       "    <tr>\n",
       "      <th>Rhode Island</th>\n",
       "      <td>1.0</td>\n",
       "      <td>4</td>\n",
       "      <td>0.250000</td>\n",
       "      <td>1.0</td>\n",
       "      <td>16.0</td>\n",
       "      <td>4</td>\n",
       "      <td>4.000000</td>\n",
       "      <td>5.0</td>\n",
       "    </tr>\n",
       "    <tr>\n",
       "      <th>South Carolina</th>\n",
       "      <td>50.0</td>\n",
       "      <td>39</td>\n",
       "      <td>1.282051</td>\n",
       "      <td>9.0</td>\n",
       "      <td>145.0</td>\n",
       "      <td>39</td>\n",
       "      <td>3.717949</td>\n",
       "      <td>8.0</td>\n",
       "    </tr>\n",
       "    <tr>\n",
       "      <th>South Dakota</th>\n",
       "      <td>10.0</td>\n",
       "      <td>2</td>\n",
       "      <td>5.000000</td>\n",
       "      <td>6.0</td>\n",
       "      <td>1.0</td>\n",
       "      <td>2</td>\n",
       "      <td>0.500000</td>\n",
       "      <td>1.0</td>\n",
       "    </tr>\n",
       "    <tr>\n",
       "      <th>Tennessee</th>\n",
       "      <td>54.0</td>\n",
       "      <td>77</td>\n",
       "      <td>0.701299</td>\n",
       "      <td>6.0</td>\n",
       "      <td>313.0</td>\n",
       "      <td>77</td>\n",
       "      <td>4.064935</td>\n",
       "      <td>10.0</td>\n",
       "    </tr>\n",
       "    <tr>\n",
       "      <th>Texas</th>\n",
       "      <td>198.0</td>\n",
       "      <td>115</td>\n",
       "      <td>1.721739</td>\n",
       "      <td>10.0</td>\n",
       "      <td>411.0</td>\n",
       "      <td>115</td>\n",
       "      <td>3.573913</td>\n",
       "      <td>18.0</td>\n",
       "    </tr>\n",
       "    <tr>\n",
       "      <th>Utah</th>\n",
       "      <td>9.0</td>\n",
       "      <td>3</td>\n",
       "      <td>3.000000</td>\n",
       "      <td>5.0</td>\n",
       "      <td>7.0</td>\n",
       "      <td>3</td>\n",
       "      <td>2.333333</td>\n",
       "      <td>6.0</td>\n",
       "    </tr>\n",
       "    <tr>\n",
       "      <th>Virginia</th>\n",
       "      <td>40.0</td>\n",
       "      <td>46</td>\n",
       "      <td>0.869565</td>\n",
       "      <td>6.0</td>\n",
       "      <td>188.0</td>\n",
       "      <td>46</td>\n",
       "      <td>4.086957</td>\n",
       "      <td>10.0</td>\n",
       "    </tr>\n",
       "    <tr>\n",
       "      <th>Washington</th>\n",
       "      <td>42.0</td>\n",
       "      <td>21</td>\n",
       "      <td>2.000000</td>\n",
       "      <td>5.0</td>\n",
       "      <td>58.0</td>\n",
       "      <td>21</td>\n",
       "      <td>2.761905</td>\n",
       "      <td>6.0</td>\n",
       "    </tr>\n",
       "    <tr>\n",
       "      <th>West Virginia</th>\n",
       "      <td>5.0</td>\n",
       "      <td>3</td>\n",
       "      <td>1.666667</td>\n",
       "      <td>4.0</td>\n",
       "      <td>9.0</td>\n",
       "      <td>3</td>\n",
       "      <td>3.000000</td>\n",
       "      <td>6.0</td>\n",
       "    </tr>\n",
       "    <tr>\n",
       "      <th>Wisconsin</th>\n",
       "      <td>15.0</td>\n",
       "      <td>14</td>\n",
       "      <td>1.071429</td>\n",
       "      <td>5.0</td>\n",
       "      <td>47.0</td>\n",
       "      <td>14</td>\n",
       "      <td>3.357143</td>\n",
       "      <td>5.0</td>\n",
       "    </tr>\n",
       "  </tbody>\n",
       "</table>\n",
       "</div>"
      ],
      "text/plain": [
       "                     num_Killed                       num_Injured        \\\n",
       "                            sum count      mean   max         sum count   \n",
       "State                                                                     \n",
       "Alabama                    46.0    46  1.000000   5.0       183.0    46   \n",
       "Alaska                      0.0     1  0.000000   0.0         6.0     1   \n",
       "Arizona                    47.0    27  1.740741   5.0        89.0    27   \n",
       "Arkansas                   20.0    18  1.111111   4.0        91.0    18   \n",
       "California                236.0   223  1.058296  16.0       900.0   223   \n",
       "Colorado                   23.0    21  1.095238   3.0        76.0    21   \n",
       "Connecticut                 5.0    14  0.357143   2.0        72.0    14   \n",
       "Delaware                    9.0    10  0.900000   5.0        38.0    10   \n",
       "District of Columbia        8.0    30  0.266667   2.0       136.0    30   \n",
       "Florida                   200.0   129  1.550388  50.0       558.0   129   \n",
       "Georgia                    84.0    76  1.105263   6.0       286.0    76   \n",
       "Illinois                  119.0   176  0.676136   6.0       741.0   176   \n",
       "Indiana                    48.0    52  0.923077   5.0       193.0    52   \n",
       "Iowa                        4.0     5  0.800000   2.0        18.0     5   \n",
       "Kansas                     30.0    17  1.764706   5.0        65.0    17   \n",
       "Kentucky                   30.0    26  1.153846   5.0       102.0    26   \n",
       "Louisiana                  74.0    80  0.925000   5.0       356.0    80   \n",
       "Maine                       9.0     2  4.500000   5.0         1.0     2   \n",
       "Maryland                   52.0    52  1.000000   5.0       198.0    52   \n",
       "Massachusetts               6.0    15  0.400000   1.0        65.0    15   \n",
       "Michigan                   54.0    60  0.900000   6.0       242.0    60   \n",
       "Minnesota                  11.0    16  0.687500   4.0        70.0    16   \n",
       "Mississippi                49.0    32  1.531250   8.0       107.0    32   \n",
       "Missouri                   64.0    65  0.984615   4.0       239.0    65   \n",
       "Montana                     9.0     3  3.000000   5.0         5.0     3   \n",
       "Nebraska                    6.0     7  0.857143   3.0        32.0     7   \n",
       "Nevada                     72.0    17  4.235294  59.0       497.0    17   \n",
       "New Jersey                 34.0    54  0.629630   4.0       216.0    54   \n",
       "New Mexico                 32.0    13  2.461538   5.0        30.0    13   \n",
       "New York                   46.0    79  0.582278   5.0       332.0    79   \n",
       "North Carolina             46.0    53  0.867925   4.0       203.0    53   \n",
       "Ohio                       74.0    66  1.121212   8.0       263.0    66   \n",
       "Oklahoma                   22.0    21  1.047619   4.0        74.0    21   \n",
       "Oregon                     15.0     6  2.500000  10.0        26.0     6   \n",
       "Pennsylvania               76.0    79  0.962025  11.0       310.0    79   \n",
       "Rhode Island                1.0     4  0.250000   1.0        16.0     4   \n",
       "South Carolina             50.0    39  1.282051   9.0       145.0    39   \n",
       "South Dakota               10.0     2  5.000000   6.0         1.0     2   \n",
       "Tennessee                  54.0    77  0.701299   6.0       313.0    77   \n",
       "Texas                     198.0   115  1.721739  10.0       411.0   115   \n",
       "Utah                        9.0     3  3.000000   5.0         7.0     3   \n",
       "Virginia                   40.0    46  0.869565   6.0       188.0    46   \n",
       "Washington                 42.0    21  2.000000   5.0        58.0    21   \n",
       "West Virginia               5.0     3  1.666667   4.0         9.0     3   \n",
       "Wisconsin                  15.0    14  1.071429   5.0        47.0    14   \n",
       "\n",
       "                                        \n",
       "                           mean    max  \n",
       "State                                   \n",
       "Alabama                3.978261   12.0  \n",
       "Alaska                 6.000000    6.0  \n",
       "Arizona                3.296296    7.0  \n",
       "Arkansas               5.055556   25.0  \n",
       "California             4.035874   19.0  \n",
       "Colorado               3.619048    9.0  \n",
       "Connecticut            5.142857   13.0  \n",
       "Delaware               3.800000    6.0  \n",
       "District of Columbia   4.533333   13.0  \n",
       "Florida                4.325581   53.0  \n",
       "Georgia                3.763158   10.0  \n",
       "Illinois               4.210227   12.0  \n",
       "Indiana                3.711538    9.0  \n",
       "Iowa                   3.600000    5.0  \n",
       "Kansas                 3.823529   14.0  \n",
       "Kentucky               3.923077   14.0  \n",
       "Louisiana              4.450000   19.0  \n",
       "Maine                  0.500000    1.0  \n",
       "Maryland               3.807692    8.0  \n",
       "Massachusetts          4.333333    7.0  \n",
       "Michigan               4.033333   11.0  \n",
       "Minnesota              4.375000    8.0  \n",
       "Mississippi            3.343750    7.0  \n",
       "Missouri               3.676923    8.0  \n",
       "Montana                1.666667    3.0  \n",
       "Nebraska               4.571429    6.0  \n",
       "Nevada                29.235294  441.0  \n",
       "New Jersey             4.000000   19.0  \n",
       "New Mexico             2.307692    6.0  \n",
       "New York               4.202532    9.0  \n",
       "North Carolina         3.830189    8.0  \n",
       "Ohio                   3.984848   15.0  \n",
       "Oklahoma               3.523810    6.0  \n",
       "Oregon                 4.333333    9.0  \n",
       "Pennsylvania           3.924051   11.0  \n",
       "Rhode Island           4.000000    5.0  \n",
       "South Carolina         3.717949    8.0  \n",
       "South Dakota           0.500000    1.0  \n",
       "Tennessee              4.064935   10.0  \n",
       "Texas                  3.573913   18.0  \n",
       "Utah                   2.333333    6.0  \n",
       "Virginia               4.086957   10.0  \n",
       "Washington             2.761905    6.0  \n",
       "West Virginia          3.000000    6.0  \n",
       "Wisconsin              3.357143    5.0  "
      ]
     },
     "execution_count": 59,
     "metadata": {},
     "output_type": "execute_result"
    }
   ],
   "source": [
    "mass_shooting_data.groupby('State')['num_Killed','num_Injured'].agg(['sum','count','mean','max'])"
   ]
  },
  {
   "cell_type": "markdown",
   "metadata": {},
   "source": [
    "### Analysis"
   ]
  },
  {
   "cell_type": "markdown",
   "metadata": {
    "colab_type": "text",
    "id": "TuFX1iPkJMR6"
   },
   "source": [
    "**Graph 1**: This visualization visualizes the distribution of mass shootings in the United States. This helps us in identifying the states and locations where gun violence is relatively higher. Key variable of interest: num_Killed, Latitude, Longitude, City.\n",
    "\n",
    "We can clearly see that mass shootings <b><i>incidences are relatively higher in the eastern states compared to states lying on the west side</b></i>."
   ]
  },
  {
   "cell_type": "code",
   "execution_count": 64,
   "metadata": {},
   "outputs": [
    {
     "data": {
      "text/plain": [
       "<IPython.core.display.Image object>"
      ]
     },
     "execution_count": 64,
     "metadata": {},
     "output_type": "execute_result"
    }
   ],
   "source": [
    "Image('https://raw.githubusercontent.com/pragyansharma24/Gun-Violence-in-United-States/master/statewise_massShoot.png', width = 1300, height = 700)"
   ]
  },
  {
   "cell_type": "markdown",
   "metadata": {},
   "source": [
    "**Graph 2**: Visualization for gun death rate over the years compared for atleast 1 law across US states"
   ]
  },
  {
   "cell_type": "code",
   "execution_count": 73,
   "metadata": {},
   "outputs": [
    {
     "data": {
      "text/plain": [
       "IPython.core.display.Image"
      ]
     },
     "execution_count": 73,
     "metadata": {},
     "output_type": "execute_result"
    }
   ],
   "source": [
    "Image"
   ]
  },
  {
   "cell_type": "markdown",
   "metadata": {},
   "source": [
    "**Graph 3**: This graph indicates the sum of death rate per 100k people and compares that for US states with and without assault weapons ban laws. Key variables of interest are - Firearms Death Rate per 100,000 & Assault Weapons Ban.\n",
    "\n",
    "We can clearly see that the ***sum of gun death rate per 100k people is significantly higher for states with no gun laws related to assault weapons***.  "
   ]
  },
  {
   "cell_type": "code",
   "execution_count": 74,
   "metadata": {},
   "outputs": [
    {
     "data": {
      "text/plain": [
       "<IPython.core.display.Image object>"
      ]
     },
     "execution_count": 74,
     "metadata": {},
     "output_type": "execute_result"
    }
   ],
   "source": [
    "Image('https://raw.githubusercontent.com/pragyansharma24/Gun-Violence-in-United-States/master/AssaultBanDeathrate.png', width = 1300, height = 700)"
   ]
  },
  {
   "cell_type": "markdown",
   "metadata": {},
   "source": [
    "**Graph 4**: This graph indicates the sum of death rate per 100k people and compares that for US states with and without child access prevention gun laws. Key variables of interest are - Firearms Death Rate per 100,000 & Child Access Prevention Firearm Law.\n",
    "\n",
    "We can see that there is ***no significant difference in the sum of gun death rate per 100k people across states with/ without gun laws related to child access prevention firearm laws***.  "
   ]
  },
  {
   "cell_type": "code",
   "execution_count": 62,
   "metadata": {},
   "outputs": [
    {
     "data": {
      "text/plain": [
       "IPython.core.display.Image"
      ]
     },
     "execution_count": 62,
     "metadata": {},
     "output_type": "execute_result"
    }
   ],
   "source": [
    "Image('https://raw.githubusercontent.com/pragyansharma24/Gun-Violence-in-United-States/master/ChildPreventionDeathRate.png', width = 1300, height = 700)"
   ]
  },
  {
   "cell_type": "markdown",
   "metadata": {},
   "source": [
    "**Graph 5**: This graph indicates the sum of death rate per 100k people and compares that for US states with and without safe storage or gun locks laws. Key variables of interest are - Firearms Death Rate per 100,000 & Safe Storage or Gun Lock Requirement.\n",
    "\n",
    "We can clearly see that the ***sum of gun death rate per 100k people is significantly higher for states with no gun laws related to Safe Storage or Gun Lock Requirement***.  "
   ]
  },
  {
   "cell_type": "code",
   "execution_count": 78,
   "metadata": {},
   "outputs": [
    {
     "data": {
      "text/plain": [
       "<IPython.core.display.Image object>"
      ]
     },
     "execution_count": 78,
     "metadata": {},
     "output_type": "execute_result"
    }
   ],
   "source": [
    "Image('https://raw.githubusercontent.com/pragyansharma24/Gun-Violence-in-United-States/master/SafeStorageDeathRate.png', width = 1300, height = 700)"
   ]
  },
  {
   "cell_type": "markdown",
   "metadata": {},
   "source": [
    "### The argument that we are trying to present here is that "
   ]
  },
  {
   "cell_type": "code",
   "execution_count": 79,
   "metadata": {},
   "outputs": [
    {
     "data": {
      "text/plain": [
       "IPython.core.display.Image"
      ]
     },
     "execution_count": 79,
     "metadata": {},
     "output_type": "execute_result"
    }
   ],
   "source": [
    "# Dashboard\n",
    "Image"
   ]
  },
  {
   "cell_type": "markdown",
   "metadata": {
    "colab_type": "text",
    "id": "hUvWJonA8JLQ"
   },
   "source": [
    "---"
   ]
  },
  {
   "cell_type": "code",
   "execution_count": null,
   "metadata": {},
   "outputs": [],
   "source": []
  }
 ],
 "metadata": {
  "kernelspec": {
   "display_name": "Python 2",
   "language": "python",
   "name": "python2"
  },
  "language_info": {
   "codemirror_mode": {
    "name": "ipython",
    "version": 2
   },
   "file_extension": ".py",
   "mimetype": "text/x-python",
   "name": "python",
   "nbconvert_exporter": "python",
   "pygments_lexer": "ipython2",
   "version": "2.7.15"
  }
 },
 "nbformat": 4,
 "nbformat_minor": 2
}
